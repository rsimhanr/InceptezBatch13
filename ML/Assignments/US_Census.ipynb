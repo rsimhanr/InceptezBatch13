{
 "cells": [
  {
   "cell_type": "code",
   "execution_count": 1,
   "metadata": {},
   "outputs": [],
   "source": [
    "import pandas as pd\n",
    "import seaborn as sns\n",
    "import matplotlib.pyplot as plt\n",
    "import numpy as np\n",
    "%matplotlib inline"
   ]
  },
  {
   "cell_type": "code",
   "execution_count": 172,
   "metadata": {},
   "outputs": [],
   "source": [
    "df = pd.read_csv('adult.csv')"
   ]
  },
  {
   "cell_type": "code",
   "execution_count": 173,
   "metadata": {},
   "outputs": [
    {
     "data": {
      "text/html": [
       "<div>\n",
       "<style scoped>\n",
       "    .dataframe tbody tr th:only-of-type {\n",
       "        vertical-align: middle;\n",
       "    }\n",
       "\n",
       "    .dataframe tbody tr th {\n",
       "        vertical-align: top;\n",
       "    }\n",
       "\n",
       "    .dataframe thead th {\n",
       "        text-align: right;\n",
       "    }\n",
       "</style>\n",
       "<table border=\"1\" class=\"dataframe\">\n",
       "  <thead>\n",
       "    <tr style=\"text-align: right;\">\n",
       "      <th></th>\n",
       "      <th>age</th>\n",
       "      <th>workclass</th>\n",
       "      <th>fnlwgt</th>\n",
       "      <th>education</th>\n",
       "      <th>education_num</th>\n",
       "      <th>marital_status</th>\n",
       "      <th>occupation</th>\n",
       "      <th>relationship</th>\n",
       "      <th>race</th>\n",
       "      <th>sex</th>\n",
       "      <th>capital_gain</th>\n",
       "      <th>capital_loss</th>\n",
       "      <th>hours_per_week</th>\n",
       "      <th>native_country</th>\n",
       "      <th>income</th>\n",
       "    </tr>\n",
       "  </thead>\n",
       "  <tbody>\n",
       "    <tr>\n",
       "      <th>0</th>\n",
       "      <td>39</td>\n",
       "      <td>State-gov</td>\n",
       "      <td>77516</td>\n",
       "      <td>Bachelors</td>\n",
       "      <td>13</td>\n",
       "      <td>Never-married</td>\n",
       "      <td>Adm-clerical</td>\n",
       "      <td>Not-in-family</td>\n",
       "      <td>White</td>\n",
       "      <td>Male</td>\n",
       "      <td>2174</td>\n",
       "      <td>0</td>\n",
       "      <td>40</td>\n",
       "      <td>United-States</td>\n",
       "      <td>&lt;=50K</td>\n",
       "    </tr>\n",
       "    <tr>\n",
       "      <th>1</th>\n",
       "      <td>50</td>\n",
       "      <td>Self-emp-not-inc</td>\n",
       "      <td>83311</td>\n",
       "      <td>Bachelors</td>\n",
       "      <td>13</td>\n",
       "      <td>Married-civ-spouse</td>\n",
       "      <td>Exec-managerial</td>\n",
       "      <td>Husband</td>\n",
       "      <td>White</td>\n",
       "      <td>Male</td>\n",
       "      <td>0</td>\n",
       "      <td>0</td>\n",
       "      <td>13</td>\n",
       "      <td>United-States</td>\n",
       "      <td>&lt;=50K</td>\n",
       "    </tr>\n",
       "    <tr>\n",
       "      <th>2</th>\n",
       "      <td>38</td>\n",
       "      <td>Private</td>\n",
       "      <td>215646</td>\n",
       "      <td>HS-grad</td>\n",
       "      <td>9</td>\n",
       "      <td>Divorced</td>\n",
       "      <td>Handlers-cleaners</td>\n",
       "      <td>Not-in-family</td>\n",
       "      <td>White</td>\n",
       "      <td>Male</td>\n",
       "      <td>0</td>\n",
       "      <td>0</td>\n",
       "      <td>40</td>\n",
       "      <td>United-States</td>\n",
       "      <td>&lt;=50K</td>\n",
       "    </tr>\n",
       "    <tr>\n",
       "      <th>3</th>\n",
       "      <td>53</td>\n",
       "      <td>Private</td>\n",
       "      <td>234721</td>\n",
       "      <td>11th</td>\n",
       "      <td>7</td>\n",
       "      <td>Married-civ-spouse</td>\n",
       "      <td>Handlers-cleaners</td>\n",
       "      <td>Husband</td>\n",
       "      <td>Black</td>\n",
       "      <td>#NAME?</td>\n",
       "      <td>0</td>\n",
       "      <td>0</td>\n",
       "      <td>40</td>\n",
       "      <td>United-States</td>\n",
       "      <td>&lt;=50K</td>\n",
       "    </tr>\n",
       "    <tr>\n",
       "      <th>4</th>\n",
       "      <td>28</td>\n",
       "      <td>Private</td>\n",
       "      <td>338409</td>\n",
       "      <td>Bachelors</td>\n",
       "      <td>13</td>\n",
       "      <td>Married-civ-spouse</td>\n",
       "      <td>Prof-specialty</td>\n",
       "      <td>Wife</td>\n",
       "      <td>Black</td>\n",
       "      <td>Female</td>\n",
       "      <td>0</td>\n",
       "      <td>0</td>\n",
       "      <td>40</td>\n",
       "      <td>Cuba</td>\n",
       "      <td>&lt;=50K</td>\n",
       "    </tr>\n",
       "  </tbody>\n",
       "</table>\n",
       "</div>"
      ],
      "text/plain": [
       "  age         workclass  fnlwgt  education education_num      marital_status  \\\n",
       "0  39         State-gov   77516  Bachelors            13       Never-married   \n",
       "1  50  Self-emp-not-inc   83311  Bachelors            13  Married-civ-spouse   \n",
       "2  38           Private  215646    HS-grad             9            Divorced   \n",
       "3  53           Private  234721       11th             7  Married-civ-spouse   \n",
       "4  28           Private  338409  Bachelors            13  Married-civ-spouse   \n",
       "\n",
       "          occupation   relationship   race     sex  capital_gain  \\\n",
       "0       Adm-clerical  Not-in-family  White    Male          2174   \n",
       "1    Exec-managerial        Husband  White    Male             0   \n",
       "2  Handlers-cleaners  Not-in-family  White    Male             0   \n",
       "3  Handlers-cleaners        Husband  Black  #NAME?             0   \n",
       "4     Prof-specialty           Wife  Black  Female             0   \n",
       "\n",
       "   capital_loss  hours_per_week native_country income  \n",
       "0             0              40  United-States  <=50K  \n",
       "1             0              13  United-States  <=50K  \n",
       "2             0              40  United-States  <=50K  \n",
       "3             0              40  United-States  <=50K  \n",
       "4             0              40           Cuba  <=50K  "
      ]
     },
     "execution_count": 173,
     "metadata": {},
     "output_type": "execute_result"
    }
   ],
   "source": [
    "df.head()"
   ]
  },
  {
   "cell_type": "code",
   "execution_count": 87,
   "metadata": {},
   "outputs": [
    {
     "name": "stdout",
     "output_type": "stream",
     "text": [
      "<class 'pandas.core.frame.DataFrame'>\n",
      "RangeIndex: 5000 entries, 0 to 4999\n",
      "Data columns (total 15 columns):\n",
      "age               5000 non-null object\n",
      "workclass         5000 non-null object\n",
      "fnlwgt            5000 non-null object\n",
      "education         5000 non-null object\n",
      "education_num     5000 non-null object\n",
      "marital_status    5000 non-null object\n",
      "occupation        5000 non-null object\n",
      "relationship      5000 non-null object\n",
      "race              5000 non-null object\n",
      "sex               5000 non-null object\n",
      "capital_gain      5000 non-null int64\n",
      "capital_loss      5000 non-null int64\n",
      "hours_per_week    5000 non-null int64\n",
      "native_country    5000 non-null object\n",
      "income            5000 non-null object\n",
      "dtypes: int64(3), object(12)\n",
      "memory usage: 351.6+ KB\n"
     ]
    }
   ],
   "source": [
    "df.info()"
   ]
  },
  {
   "cell_type": "code",
   "execution_count": 88,
   "metadata": {},
   "outputs": [
    {
     "data": {
      "text/plain": [
       "age               object\n",
       "workclass         object\n",
       "fnlwgt            object\n",
       "education         object\n",
       "education_num     object\n",
       "marital_status    object\n",
       "occupation        object\n",
       "relationship      object\n",
       "race              object\n",
       "sex               object\n",
       "capital_gain       int64\n",
       "capital_loss       int64\n",
       "hours_per_week     int64\n",
       "native_country    object\n",
       "income            object\n",
       "dtype: object"
      ]
     },
     "execution_count": 88,
     "metadata": {},
     "output_type": "execute_result"
    }
   ],
   "source": [
    "df.dtypes"
   ]
  },
  {
   "cell_type": "code",
   "execution_count": 174,
   "metadata": {},
   "outputs": [],
   "source": [
    "columns = df.columns"
   ]
  },
  {
   "cell_type": "code",
   "execution_count": 175,
   "metadata": {},
   "outputs": [
    {
     "data": {
      "text/plain": [
       "Index(['age', 'workclass', 'fnlwgt', 'education', 'education_num',\n",
       "       'marital_status', 'occupation', 'relationship', 'race', 'sex',\n",
       "       'capital_gain', 'capital_loss', 'hours_per_week', 'native_country',\n",
       "       'income'],\n",
       "      dtype='object')"
      ]
     },
     "execution_count": 175,
     "metadata": {},
     "output_type": "execute_result"
    }
   ],
   "source": [
    "columns"
   ]
  },
  {
   "cell_type": "code",
   "execution_count": 176,
   "metadata": {},
   "outputs": [],
   "source": [
    "df = pd.DataFrame(np.where((df == '#NAME?'),np.nan,df))"
   ]
  },
  {
   "cell_type": "code",
   "execution_count": 177,
   "metadata": {},
   "outputs": [],
   "source": [
    "df = pd.DataFrame(np.where((df == '?'),np.nan,df))"
   ]
  },
  {
   "cell_type": "code",
   "execution_count": 178,
   "metadata": {},
   "outputs": [],
   "source": [
    "df.columns = columns"
   ]
  },
  {
   "cell_type": "code",
   "execution_count": 179,
   "metadata": {},
   "outputs": [
    {
     "data": {
      "text/plain": [
       "age                48\n",
       "workclass         331\n",
       "fnlwgt            107\n",
       "education          57\n",
       "education_num      57\n",
       "marital_status      0\n",
       "occupation        331\n",
       "relationship        0\n",
       "race              264\n",
       "sex                47\n",
       "capital_gain        0\n",
       "capital_loss        0\n",
       "hours_per_week      0\n",
       "native_country     97\n",
       "income              0\n",
       "dtype: int64"
      ]
     },
     "execution_count": 179,
     "metadata": {},
     "output_type": "execute_result"
    }
   ],
   "source": [
    "df.isna().sum()"
   ]
  },
  {
   "cell_type": "code",
   "execution_count": 180,
   "metadata": {},
   "outputs": [],
   "source": [
    "df = df.dropna(subset=['fnlwgt'])"
   ]
  },
  {
   "cell_type": "code",
   "execution_count": 181,
   "metadata": {},
   "outputs": [
    {
     "data": {
      "text/plain": [
       "age                47\n",
       "workclass         322\n",
       "fnlwgt              0\n",
       "education          57\n",
       "education_num      57\n",
       "marital_status      0\n",
       "occupation        322\n",
       "relationship        0\n",
       "race              256\n",
       "sex                47\n",
       "capital_gain        0\n",
       "capital_loss        0\n",
       "hours_per_week      0\n",
       "native_country     91\n",
       "income              0\n",
       "dtype: int64"
      ]
     },
     "execution_count": 181,
     "metadata": {},
     "output_type": "execute_result"
    }
   ],
   "source": [
    "df.isna().sum()"
   ]
  },
  {
   "cell_type": "code",
   "execution_count": 182,
   "metadata": {},
   "outputs": [],
   "source": [
    "df = df.drop(['education','race','native_country'],axis=1)"
   ]
  },
  {
   "cell_type": "code",
   "execution_count": 183,
   "metadata": {},
   "outputs": [
    {
     "name": "stdout",
     "output_type": "stream",
     "text": [
      "<class 'pandas.core.frame.DataFrame'>\n",
      "Int64Index: 4893 entries, 0 to 4999\n",
      "Data columns (total 12 columns):\n",
      "age               4846 non-null object\n",
      "workclass         4571 non-null object\n",
      "fnlwgt            4893 non-null object\n",
      "education_num     4836 non-null object\n",
      "marital_status    4893 non-null object\n",
      "occupation        4571 non-null object\n",
      "relationship      4893 non-null object\n",
      "sex               4846 non-null object\n",
      "capital_gain      4893 non-null object\n",
      "capital_loss      4893 non-null object\n",
      "hours_per_week    4893 non-null object\n",
      "income            4893 non-null object\n",
      "dtypes: object(12)\n",
      "memory usage: 267.6+ KB\n"
     ]
    }
   ],
   "source": [
    "df.info()"
   ]
  },
  {
   "cell_type": "code",
   "execution_count": 184,
   "metadata": {},
   "outputs": [
    {
     "data": {
      "text/plain": [
       "age               object\n",
       "workclass         object\n",
       "fnlwgt            object\n",
       "education_num     object\n",
       "marital_status    object\n",
       "occupation        object\n",
       "relationship      object\n",
       "sex               object\n",
       "capital_gain      object\n",
       "capital_loss      object\n",
       "hours_per_week    object\n",
       "income            object\n",
       "dtype: object"
      ]
     },
     "execution_count": 184,
     "metadata": {},
     "output_type": "execute_result"
    }
   ],
   "source": [
    "df.dtypes"
   ]
  },
  {
   "cell_type": "code",
   "execution_count": 185,
   "metadata": {},
   "outputs": [
    {
     "data": {
      "text/plain": [
       "38.58728848534874"
      ]
     },
     "execution_count": 185,
     "metadata": {},
     "output_type": "execute_result"
    }
   ],
   "source": [
    "df['age'].dropna().astype('int').mean()"
   ]
  },
  {
   "cell_type": "code",
   "execution_count": 186,
   "metadata": {},
   "outputs": [],
   "source": [
    "df['age']=df['age'].fillna(df['age'].dropna().astype('int').mean())"
   ]
  },
  {
   "cell_type": "code",
   "execution_count": 187,
   "metadata": {},
   "outputs": [
    {
     "data": {
      "text/plain": [
       "age                 0\n",
       "workclass         322\n",
       "fnlwgt              0\n",
       "education_num      57\n",
       "marital_status      0\n",
       "occupation        322\n",
       "relationship        0\n",
       "sex                47\n",
       "capital_gain        0\n",
       "capital_loss        0\n",
       "hours_per_week      0\n",
       "income              0\n",
       "dtype: int64"
      ]
     },
     "execution_count": 187,
     "metadata": {},
     "output_type": "execute_result"
    }
   ],
   "source": [
    "df.isna().sum()"
   ]
  },
  {
   "cell_type": "code",
   "execution_count": 188,
   "metadata": {},
   "outputs": [],
   "source": [
    "df['age'] = df['age'].astype('int')"
   ]
  },
  {
   "cell_type": "code",
   "execution_count": 189,
   "metadata": {},
   "outputs": [
    {
     "data": {
      "text/plain": [
       "age                int32\n",
       "workclass         object\n",
       "fnlwgt            object\n",
       "education_num     object\n",
       "marital_status    object\n",
       "occupation        object\n",
       "relationship      object\n",
       "sex               object\n",
       "capital_gain      object\n",
       "capital_loss      object\n",
       "hours_per_week    object\n",
       "income            object\n",
       "dtype: object"
      ]
     },
     "execution_count": 189,
     "metadata": {},
     "output_type": "execute_result"
    }
   ],
   "source": [
    "df.dtypes"
   ]
  },
  {
   "cell_type": "code",
   "execution_count": 190,
   "metadata": {},
   "outputs": [],
   "source": [
    "df['workclass'] = df['workclass'].fillna('others')"
   ]
  },
  {
   "cell_type": "code",
   "execution_count": 191,
   "metadata": {},
   "outputs": [
    {
     "data": {
      "text/plain": [
       "age                 0\n",
       "workclass           0\n",
       "fnlwgt              0\n",
       "education_num      57\n",
       "marital_status      0\n",
       "occupation        322\n",
       "relationship        0\n",
       "sex                47\n",
       "capital_gain        0\n",
       "capital_loss        0\n",
       "hours_per_week      0\n",
       "income              0\n",
       "dtype: int64"
      ]
     },
     "execution_count": 191,
     "metadata": {},
     "output_type": "execute_result"
    }
   ],
   "source": [
    "df.isna().sum()"
   ]
  },
  {
   "cell_type": "code",
   "execution_count": 192,
   "metadata": {},
   "outputs": [
    {
     "data": {
      "text/plain": [
       "9     1560\n",
       "10    1088\n",
       "13     810\n",
       "14     242\n",
       "11     210\n",
       "7      196\n",
       "12     160\n",
       "6      141\n",
       "4       94\n",
       "15      84\n",
       "5       73\n",
       "16      54\n",
       "8       53\n",
       "3       42\n",
       "2       22\n",
       "1        7\n",
       "Name: education_num, dtype: int64"
      ]
     },
     "execution_count": 192,
     "metadata": {},
     "output_type": "execute_result"
    }
   ],
   "source": [
    "df['education_num'].value_counts()"
   ]
  },
  {
   "cell_type": "code",
   "execution_count": 193,
   "metadata": {},
   "outputs": [],
   "source": [
    "df['education_num'] = df['education_num'].fillna('0')"
   ]
  },
  {
   "cell_type": "code",
   "execution_count": 194,
   "metadata": {},
   "outputs": [
    {
     "data": {
      "text/plain": [
       "age                 0\n",
       "workclass           0\n",
       "fnlwgt              0\n",
       "education_num       0\n",
       "marital_status      0\n",
       "occupation        322\n",
       "relationship        0\n",
       "sex                47\n",
       "capital_gain        0\n",
       "capital_loss        0\n",
       "hours_per_week      0\n",
       "income              0\n",
       "dtype: int64"
      ]
     },
     "execution_count": 194,
     "metadata": {},
     "output_type": "execute_result"
    }
   ],
   "source": [
    "df.isna().sum()"
   ]
  },
  {
   "cell_type": "code",
   "execution_count": 195,
   "metadata": {},
   "outputs": [],
   "source": [
    "df['occupation'] = df['occupation'].fillna('others')"
   ]
  },
  {
   "cell_type": "code",
   "execution_count": 196,
   "metadata": {},
   "outputs": [
    {
     "data": {
      "text/plain": [
       "age                0\n",
       "workclass          0\n",
       "fnlwgt             0\n",
       "education_num      0\n",
       "marital_status     0\n",
       "occupation         0\n",
       "relationship       0\n",
       "sex               47\n",
       "capital_gain       0\n",
       "capital_loss       0\n",
       "hours_per_week     0\n",
       "income             0\n",
       "dtype: int64"
      ]
     },
     "execution_count": 196,
     "metadata": {},
     "output_type": "execute_result"
    }
   ],
   "source": [
    "df.isna().sum()"
   ]
  },
  {
   "cell_type": "code",
   "execution_count": 197,
   "metadata": {},
   "outputs": [
    {
     "data": {
      "text/plain": [
       "Husband           1958\n",
       "Not-in-family     1273\n",
       "Own-child          750\n",
       "Unmarried          530\n",
       "Wife               238\n",
       "Other-relative     144\n",
       "Name: relationship, dtype: int64"
      ]
     },
     "execution_count": 197,
     "metadata": {},
     "output_type": "execute_result"
    }
   ],
   "source": [
    "df['relationship'].value_counts()"
   ]
  },
  {
   "cell_type": "code",
   "execution_count": 198,
   "metadata": {},
   "outputs": [],
   "source": [
    "def encode_relationship(cols):\n",
    "    rel = cols[0]\n",
    "    if rel == 'Husband':\n",
    "        return(1)\n",
    "    elif rel == 'Wife':\n",
    "        return(2)\n",
    "    elif rel == 'Unmarried':\n",
    "        return(3)\n",
    "    elif rel == 'Not-in-family':\n",
    "        return(4)\n",
    "    elif rel == 'Own-child':\n",
    "        return(5)\n",
    "    elif rel == 'Other-relative':\n",
    "        return(6)"
   ]
  },
  {
   "cell_type": "code",
   "execution_count": 202,
   "metadata": {},
   "outputs": [],
   "source": [
    "df['relationship'] = df[['relationship']].apply(encode_relationship,axis=1)"
   ]
  },
  {
   "cell_type": "code",
   "execution_count": 203,
   "metadata": {},
   "outputs": [
    {
     "data": {
      "text/plain": [
       "1    1958\n",
       "4    1273\n",
       "5     750\n",
       "3     530\n",
       "2     238\n",
       "6     144\n",
       "Name: relationship, dtype: int64"
      ]
     },
     "execution_count": 203,
     "metadata": {},
     "output_type": "execute_result"
    }
   ],
   "source": [
    "df['relationship'].value_counts()"
   ]
  },
  {
   "cell_type": "code",
   "execution_count": 204,
   "metadata": {},
   "outputs": [
    {
     "data": {
      "text/plain": [
       "Male      3259\n",
       "Female    1587\n",
       "Name: sex, dtype: int64"
      ]
     },
     "execution_count": 204,
     "metadata": {},
     "output_type": "execute_result"
    }
   ],
   "source": [
    "df['sex'].value_counts()"
   ]
  },
  {
   "cell_type": "code",
   "execution_count": 210,
   "metadata": {},
   "outputs": [],
   "source": [
    "df['sex'] = np.where((df['relationship'] == 1) & df['sex'].isna(),'Male',df['sex'])"
   ]
  },
  {
   "cell_type": "code",
   "execution_count": 211,
   "metadata": {},
   "outputs": [
    {
     "data": {
      "text/plain": [
       "age                0\n",
       "workclass          0\n",
       "fnlwgt             0\n",
       "education_num      0\n",
       "marital_status     0\n",
       "occupation         0\n",
       "relationship       0\n",
       "sex               24\n",
       "capital_gain       0\n",
       "capital_loss       0\n",
       "hours_per_week     0\n",
       "income             0\n",
       "dtype: int64"
      ]
     },
     "execution_count": 211,
     "metadata": {},
     "output_type": "execute_result"
    }
   ],
   "source": [
    "df.isna().sum()"
   ]
  },
  {
   "cell_type": "code",
   "execution_count": 212,
   "metadata": {},
   "outputs": [],
   "source": [
    "df['sex'] = np.where((df['relationship'] == 2) & df['sex'].isna(),'Female',df['sex'])"
   ]
  },
  {
   "cell_type": "code",
   "execution_count": 213,
   "metadata": {},
   "outputs": [
    {
     "data": {
      "text/plain": [
       "age                0\n",
       "workclass          0\n",
       "fnlwgt             0\n",
       "education_num      0\n",
       "marital_status     0\n",
       "occupation         0\n",
       "relationship       0\n",
       "sex               23\n",
       "capital_gain       0\n",
       "capital_loss       0\n",
       "hours_per_week     0\n",
       "income             0\n",
       "dtype: int64"
      ]
     },
     "execution_count": 213,
     "metadata": {},
     "output_type": "execute_result"
    }
   ],
   "source": [
    "df.isna().sum()"
   ]
  },
  {
   "cell_type": "code",
   "execution_count": 222,
   "metadata": {},
   "outputs": [
    {
     "data": {
      "text/plain": [
       "7"
      ]
     },
     "execution_count": 222,
     "metadata": {},
     "output_type": "execute_result"
    }
   ],
   "source": [
    "((df['relationship'] == 5) & df['sex'].isna()).sum()"
   ]
  },
  {
   "cell_type": "code",
   "execution_count": 223,
   "metadata": {},
   "outputs": [],
   "source": [
    "df['sex'] = df['sex'].fillna(0)"
   ]
  },
  {
   "cell_type": "code",
   "execution_count": 224,
   "metadata": {},
   "outputs": [
    {
     "data": {
      "text/plain": [
       "age               0\n",
       "workclass         0\n",
       "fnlwgt            0\n",
       "education_num     0\n",
       "marital_status    0\n",
       "occupation        0\n",
       "relationship      0\n",
       "sex               0\n",
       "capital_gain      0\n",
       "capital_loss      0\n",
       "hours_per_week    0\n",
       "income            0\n",
       "dtype: int64"
      ]
     },
     "execution_count": 224,
     "metadata": {},
     "output_type": "execute_result"
    }
   ],
   "source": [
    "df.isna().sum()"
   ]
  },
  {
   "cell_type": "code",
   "execution_count": 226,
   "metadata": {},
   "outputs": [],
   "source": [
    "df['sex'] = np.where((df['sex'] == 'Male'),1,df['sex'])"
   ]
  },
  {
   "cell_type": "code",
   "execution_count": 227,
   "metadata": {},
   "outputs": [],
   "source": [
    "df['sex'] = np.where((df['sex'] == 'Female'),2,df['sex'])"
   ]
  },
  {
   "cell_type": "code",
   "execution_count": 228,
   "metadata": {},
   "outputs": [
    {
     "data": {
      "text/plain": [
       "age               0\n",
       "workclass         0\n",
       "fnlwgt            0\n",
       "education_num     0\n",
       "marital_status    0\n",
       "occupation        0\n",
       "relationship      0\n",
       "sex               0\n",
       "capital_gain      0\n",
       "capital_loss      0\n",
       "hours_per_week    0\n",
       "income            0\n",
       "dtype: int64"
      ]
     },
     "execution_count": 228,
     "metadata": {},
     "output_type": "execute_result"
    }
   ],
   "source": [
    "df.isna().sum()"
   ]
  },
  {
   "cell_type": "code",
   "execution_count": 229,
   "metadata": {},
   "outputs": [
    {
     "data": {
      "text/plain": [
       "age                int32\n",
       "workclass         object\n",
       "fnlwgt            object\n",
       "education_num     object\n",
       "marital_status    object\n",
       "occupation        object\n",
       "relationship       int64\n",
       "sex               object\n",
       "capital_gain      object\n",
       "capital_loss      object\n",
       "hours_per_week    object\n",
       "income            object\n",
       "dtype: object"
      ]
     },
     "execution_count": 229,
     "metadata": {},
     "output_type": "execute_result"
    }
   ],
   "source": [
    "df.dtypes"
   ]
  },
  {
   "cell_type": "code",
   "execution_count": 231,
   "metadata": {},
   "outputs": [
    {
     "data": {
      "text/plain": [
       "Private             3361\n",
       "Self-emp-not-inc     374\n",
       "others               322\n",
       "Local-gov            322\n",
       "State-gov            191\n",
       "Self-emp-inc         177\n",
       "Federal-gov          145\n",
       "Without-pay            1\n",
       "Name: workclass, dtype: int64"
      ]
     },
     "execution_count": 231,
     "metadata": {},
     "output_type": "execute_result"
    }
   ],
   "source": [
    "df['workclass'].value_counts()"
   ]
  },
  {
   "cell_type": "code",
   "execution_count": 241,
   "metadata": {},
   "outputs": [],
   "source": [
    "df = pd.get_dummies(df,columns=['workclass','marital_status','occupation'])"
   ]
  },
  {
   "cell_type": "code",
   "execution_count": 242,
   "metadata": {},
   "outputs": [
    {
     "data": {
      "text/plain": [
       "Index(['age', 'fnlwgt', 'education_num', 'relationship', 'sex', 'capital_gain',\n",
       "       'capital_loss', 'hours_per_week', 'income', 'workclass_Federal-gov',\n",
       "       'workclass_Local-gov', 'workclass_Private', 'workclass_Self-emp-inc',\n",
       "       'workclass_Self-emp-not-inc', 'workclass_State-gov',\n",
       "       'workclass_Without-pay', 'workclass_others', 'marital_status_Divorced',\n",
       "       'marital_status_Married-AF-spouse', 'marital_status_Married-civ-spouse',\n",
       "       'marital_status_Married-spouse-absent', 'marital_status_Never-married',\n",
       "       'marital_status_Separated', 'marital_status_Widowed',\n",
       "       'occupation_Adm-clerical', 'occupation_Armed-Forces',\n",
       "       'occupation_Craft-repair', 'occupation_Exec-managerial',\n",
       "       'occupation_Farming-fishing', 'occupation_Handlers-cleaners',\n",
       "       'occupation_Machine-op-inspct', 'occupation_Other-service',\n",
       "       'occupation_Priv-house-serv', 'occupation_Prof-specialty',\n",
       "       'occupation_Protective-serv', 'occupation_Sales',\n",
       "       'occupation_Tech-support', 'occupation_Transport-moving',\n",
       "       'occupation_others'],\n",
       "      dtype='object')"
      ]
     },
     "execution_count": 242,
     "metadata": {},
     "output_type": "execute_result"
    }
   ],
   "source": [
    "df.columns"
   ]
  },
  {
   "cell_type": "code",
   "execution_count": 243,
   "metadata": {},
   "outputs": [
    {
     "data": {
      "text/plain": [
       "age                                      int32\n",
       "fnlwgt                                  object\n",
       "education_num                           object\n",
       "relationship                             int64\n",
       "sex                                     object\n",
       "capital_gain                            object\n",
       "capital_loss                            object\n",
       "hours_per_week                          object\n",
       "income                                  object\n",
       "workclass_Federal-gov                    uint8\n",
       "workclass_Local-gov                      uint8\n",
       "workclass_Private                        uint8\n",
       "workclass_Self-emp-inc                   uint8\n",
       "workclass_Self-emp-not-inc               uint8\n",
       "workclass_State-gov                      uint8\n",
       "workclass_Without-pay                    uint8\n",
       "workclass_others                         uint8\n",
       "marital_status_Divorced                  uint8\n",
       "marital_status_Married-AF-spouse         uint8\n",
       "marital_status_Married-civ-spouse        uint8\n",
       "marital_status_Married-spouse-absent     uint8\n",
       "marital_status_Never-married             uint8\n",
       "marital_status_Separated                 uint8\n",
       "marital_status_Widowed                   uint8\n",
       "occupation_Adm-clerical                  uint8\n",
       "occupation_Armed-Forces                  uint8\n",
       "occupation_Craft-repair                  uint8\n",
       "occupation_Exec-managerial               uint8\n",
       "occupation_Farming-fishing               uint8\n",
       "occupation_Handlers-cleaners             uint8\n",
       "occupation_Machine-op-inspct             uint8\n",
       "occupation_Other-service                 uint8\n",
       "occupation_Priv-house-serv               uint8\n",
       "occupation_Prof-specialty                uint8\n",
       "occupation_Protective-serv               uint8\n",
       "occupation_Sales                         uint8\n",
       "occupation_Tech-support                  uint8\n",
       "occupation_Transport-moving              uint8\n",
       "occupation_others                        uint8\n",
       "dtype: object"
      ]
     },
     "execution_count": 243,
     "metadata": {},
     "output_type": "execute_result"
    }
   ],
   "source": [
    "df.dtypes"
   ]
  },
  {
   "cell_type": "code",
   "execution_count": 247,
   "metadata": {},
   "outputs": [],
   "source": [
    "df['sex']=df['sex'].astype('category')"
   ]
  },
  {
   "cell_type": "code",
   "execution_count": 255,
   "metadata": {},
   "outputs": [],
   "source": [
    "for v in ['fnlwgt','capital_gain','capital_loss','hours_per_week','education_num']:\n",
    "    df[v] = df[v].astype('int64')"
   ]
  },
  {
   "cell_type": "code",
   "execution_count": 257,
   "metadata": {},
   "outputs": [],
   "source": [
    "for v in ['education_num','relationship',]:\n",
    "    df[v] = df[v].astype('category')"
   ]
  },
  {
   "cell_type": "code",
   "execution_count": 258,
   "metadata": {},
   "outputs": [
    {
     "data": {
      "text/plain": [
       "age                                        int32\n",
       "fnlwgt                                     int64\n",
       "education_num                           category\n",
       "relationship                            category\n",
       "sex                                     category\n",
       "capital_gain                               int64\n",
       "capital_loss                               int64\n",
       "hours_per_week                             int64\n",
       "income                                    object\n",
       "workclass_Federal-gov                      uint8\n",
       "workclass_Local-gov                        uint8\n",
       "workclass_Private                          uint8\n",
       "workclass_Self-emp-inc                     uint8\n",
       "workclass_Self-emp-not-inc                 uint8\n",
       "workclass_State-gov                        uint8\n",
       "workclass_Without-pay                      uint8\n",
       "workclass_others                           uint8\n",
       "marital_status_Divorced                    uint8\n",
       "marital_status_Married-AF-spouse           uint8\n",
       "marital_status_Married-civ-spouse          uint8\n",
       "marital_status_Married-spouse-absent       uint8\n",
       "marital_status_Never-married               uint8\n",
       "marital_status_Separated                   uint8\n",
       "marital_status_Widowed                     uint8\n",
       "occupation_Adm-clerical                    uint8\n",
       "occupation_Armed-Forces                    uint8\n",
       "occupation_Craft-repair                    uint8\n",
       "occupation_Exec-managerial                 uint8\n",
       "occupation_Farming-fishing                 uint8\n",
       "occupation_Handlers-cleaners               uint8\n",
       "occupation_Machine-op-inspct               uint8\n",
       "occupation_Other-service                   uint8\n",
       "occupation_Priv-house-serv                 uint8\n",
       "occupation_Prof-specialty                  uint8\n",
       "occupation_Protective-serv                 uint8\n",
       "occupation_Sales                           uint8\n",
       "occupation_Tech-support                    uint8\n",
       "occupation_Transport-moving                uint8\n",
       "occupation_others                          uint8\n",
       "dtype: object"
      ]
     },
     "execution_count": 258,
     "metadata": {},
     "output_type": "execute_result"
    }
   ],
   "source": [
    "df.dtypes"
   ]
  },
  {
   "cell_type": "code",
   "execution_count": 259,
   "metadata": {},
   "outputs": [
    {
     "data": {
      "text/plain": [
       "<=50K    3701\n",
       ">50K     1192\n",
       "Name: income, dtype: int64"
      ]
     },
     "execution_count": 259,
     "metadata": {},
     "output_type": "execute_result"
    }
   ],
   "source": [
    "df['income'].value_counts()"
   ]
  },
  {
   "cell_type": "code",
   "execution_count": 261,
   "metadata": {},
   "outputs": [],
   "source": [
    "df['income'] = np.where(df['income'] == '<=50K',0,1)"
   ]
  },
  {
   "cell_type": "code",
   "execution_count": 262,
   "metadata": {},
   "outputs": [
    {
     "data": {
      "text/plain": [
       "age                                        int32\n",
       "fnlwgt                                     int64\n",
       "education_num                           category\n",
       "relationship                            category\n",
       "sex                                     category\n",
       "capital_gain                               int64\n",
       "capital_loss                               int64\n",
       "hours_per_week                             int64\n",
       "income                                     int32\n",
       "workclass_Federal-gov                      uint8\n",
       "workclass_Local-gov                        uint8\n",
       "workclass_Private                          uint8\n",
       "workclass_Self-emp-inc                     uint8\n",
       "workclass_Self-emp-not-inc                 uint8\n",
       "workclass_State-gov                        uint8\n",
       "workclass_Without-pay                      uint8\n",
       "workclass_others                           uint8\n",
       "marital_status_Divorced                    uint8\n",
       "marital_status_Married-AF-spouse           uint8\n",
       "marital_status_Married-civ-spouse          uint8\n",
       "marital_status_Married-spouse-absent       uint8\n",
       "marital_status_Never-married               uint8\n",
       "marital_status_Separated                   uint8\n",
       "marital_status_Widowed                     uint8\n",
       "occupation_Adm-clerical                    uint8\n",
       "occupation_Armed-Forces                    uint8\n",
       "occupation_Craft-repair                    uint8\n",
       "occupation_Exec-managerial                 uint8\n",
       "occupation_Farming-fishing                 uint8\n",
       "occupation_Handlers-cleaners               uint8\n",
       "occupation_Machine-op-inspct               uint8\n",
       "occupation_Other-service                   uint8\n",
       "occupation_Priv-house-serv                 uint8\n",
       "occupation_Prof-specialty                  uint8\n",
       "occupation_Protective-serv                 uint8\n",
       "occupation_Sales                           uint8\n",
       "occupation_Tech-support                    uint8\n",
       "occupation_Transport-moving                uint8\n",
       "occupation_others                          uint8\n",
       "dtype: object"
      ]
     },
     "execution_count": 262,
     "metadata": {},
     "output_type": "execute_result"
    }
   ],
   "source": [
    "df.dtypes"
   ]
  },
  {
   "cell_type": "markdown",
   "metadata": {},
   "source": [
    "### Build Model"
   ]
  },
  {
   "cell_type": "code",
   "execution_count": 263,
   "metadata": {},
   "outputs": [],
   "source": [
    "from sklearn.model_selection import train_test_split\n",
    "from sklearn.metrics import accuracy_score, classification_report, confusion_matrix,roc_auc_score\n",
    "from sklearn.linear_model import LogisticRegression"
   ]
  },
  {
   "cell_type": "code",
   "execution_count": 266,
   "metadata": {},
   "outputs": [],
   "source": [
    "X_train,X_test,y_train,y_test = train_test_split(\n",
    "                                df.drop('income',axis=1),\n",
    "                                df['income'], \n",
    "                                test_size=0.2,\n",
    "                                random_state=101)"
   ]
  },
  {
   "cell_type": "code",
   "execution_count": 268,
   "metadata": {},
   "outputs": [
    {
     "data": {
      "text/plain": [
       "(3914, 38)"
      ]
     },
     "execution_count": 268,
     "metadata": {},
     "output_type": "execute_result"
    }
   ],
   "source": [
    "X_train.shape"
   ]
  },
  {
   "cell_type": "code",
   "execution_count": 269,
   "metadata": {},
   "outputs": [
    {
     "data": {
      "text/plain": [
       "(979, 38)"
      ]
     },
     "execution_count": 269,
     "metadata": {},
     "output_type": "execute_result"
    }
   ],
   "source": [
    "X_test.shape"
   ]
  },
  {
   "cell_type": "code",
   "execution_count": 270,
   "metadata": {},
   "outputs": [
    {
     "data": {
      "text/plain": [
       "(3914,)"
      ]
     },
     "execution_count": 270,
     "metadata": {},
     "output_type": "execute_result"
    }
   ],
   "source": [
    "y_train.shape"
   ]
  },
  {
   "cell_type": "code",
   "execution_count": 271,
   "metadata": {},
   "outputs": [
    {
     "data": {
      "text/plain": [
       "(979,)"
      ]
     },
     "execution_count": 271,
     "metadata": {},
     "output_type": "execute_result"
    }
   ],
   "source": [
    "y_test.shape"
   ]
  },
  {
   "cell_type": "markdown",
   "metadata": {},
   "source": [
    "### Logistic"
   ]
  },
  {
   "cell_type": "code",
   "execution_count": 272,
   "metadata": {},
   "outputs": [],
   "source": [
    "log = LogisticRegression()"
   ]
  },
  {
   "cell_type": "code",
   "execution_count": 274,
   "metadata": {},
   "outputs": [
    {
     "data": {
      "text/plain": [
       "LogisticRegression(C=1.0, class_weight=None, dual=False, fit_intercept=True,\n",
       "          intercept_scaling=1, max_iter=100, multi_class='ovr', n_jobs=1,\n",
       "          penalty='l2', random_state=None, solver='liblinear', tol=0.0001,\n",
       "          verbose=0, warm_start=False)"
      ]
     },
     "execution_count": 274,
     "metadata": {},
     "output_type": "execute_result"
    }
   ],
   "source": [
    "log.fit(X_train,y_train)"
   ]
  },
  {
   "cell_type": "code",
   "execution_count": 275,
   "metadata": {},
   "outputs": [],
   "source": [
    "predict_log = log.predict(X_test)"
   ]
  },
  {
   "cell_type": "code",
   "execution_count": 276,
   "metadata": {},
   "outputs": [
    {
     "name": "stdout",
     "output_type": "stream",
     "text": [
      "0.8089887640449438\n",
      "[[731  22]\n",
      " [165  61]]\n",
      "             precision    recall  f1-score   support\n",
      "\n",
      "          0       0.82      0.97      0.89       753\n",
      "          1       0.73      0.27      0.39       226\n",
      "\n",
      "avg / total       0.80      0.81      0.77       979\n",
      "\n"
     ]
    }
   ],
   "source": [
    "print(accuracy_score(y_test,predict_log))\n",
    "print(confusion_matrix(y_test,predict_log))\n",
    "print(classification_report(y_test,predict_log))"
   ]
  },
  {
   "cell_type": "code",
   "execution_count": 277,
   "metadata": {},
   "outputs": [],
   "source": [
    "pred_prob = log.predict_proba(X_test)"
   ]
  },
  {
   "cell_type": "code",
   "execution_count": 298,
   "metadata": {},
   "outputs": [],
   "source": [
    "pred_db = np.where(pred_prob[:,0]>=0.5,0,1)"
   ]
  },
  {
   "cell_type": "code",
   "execution_count": 299,
   "metadata": {},
   "outputs": [
    {
     "name": "stdout",
     "output_type": "stream",
     "text": [
      "0.8089887640449438\n",
      "[[731  22]\n",
      " [165  61]]\n",
      "             precision    recall  f1-score   support\n",
      "\n",
      "          0       0.82      0.97      0.89       753\n",
      "          1       0.73      0.27      0.39       226\n",
      "\n",
      "avg / total       0.80      0.81      0.77       979\n",
      "\n"
     ]
    }
   ],
   "source": [
    "print(accuracy_score(y_test,pred_db))\n",
    "print(confusion_matrix(y_test,pred_db))\n",
    "print(classification_report(y_test,pred_db))"
   ]
  },
  {
   "cell_type": "markdown",
   "metadata": {},
   "source": [
    "### Decision Tree"
   ]
  },
  {
   "cell_type": "code",
   "execution_count": 300,
   "metadata": {},
   "outputs": [],
   "source": [
    "from sklearn.tree import DecisionTreeClassifier"
   ]
  },
  {
   "cell_type": "code",
   "execution_count": 302,
   "metadata": {},
   "outputs": [
    {
     "name": "stdout",
     "output_type": "stream",
     "text": [
      "0.8008171603677222\n"
     ]
    }
   ],
   "source": [
    "dt = DecisionTreeClassifier()\n",
    "dt.fit(X_train,y_train)\n",
    "pred_dt = dt.predict(X_test)\n",
    "print(accuracy_score(y_test, pred_dt))"
   ]
  },
  {
   "cell_type": "code",
   "execution_count": 303,
   "metadata": {},
   "outputs": [],
   "source": [
    "from sklearn.preprocessing import StandardScaler"
   ]
  },
  {
   "cell_type": "code",
   "execution_count": 304,
   "metadata": {},
   "outputs": [],
   "source": [
    "def fit_predict(train, test, y_train, y_test, scaler, max_depth, \n",
    "                criterion = 'entropy', max_features = 1, min_samples_split = 4):\n",
    "    train_scaled = scaler.fit_transform(train)\n",
    "    test_scaled = scaler.transform(test)        \n",
    "    dt = DecisionTreeClassifier(criterion = criterion, max_depth=max_depth, \n",
    "                                random_state=42, max_features=max_features,\n",
    "                               min_samples_split=min_samples_split)\n",
    "    dt.fit(train_scaled, y_train)\n",
    "    y_pred = dt.predict(test_scaled)\n",
    "    print(accuracy_score(y_test, y_pred))"
   ]
  },
  {
   "cell_type": "markdown",
   "metadata": {},
   "source": [
    "### Max depth tuning"
   ]
  },
  {
   "cell_type": "code",
   "execution_count": 305,
   "metadata": {},
   "outputs": [
    {
     "name": "stdout",
     "output_type": "stream",
     "text": [
      "Accuracy score using max_depth = 1: 0.7691521961184883\n",
      "Accuracy score using max_depth = 2: 0.7691521961184883\n",
      "Accuracy score using max_depth = 3: 0.7691521961184883\n",
      "Accuracy score using max_depth = 4: 0.7701736465781409\n",
      "Accuracy score using max_depth = 5: 0.7967313585291114\n",
      "Accuracy score using max_depth = 6: 0.7967313585291114\n",
      "Accuracy score using max_depth = 7: 0.8018386108273748\n",
      "Accuracy score using max_depth = 8: 0.7793667007150153\n",
      "Accuracy score using max_depth = 9: 0.7987742594484167\n",
      "Accuracy score using max_depth = 10: 0.7895812053115424\n",
      "Accuracy score using max_depth = 11: 0.832482124616956\n",
      "Accuracy score using max_depth = 12: 0.7967313585291114\n",
      "Accuracy score using max_depth = 13: 0.8140960163432074\n",
      "Accuracy score using max_depth = 14: 0.8253319713993871\n",
      "Accuracy score using max_depth = 15: 0.8314606741573034\n",
      "Accuracy score using max_depth = 16: 0.8161389172625128\n",
      "Accuracy score using max_depth = 17: 0.8140960163432074\n",
      "Accuracy score using max_depth = 18: 0.8100102145045965\n",
      "Accuracy score using max_depth = 19: 0.8181818181818182\n"
     ]
    }
   ],
   "source": [
    "for i in range(1, 20):\n",
    "    print('Accuracy score using max_depth =', i, end = ': ')\n",
    "    fit_predict(X_train, X_test, y_train, y_test, StandardScaler(), i)"
   ]
  },
  {
   "cell_type": "markdown",
   "metadata": {},
   "source": [
    "### Max feautres tuning"
   ]
  },
  {
   "cell_type": "code",
   "execution_count": 308,
   "metadata": {},
   "outputs": [
    {
     "name": "stdout",
     "output_type": "stream",
     "text": [
      "Accuracy score using max features = 0.1: 0.8243105209397344\n",
      "Accuracy score using max features = 0.2: 0.8365679264555669\n",
      "Accuracy score using max features = 0.30000000000000004: 0.8335035750766088\n",
      "Accuracy score using max features = 0.4: 0.8406537282941777\n",
      "Accuracy score using max features = 0.5: 0.8386108273748724\n",
      "Accuracy score using max features = 0.6: 0.8345250255362615\n",
      "Accuracy score using max features = 0.7000000000000001: 0.8478038815117467\n",
      "Accuracy score using max features = 0.8: 0.8406537282941777\n",
      "Accuracy score using max features = 0.9: 0.8447395301327886\n"
     ]
    }
   ],
   "source": [
    "for i in np.arange(0.1, 1.0, 0.1):\n",
    "    print('Accuracy score using max features =', i, end = ': ')\n",
    "    fit_predict(X_train, X_test, y_train, y_test, StandardScaler(), \n",
    "                max_depth = 11, \n",
    "                max_features=i)"
   ]
  },
  {
   "cell_type": "markdown",
   "metadata": {},
   "source": [
    "### Max samples split tuning"
   ]
  },
  {
   "cell_type": "code",
   "execution_count": 310,
   "metadata": {},
   "outputs": [
    {
     "name": "stdout",
     "output_type": "stream",
     "text": [
      "Accuracy score using min samples split = 2: 0.8426966292134831\n",
      "Accuracy score using min samples split = 3: 0.8437180796731358\n",
      "Accuracy score using min samples split = 4: 0.8447395301327886\n",
      "Accuracy score using min samples split = 5: 0.8386108273748724\n",
      "Accuracy score using min samples split = 6: 0.8447395301327886\n",
      "Accuracy score using min samples split = 7: 0.8457609805924413\n",
      "Accuracy score using min samples split = 8: 0.8488253319713994\n",
      "Accuracy score using min samples split = 9: 0.8488253319713994\n"
     ]
    }
   ],
   "source": [
    "for i in range(2, 10):\n",
    "    print('Accuracy score using min samples split =', i, end = ': ')\n",
    "    fit_predict(X_train, X_test, y_train, y_test, StandardScaler(), \n",
    "                max_depth = 11, \n",
    "                max_features=0.9, \n",
    "                min_samples_split=i)"
   ]
  },
  {
   "cell_type": "markdown",
   "metadata": {},
   "source": [
    "### Criterion tuning"
   ]
  },
  {
   "cell_type": "code",
   "execution_count": 311,
   "metadata": {},
   "outputs": [
    {
     "name": "stdout",
     "output_type": "stream",
     "text": [
      "Accuracy score using criterion = gini: 0.832482124616956\n",
      "Accuracy score using criterion = entropy: 0.8488253319713994\n"
     ]
    }
   ],
   "source": [
    "for i in ['gini', 'entropy']:\n",
    "    print('Accuracy score using criterion =', i, end = ': ')\n",
    "    fit_predict(X_train, X_test, y_train, y_test, StandardScaler(), \n",
    "                max_depth = 11, \n",
    "                max_features=0.9, \n",
    "                min_samples_split=8, \n",
    "                criterion = i)"
   ]
  },
  {
   "cell_type": "code",
   "execution_count": null,
   "metadata": {},
   "outputs": [],
   "source": []
  },
  {
   "cell_type": "markdown",
   "metadata": {},
   "source": [
    "### Increse the degree of non-linearity"
   ]
  },
  {
   "cell_type": "code",
   "execution_count": 315,
   "metadata": {},
   "outputs": [],
   "source": [
    "from sklearn.preprocessing import PolynomialFeatures"
   ]
  },
  {
   "cell_type": "code",
   "execution_count": 314,
   "metadata": {},
   "outputs": [],
   "source": [
    "def create_poly(train,test,degree):\n",
    "    poly = PolynomialFeatures(degree=degree)\n",
    "    train_poly = poly.fit_transform(train)\n",
    "    test_poly = poly.fit_transform(test)\n",
    "    return train_poly,test_poly"
   ]
  },
  {
   "cell_type": "code",
   "execution_count": 317,
   "metadata": {},
   "outputs": [
    {
     "name": "stdout",
     "output_type": "stream",
     "text": [
      "Polynomial degree 1\n",
      "0.8345250255362615\n",
      "----------\n",
      "Polynomial degree 2\n",
      "0.8355464759959143\n",
      "----------\n"
     ]
    }
   ],
   "source": [
    "for degree in [1,2]:\n",
    "    train_poly, test_poly = create_poly(X_train, X_test, degree)\n",
    "    print('Polynomial degree',degree)\n",
    "    fit_predict(train_poly,test_poly, y_train, y_test, StandardScaler(), \n",
    "                max_depth = 11, \n",
    "                max_features=0.9, \n",
    "                min_samples_split=8, \n",
    "                criterion = 'entropy')\n",
    "    print(10*'-')"
   ]
  },
  {
   "cell_type": "markdown",
   "metadata": {},
   "source": [
    "### Random Forest"
   ]
  },
  {
   "cell_type": "code",
   "execution_count": 318,
   "metadata": {},
   "outputs": [],
   "source": [
    "from sklearn.ensemble import RandomForestClassifier"
   ]
  },
  {
   "cell_type": "code",
   "execution_count": 320,
   "metadata": {},
   "outputs": [
    {
     "name": "stdout",
     "output_type": "stream",
     "text": [
      "0.8467824310520939\n"
     ]
    },
    {
     "name": "stderr",
     "output_type": "stream",
     "text": [
      "C:\\Simhan\\Q\\Platform\\lib\\site-packages\\sklearn\\ensemble\\forest.py:453: UserWarning: Some inputs do not have OOB scores. This probably means too few trees were used to compute any reliable oob estimates.\n",
      "  warn(\"Some inputs do not have OOB scores. \"\n",
      "C:\\Simhan\\Q\\Platform\\lib\\site-packages\\sklearn\\ensemble\\forest.py:458: RuntimeWarning: invalid value encountered in true_divide\n",
      "  predictions[k].sum(axis=1)[:, np.newaxis])\n"
     ]
    }
   ],
   "source": [
    "rf = RandomForestClassifier(criterion='gini',oob_score=True)\n",
    "rf.fit(X_train,y_train)\n",
    "pred_rf = rf.predict(X_test)\n",
    "print(accuracy_score(y_test,pred_rf))"
   ]
  },
  {
   "cell_type": "markdown",
   "metadata": {},
   "source": [
    "### GridSearchCV"
   ]
  },
  {
   "cell_type": "code",
   "execution_count": 321,
   "metadata": {},
   "outputs": [],
   "source": [
    "from sklearn.model_selection import GridSearchCV"
   ]
  },
  {
   "cell_type": "code",
   "execution_count": 322,
   "metadata": {},
   "outputs": [],
   "source": [
    "params = {'n_estimators':[200,500,700],'max_depth':[5,10,15,18,20],\n",
    "         'min_samples_leaf':[3,5,8]}"
   ]
  },
  {
   "cell_type": "code",
   "execution_count": 323,
   "metadata": {},
   "outputs": [],
   "source": [
    "gs = GridSearchCV(rf,params,verbose=3)"
   ]
  },
  {
   "cell_type": "code",
   "execution_count": 324,
   "metadata": {},
   "outputs": [
    {
     "name": "stdout",
     "output_type": "stream",
     "text": [
      "Fitting 3 folds for each of 45 candidates, totalling 135 fits\n",
      "[CV] max_depth=5, min_samples_leaf=3, n_estimators=200 ...............\n",
      "[CV]  max_depth=5, min_samples_leaf=3, n_estimators=200, score=0.8513409961685824, total=   0.8s\n",
      "[CV] max_depth=5, min_samples_leaf=3, n_estimators=200 ...............\n"
     ]
    },
    {
     "name": "stderr",
     "output_type": "stream",
     "text": [
      "[Parallel(n_jobs=1)]: Done   1 out of   1 | elapsed:    0.8s remaining:    0.0s\n"
     ]
    },
    {
     "name": "stdout",
     "output_type": "stream",
     "text": [
      "[CV]  max_depth=5, min_samples_leaf=3, n_estimators=200, score=0.842911877394636, total=   0.6s\n",
      "[CV] max_depth=5, min_samples_leaf=3, n_estimators=200 ...............\n"
     ]
    },
    {
     "name": "stderr",
     "output_type": "stream",
     "text": [
      "[Parallel(n_jobs=1)]: Done   2 out of   2 | elapsed:    1.7s remaining:    0.0s\n"
     ]
    },
    {
     "name": "stdout",
     "output_type": "stream",
     "text": [
      "[CV]  max_depth=5, min_samples_leaf=3, n_estimators=200, score=0.8443251533742331, total=   0.8s\n",
      "[CV] max_depth=5, min_samples_leaf=3, n_estimators=500 ...............\n",
      "[CV]  max_depth=5, min_samples_leaf=3, n_estimators=500, score=0.849808429118774, total=   2.1s\n",
      "[CV] max_depth=5, min_samples_leaf=3, n_estimators=500 ...............\n",
      "[CV]  max_depth=5, min_samples_leaf=3, n_estimators=500, score=0.8475095785440613, total=   1.8s\n",
      "[CV] max_depth=5, min_samples_leaf=3, n_estimators=500 ...............\n",
      "[CV]  max_depth=5, min_samples_leaf=3, n_estimators=500, score=0.8374233128834356, total=   1.7s\n",
      "[CV] max_depth=5, min_samples_leaf=3, n_estimators=700 ...............\n",
      "[CV]  max_depth=5, min_samples_leaf=3, n_estimators=700, score=0.8505747126436781, total=   2.5s\n",
      "[CV] max_depth=5, min_samples_leaf=3, n_estimators=700 ...............\n",
      "[CV]  max_depth=5, min_samples_leaf=3, n_estimators=700, score=0.8467432950191571, total=   2.9s\n",
      "[CV] max_depth=5, min_samples_leaf=3, n_estimators=700 ...............\n",
      "[CV]  max_depth=5, min_samples_leaf=3, n_estimators=700, score=0.8420245398773006, total=   3.0s\n",
      "[CV] max_depth=5, min_samples_leaf=5, n_estimators=200 ...............\n",
      "[CV]  max_depth=5, min_samples_leaf=5, n_estimators=200, score=0.8475095785440613, total=   0.7s\n",
      "[CV] max_depth=5, min_samples_leaf=5, n_estimators=200 ...............\n",
      "[CV]  max_depth=5, min_samples_leaf=5, n_estimators=200, score=0.8505747126436781, total=   0.7s\n",
      "[CV] max_depth=5, min_samples_leaf=5, n_estimators=200 ...............\n",
      "[CV]  max_depth=5, min_samples_leaf=5, n_estimators=200, score=0.8427914110429447, total=   0.6s\n",
      "[CV] max_depth=5, min_samples_leaf=5, n_estimators=500 ...............\n",
      "[CV]  max_depth=5, min_samples_leaf=5, n_estimators=500, score=0.8490421455938697, total=   1.8s\n",
      "[CV] max_depth=5, min_samples_leaf=5, n_estimators=500 ...............\n",
      "[CV]  max_depth=5, min_samples_leaf=5, n_estimators=500, score=0.8436781609195402, total=   1.7s\n",
      "[CV] max_depth=5, min_samples_leaf=5, n_estimators=500 ...............\n",
      "[CV]  max_depth=5, min_samples_leaf=5, n_estimators=500, score=0.8412576687116564, total=   1.9s\n",
      "[CV] max_depth=5, min_samples_leaf=5, n_estimators=700 ...............\n",
      "[CV]  max_depth=5, min_samples_leaf=5, n_estimators=700, score=0.8505747126436781, total=   2.6s\n",
      "[CV] max_depth=5, min_samples_leaf=5, n_estimators=700 ...............\n",
      "[CV]  max_depth=5, min_samples_leaf=5, n_estimators=700, score=0.8475095785440613, total=   2.7s\n",
      "[CV] max_depth=5, min_samples_leaf=5, n_estimators=700 ...............\n",
      "[CV]  max_depth=5, min_samples_leaf=5, n_estimators=700, score=0.8404907975460123, total=   2.4s\n",
      "[CV] max_depth=5, min_samples_leaf=8, n_estimators=200 ...............\n",
      "[CV]  max_depth=5, min_samples_leaf=8, n_estimators=200, score=0.8490421455938697, total=   0.6s\n",
      "[CV] max_depth=5, min_samples_leaf=8, n_estimators=200 ...............\n",
      "[CV]  max_depth=5, min_samples_leaf=8, n_estimators=200, score=0.8467432950191571, total=   0.7s\n",
      "[CV] max_depth=5, min_samples_leaf=8, n_estimators=200 ...............\n",
      "[CV]  max_depth=5, min_samples_leaf=8, n_estimators=200, score=0.8351226993865031, total=   0.8s\n",
      "[CV] max_depth=5, min_samples_leaf=8, n_estimators=500 ...............\n",
      "[CV]  max_depth=5, min_samples_leaf=8, n_estimators=500, score=0.8459770114942529, total=   1.9s\n",
      "[CV] max_depth=5, min_samples_leaf=8, n_estimators=500 ...............\n",
      "[CV]  max_depth=5, min_samples_leaf=8, n_estimators=500, score=0.8436781609195402, total=   1.9s\n",
      "[CV] max_depth=5, min_samples_leaf=8, n_estimators=500 ...............\n",
      "[CV]  max_depth=5, min_samples_leaf=8, n_estimators=500, score=0.8366564417177914, total=   1.8s\n",
      "[CV] max_depth=5, min_samples_leaf=8, n_estimators=700 ...............\n",
      "[CV]  max_depth=5, min_samples_leaf=8, n_estimators=700, score=0.8452107279693487, total=   2.5s\n",
      "[CV] max_depth=5, min_samples_leaf=8, n_estimators=700 ...............\n",
      "[CV]  max_depth=5, min_samples_leaf=8, n_estimators=700, score=0.8452107279693487, total=   2.5s\n",
      "[CV] max_depth=5, min_samples_leaf=8, n_estimators=700 ...............\n",
      "[CV]  max_depth=5, min_samples_leaf=8, n_estimators=700, score=0.8443251533742331, total=   2.4s\n",
      "[CV] max_depth=10, min_samples_leaf=3, n_estimators=200 ..............\n",
      "[CV]  max_depth=10, min_samples_leaf=3, n_estimators=200, score=0.8559386973180076, total=   0.8s\n",
      "[CV] max_depth=10, min_samples_leaf=3, n_estimators=200 ..............\n",
      "[CV]  max_depth=10, min_samples_leaf=3, n_estimators=200, score=0.8505747126436781, total=   0.8s\n",
      "[CV] max_depth=10, min_samples_leaf=3, n_estimators=200 ..............\n",
      "[CV]  max_depth=10, min_samples_leaf=3, n_estimators=200, score=0.843558282208589, total=   0.8s\n",
      "[CV] max_depth=10, min_samples_leaf=3, n_estimators=500 ..............\n",
      "[CV]  max_depth=10, min_samples_leaf=3, n_estimators=500, score=0.8551724137931035, total=   2.1s\n",
      "[CV] max_depth=10, min_samples_leaf=3, n_estimators=500 ..............\n",
      "[CV]  max_depth=10, min_samples_leaf=3, n_estimators=500, score=0.8544061302681992, total=   2.2s\n",
      "[CV] max_depth=10, min_samples_leaf=3, n_estimators=500 ..............\n",
      "[CV]  max_depth=10, min_samples_leaf=3, n_estimators=500, score=0.8420245398773006, total=   2.2s\n",
      "[CV] max_depth=10, min_samples_leaf=3, n_estimators=700 ..............\n",
      "[CV]  max_depth=10, min_samples_leaf=3, n_estimators=700, score=0.8544061302681992, total=   3.0s\n",
      "[CV] max_depth=10, min_samples_leaf=3, n_estimators=700 ..............\n",
      "[CV]  max_depth=10, min_samples_leaf=3, n_estimators=700, score=0.8536398467432951, total=   3.0s\n",
      "[CV] max_depth=10, min_samples_leaf=3, n_estimators=700 ..............\n",
      "[CV]  max_depth=10, min_samples_leaf=3, n_estimators=700, score=0.8443251533742331, total=   3.1s\n",
      "[CV] max_depth=10, min_samples_leaf=5, n_estimators=200 ..............\n",
      "[CV]  max_depth=10, min_samples_leaf=5, n_estimators=200, score=0.8521072796934865, total=   0.8s\n",
      "[CV] max_depth=10, min_samples_leaf=5, n_estimators=200 ..............\n",
      "[CV]  max_depth=10, min_samples_leaf=5, n_estimators=200, score=0.8536398467432951, total=   0.8s\n",
      "[CV] max_depth=10, min_samples_leaf=5, n_estimators=200 ..............\n",
      "[CV]  max_depth=10, min_samples_leaf=5, n_estimators=200, score=0.8358895705521472, total=   0.8s\n",
      "[CV] max_depth=10, min_samples_leaf=5, n_estimators=500 ..............\n",
      "[CV]  max_depth=10, min_samples_leaf=5, n_estimators=500, score=0.8528735632183908, total=   2.1s\n",
      "[CV] max_depth=10, min_samples_leaf=5, n_estimators=500 ..............\n",
      "[CV]  max_depth=10, min_samples_leaf=5, n_estimators=500, score=0.8528735632183908, total=   2.2s\n",
      "[CV] max_depth=10, min_samples_leaf=5, n_estimators=500 ..............\n",
      "[CV]  max_depth=10, min_samples_leaf=5, n_estimators=500, score=0.8397239263803681, total=   2.2s\n",
      "[CV] max_depth=10, min_samples_leaf=5, n_estimators=700 ..............\n",
      "[CV]  max_depth=10, min_samples_leaf=5, n_estimators=700, score=0.8551724137931035, total=   3.1s\n",
      "[CV] max_depth=10, min_samples_leaf=5, n_estimators=700 ..............\n",
      "[CV]  max_depth=10, min_samples_leaf=5, n_estimators=700, score=0.8513409961685824, total=   3.2s\n",
      "[CV] max_depth=10, min_samples_leaf=5, n_estimators=700 ..............\n",
      "[CV]  max_depth=10, min_samples_leaf=5, n_estimators=700, score=0.8427914110429447, total=   4.0s\n",
      "[CV] max_depth=10, min_samples_leaf=8, n_estimators=200 ..............\n",
      "[CV]  max_depth=10, min_samples_leaf=8, n_estimators=200, score=0.849808429118774, total=   0.8s\n",
      "[CV] max_depth=10, min_samples_leaf=8, n_estimators=200 ..............\n",
      "[CV]  max_depth=10, min_samples_leaf=8, n_estimators=200, score=0.8482758620689655, total=   0.9s\n",
      "[CV] max_depth=10, min_samples_leaf=8, n_estimators=200 ..............\n",
      "[CV]  max_depth=10, min_samples_leaf=8, n_estimators=200, score=0.838957055214724, total=   0.8s\n",
      "[CV] max_depth=10, min_samples_leaf=8, n_estimators=500 ..............\n",
      "[CV]  max_depth=10, min_samples_leaf=8, n_estimators=500, score=0.8544061302681992, total=   2.3s\n",
      "[CV] max_depth=10, min_samples_leaf=8, n_estimators=500 ..............\n",
      "[CV]  max_depth=10, min_samples_leaf=8, n_estimators=500, score=0.8505747126436781, total=   2.5s\n",
      "[CV] max_depth=10, min_samples_leaf=8, n_estimators=500 ..............\n",
      "[CV]  max_depth=10, min_samples_leaf=8, n_estimators=500, score=0.838957055214724, total=   2.1s\n",
      "[CV] max_depth=10, min_samples_leaf=8, n_estimators=700 ..............\n"
     ]
    },
    {
     "name": "stdout",
     "output_type": "stream",
     "text": [
      "[CV]  max_depth=10, min_samples_leaf=8, n_estimators=700, score=0.8528735632183908, total=   3.8s\n",
      "[CV] max_depth=10, min_samples_leaf=8, n_estimators=700 ..............\n",
      "[CV]  max_depth=10, min_samples_leaf=8, n_estimators=700, score=0.8513409961685824, total=   3.4s\n",
      "[CV] max_depth=10, min_samples_leaf=8, n_estimators=700 ..............\n",
      "[CV]  max_depth=10, min_samples_leaf=8, n_estimators=700, score=0.8404907975460123, total=   3.0s\n",
      "[CV] max_depth=15, min_samples_leaf=3, n_estimators=200 ..............\n",
      "[CV]  max_depth=15, min_samples_leaf=3, n_estimators=200, score=0.8513409961685824, total=   0.9s\n",
      "[CV] max_depth=15, min_samples_leaf=3, n_estimators=200 ..............\n",
      "[CV]  max_depth=15, min_samples_leaf=3, n_estimators=200, score=0.8482758620689655, total=   0.9s\n",
      "[CV] max_depth=15, min_samples_leaf=3, n_estimators=200 ..............\n",
      "[CV]  max_depth=15, min_samples_leaf=3, n_estimators=200, score=0.8404907975460123, total=   0.9s\n",
      "[CV] max_depth=15, min_samples_leaf=3, n_estimators=500 ..............\n",
      "[CV]  max_depth=15, min_samples_leaf=3, n_estimators=500, score=0.8505747126436781, total=   2.4s\n",
      "[CV] max_depth=15, min_samples_leaf=3, n_estimators=500 ..............\n",
      "[CV]  max_depth=15, min_samples_leaf=3, n_estimators=500, score=0.8528735632183908, total=   2.4s\n",
      "[CV] max_depth=15, min_samples_leaf=3, n_estimators=500 ..............\n",
      "[CV]  max_depth=15, min_samples_leaf=3, n_estimators=500, score=0.8420245398773006, total=   2.4s\n",
      "[CV] max_depth=15, min_samples_leaf=3, n_estimators=700 ..............\n",
      "[CV]  max_depth=15, min_samples_leaf=3, n_estimators=700, score=0.849808429118774, total=   3.2s\n",
      "[CV] max_depth=15, min_samples_leaf=3, n_estimators=700 ..............\n",
      "[CV]  max_depth=15, min_samples_leaf=3, n_estimators=700, score=0.8513409961685824, total=   3.5s\n",
      "[CV] max_depth=15, min_samples_leaf=3, n_estimators=700 ..............\n",
      "[CV]  max_depth=15, min_samples_leaf=3, n_estimators=700, score=0.8466257668711656, total=   3.5s\n",
      "[CV] max_depth=15, min_samples_leaf=5, n_estimators=200 ..............\n",
      "[CV]  max_depth=15, min_samples_leaf=5, n_estimators=200, score=0.8513409961685824, total=   1.0s\n",
      "[CV] max_depth=15, min_samples_leaf=5, n_estimators=200 ..............\n",
      "[CV]  max_depth=15, min_samples_leaf=5, n_estimators=200, score=0.8536398467432951, total=   1.1s\n",
      "[CV] max_depth=15, min_samples_leaf=5, n_estimators=200 ..............\n",
      "[CV]  max_depth=15, min_samples_leaf=5, n_estimators=200, score=0.8397239263803681, total=   1.0s\n",
      "[CV] max_depth=15, min_samples_leaf=5, n_estimators=500 ..............\n",
      "[CV]  max_depth=15, min_samples_leaf=5, n_estimators=500, score=0.8551724137931035, total=   2.2s\n",
      "[CV] max_depth=15, min_samples_leaf=5, n_estimators=500 ..............\n",
      "[CV]  max_depth=15, min_samples_leaf=5, n_estimators=500, score=0.8528735632183908, total=   2.3s\n",
      "[CV] max_depth=15, min_samples_leaf=5, n_estimators=500 ..............\n",
      "[CV]  max_depth=15, min_samples_leaf=5, n_estimators=500, score=0.8427914110429447, total=   2.4s\n",
      "[CV] max_depth=15, min_samples_leaf=5, n_estimators=700 ..............\n",
      "[CV]  max_depth=15, min_samples_leaf=5, n_estimators=700, score=0.8521072796934865, total=   3.3s\n",
      "[CV] max_depth=15, min_samples_leaf=5, n_estimators=700 ..............\n",
      "[CV]  max_depth=15, min_samples_leaf=5, n_estimators=700, score=0.8521072796934865, total=   3.2s\n",
      "[CV] max_depth=15, min_samples_leaf=5, n_estimators=700 ..............\n",
      "[CV]  max_depth=15, min_samples_leaf=5, n_estimators=700, score=0.8412576687116564, total=   3.4s\n",
      "[CV] max_depth=15, min_samples_leaf=8, n_estimators=200 ..............\n",
      "[CV]  max_depth=15, min_samples_leaf=8, n_estimators=200, score=0.8559386973180076, total=   0.9s\n",
      "[CV] max_depth=15, min_samples_leaf=8, n_estimators=200 ..............\n",
      "[CV]  max_depth=15, min_samples_leaf=8, n_estimators=200, score=0.8490421455938697, total=   0.9s\n",
      "[CV] max_depth=15, min_samples_leaf=8, n_estimators=200 ..............\n",
      "[CV]  max_depth=15, min_samples_leaf=8, n_estimators=200, score=0.8397239263803681, total=   0.9s\n",
      "[CV] max_depth=15, min_samples_leaf=8, n_estimators=500 ..............\n",
      "[CV]  max_depth=15, min_samples_leaf=8, n_estimators=500, score=0.8528735632183908, total=   2.7s\n",
      "[CV] max_depth=15, min_samples_leaf=8, n_estimators=500 ..............\n",
      "[CV]  max_depth=15, min_samples_leaf=8, n_estimators=500, score=0.8528735632183908, total=   2.2s\n",
      "[CV] max_depth=15, min_samples_leaf=8, n_estimators=500 ..............\n",
      "[CV]  max_depth=15, min_samples_leaf=8, n_estimators=500, score=0.838957055214724, total=   2.2s\n",
      "[CV] max_depth=15, min_samples_leaf=8, n_estimators=700 ..............\n",
      "[CV]  max_depth=15, min_samples_leaf=8, n_estimators=700, score=0.8536398467432951, total=   3.0s\n",
      "[CV] max_depth=15, min_samples_leaf=8, n_estimators=700 ..............\n",
      "[CV]  max_depth=15, min_samples_leaf=8, n_estimators=700, score=0.8513409961685824, total=   3.1s\n",
      "[CV] max_depth=15, min_samples_leaf=8, n_estimators=700 ..............\n",
      "[CV]  max_depth=15, min_samples_leaf=8, n_estimators=700, score=0.8381901840490797, total=   3.2s\n",
      "[CV] max_depth=18, min_samples_leaf=3, n_estimators=200 ..............\n",
      "[CV]  max_depth=18, min_samples_leaf=3, n_estimators=200, score=0.8467432950191571, total=   0.9s\n",
      "[CV] max_depth=18, min_samples_leaf=3, n_estimators=200 ..............\n",
      "[CV]  max_depth=18, min_samples_leaf=3, n_estimators=200, score=0.8513409961685824, total=   0.9s\n",
      "[CV] max_depth=18, min_samples_leaf=3, n_estimators=200 ..............\n",
      "[CV]  max_depth=18, min_samples_leaf=3, n_estimators=200, score=0.8450920245398773, total=   0.9s\n",
      "[CV] max_depth=18, min_samples_leaf=3, n_estimators=500 ..............\n",
      "[CV]  max_depth=18, min_samples_leaf=3, n_estimators=500, score=0.8513409961685824, total=   2.3s\n",
      "[CV] max_depth=18, min_samples_leaf=3, n_estimators=500 ..............\n",
      "[CV]  max_depth=18, min_samples_leaf=3, n_estimators=500, score=0.8536398467432951, total=   2.5s\n",
      "[CV] max_depth=18, min_samples_leaf=3, n_estimators=500 ..............\n",
      "[CV]  max_depth=18, min_samples_leaf=3, n_estimators=500, score=0.8420245398773006, total=   2.4s\n",
      "[CV] max_depth=18, min_samples_leaf=3, n_estimators=700 ..............\n",
      "[CV]  max_depth=18, min_samples_leaf=3, n_estimators=700, score=0.8513409961685824, total=   3.4s\n",
      "[CV] max_depth=18, min_samples_leaf=3, n_estimators=700 ..............\n",
      "[CV]  max_depth=18, min_samples_leaf=3, n_estimators=700, score=0.8528735632183908, total=   3.4s\n",
      "[CV] max_depth=18, min_samples_leaf=3, n_estimators=700 ..............\n",
      "[CV]  max_depth=18, min_samples_leaf=3, n_estimators=700, score=0.843558282208589, total=   3.6s\n",
      "[CV] max_depth=18, min_samples_leaf=5, n_estimators=200 ..............\n",
      "[CV]  max_depth=18, min_samples_leaf=5, n_estimators=200, score=0.8521072796934865, total=   1.5s\n",
      "[CV] max_depth=18, min_samples_leaf=5, n_estimators=200 ..............\n",
      "[CV]  max_depth=18, min_samples_leaf=5, n_estimators=200, score=0.8551724137931035, total=   1.7s\n",
      "[CV] max_depth=18, min_samples_leaf=5, n_estimators=200 ..............\n",
      "[CV]  max_depth=18, min_samples_leaf=5, n_estimators=200, score=0.838957055214724, total=   1.1s\n",
      "[CV] max_depth=18, min_samples_leaf=5, n_estimators=500 ..............\n",
      "[CV]  max_depth=18, min_samples_leaf=5, n_estimators=500, score=0.8521072796934865, total=   2.3s\n",
      "[CV] max_depth=18, min_samples_leaf=5, n_estimators=500 ..............\n",
      "[CV]  max_depth=18, min_samples_leaf=5, n_estimators=500, score=0.8559386973180076, total=   2.7s\n",
      "[CV] max_depth=18, min_samples_leaf=5, n_estimators=500 ..............\n",
      "[CV]  max_depth=18, min_samples_leaf=5, n_estimators=500, score=0.8427914110429447, total=   2.3s\n",
      "[CV] max_depth=18, min_samples_leaf=5, n_estimators=700 ..............\n",
      "[CV]  max_depth=18, min_samples_leaf=5, n_estimators=700, score=0.8536398467432951, total=   3.4s\n",
      "[CV] max_depth=18, min_samples_leaf=5, n_estimators=700 ..............\n",
      "[CV]  max_depth=18, min_samples_leaf=5, n_estimators=700, score=0.8528735632183908, total=   3.3s\n",
      "[CV] max_depth=18, min_samples_leaf=5, n_estimators=700 ..............\n",
      "[CV]  max_depth=18, min_samples_leaf=5, n_estimators=700, score=0.838957055214724, total=   3.2s\n",
      "[CV] max_depth=18, min_samples_leaf=8, n_estimators=200 ..............\n",
      "[CV]  max_depth=18, min_samples_leaf=8, n_estimators=200, score=0.8513409961685824, total=   0.8s\n",
      "[CV] max_depth=18, min_samples_leaf=8, n_estimators=200 ..............\n"
     ]
    },
    {
     "name": "stdout",
     "output_type": "stream",
     "text": [
      "[CV]  max_depth=18, min_samples_leaf=8, n_estimators=200, score=0.8521072796934865, total=   0.8s\n",
      "[CV] max_depth=18, min_samples_leaf=8, n_estimators=200 ..............\n",
      "[CV]  max_depth=18, min_samples_leaf=8, n_estimators=200, score=0.8381901840490797, total=   0.8s\n",
      "[CV] max_depth=18, min_samples_leaf=8, n_estimators=500 ..............\n",
      "[CV]  max_depth=18, min_samples_leaf=8, n_estimators=500, score=0.8521072796934865, total=   2.2s\n",
      "[CV] max_depth=18, min_samples_leaf=8, n_estimators=500 ..............\n",
      "[CV]  max_depth=18, min_samples_leaf=8, n_estimators=500, score=0.8536398467432951, total=   2.2s\n",
      "[CV] max_depth=18, min_samples_leaf=8, n_estimators=500 ..............\n",
      "[CV]  max_depth=18, min_samples_leaf=8, n_estimators=500, score=0.8358895705521472, total=   2.3s\n",
      "[CV] max_depth=18, min_samples_leaf=8, n_estimators=700 ..............\n",
      "[CV]  max_depth=18, min_samples_leaf=8, n_estimators=700, score=0.8544061302681992, total=   3.1s\n",
      "[CV] max_depth=18, min_samples_leaf=8, n_estimators=700 ..............\n",
      "[CV]  max_depth=18, min_samples_leaf=8, n_estimators=700, score=0.8513409961685824, total=   3.0s\n",
      "[CV] max_depth=18, min_samples_leaf=8, n_estimators=700 ..............\n",
      "[CV]  max_depth=18, min_samples_leaf=8, n_estimators=700, score=0.8358895705521472, total=   3.1s\n",
      "[CV] max_depth=20, min_samples_leaf=3, n_estimators=200 ..............\n",
      "[CV]  max_depth=20, min_samples_leaf=3, n_estimators=200, score=0.8452107279693487, total=   0.9s\n",
      "[CV] max_depth=20, min_samples_leaf=3, n_estimators=200 ..............\n",
      "[CV]  max_depth=20, min_samples_leaf=3, n_estimators=200, score=0.8559386973180076, total=   0.9s\n",
      "[CV] max_depth=20, min_samples_leaf=3, n_estimators=200 ..............\n",
      "[CV]  max_depth=20, min_samples_leaf=3, n_estimators=200, score=0.8374233128834356, total=   0.9s\n",
      "[CV] max_depth=20, min_samples_leaf=3, n_estimators=500 ..............\n",
      "[CV]  max_depth=20, min_samples_leaf=3, n_estimators=500, score=0.8452107279693487, total=   2.4s\n",
      "[CV] max_depth=20, min_samples_leaf=3, n_estimators=500 ..............\n",
      "[CV]  max_depth=20, min_samples_leaf=3, n_estimators=500, score=0.8544061302681992, total=   2.4s\n",
      "[CV] max_depth=20, min_samples_leaf=3, n_estimators=500 ..............\n",
      "[CV]  max_depth=20, min_samples_leaf=3, n_estimators=500, score=0.8412576687116564, total=   2.4s\n",
      "[CV] max_depth=20, min_samples_leaf=3, n_estimators=700 ..............\n",
      "[CV]  max_depth=20, min_samples_leaf=3, n_estimators=700, score=0.8505747126436781, total=   3.4s\n",
      "[CV] max_depth=20, min_samples_leaf=3, n_estimators=700 ..............\n",
      "[CV]  max_depth=20, min_samples_leaf=3, n_estimators=700, score=0.8536398467432951, total=   3.4s\n",
      "[CV] max_depth=20, min_samples_leaf=3, n_estimators=700 ..............\n",
      "[CV]  max_depth=20, min_samples_leaf=3, n_estimators=700, score=0.8458588957055214, total=   3.3s\n",
      "[CV] max_depth=20, min_samples_leaf=5, n_estimators=200 ..............\n",
      "[CV]  max_depth=20, min_samples_leaf=5, n_estimators=200, score=0.8544061302681992, total=   0.8s\n",
      "[CV] max_depth=20, min_samples_leaf=5, n_estimators=200 ..............\n",
      "[CV]  max_depth=20, min_samples_leaf=5, n_estimators=200, score=0.8544061302681992, total=   1.0s\n",
      "[CV] max_depth=20, min_samples_leaf=5, n_estimators=200 ..............\n",
      "[CV]  max_depth=20, min_samples_leaf=5, n_estimators=200, score=0.8427914110429447, total=   0.9s\n",
      "[CV] max_depth=20, min_samples_leaf=5, n_estimators=500 ..............\n",
      "[CV]  max_depth=20, min_samples_leaf=5, n_estimators=500, score=0.8528735632183908, total=   2.3s\n",
      "[CV] max_depth=20, min_samples_leaf=5, n_estimators=500 ..............\n",
      "[CV]  max_depth=20, min_samples_leaf=5, n_estimators=500, score=0.8544061302681992, total=   2.4s\n",
      "[CV] max_depth=20, min_samples_leaf=5, n_estimators=500 ..............\n",
      "[CV]  max_depth=20, min_samples_leaf=5, n_estimators=500, score=0.8443251533742331, total=   2.4s\n",
      "[CV] max_depth=20, min_samples_leaf=5, n_estimators=700 ..............\n",
      "[CV]  max_depth=20, min_samples_leaf=5, n_estimators=700, score=0.8536398467432951, total=   3.3s\n",
      "[CV] max_depth=20, min_samples_leaf=5, n_estimators=700 ..............\n",
      "[CV]  max_depth=20, min_samples_leaf=5, n_estimators=700, score=0.8551724137931035, total=   3.3s\n",
      "[CV] max_depth=20, min_samples_leaf=5, n_estimators=700 ..............\n",
      "[CV]  max_depth=20, min_samples_leaf=5, n_estimators=700, score=0.8404907975460123, total=   3.2s\n",
      "[CV] max_depth=20, min_samples_leaf=8, n_estimators=200 ..............\n",
      "[CV]  max_depth=20, min_samples_leaf=8, n_estimators=200, score=0.8536398467432951, total=   0.8s\n",
      "[CV] max_depth=20, min_samples_leaf=8, n_estimators=200 ..............\n",
      "[CV]  max_depth=20, min_samples_leaf=8, n_estimators=200, score=0.8521072796934865, total=   0.8s\n",
      "[CV] max_depth=20, min_samples_leaf=8, n_estimators=200 ..............\n",
      "[CV]  max_depth=20, min_samples_leaf=8, n_estimators=200, score=0.8397239263803681, total=   0.8s\n",
      "[CV] max_depth=20, min_samples_leaf=8, n_estimators=500 ..............\n",
      "[CV]  max_depth=20, min_samples_leaf=8, n_estimators=500, score=0.8536398467432951, total=   2.2s\n",
      "[CV] max_depth=20, min_samples_leaf=8, n_estimators=500 ..............\n",
      "[CV]  max_depth=20, min_samples_leaf=8, n_estimators=500, score=0.849808429118774, total=   2.2s\n",
      "[CV] max_depth=20, min_samples_leaf=8, n_estimators=500 ..............\n",
      "[CV]  max_depth=20, min_samples_leaf=8, n_estimators=500, score=0.8358895705521472, total=   2.2s\n",
      "[CV] max_depth=20, min_samples_leaf=8, n_estimators=700 ..............\n",
      "[CV]  max_depth=20, min_samples_leaf=8, n_estimators=700, score=0.8536398467432951, total=   3.0s\n",
      "[CV] max_depth=20, min_samples_leaf=8, n_estimators=700 ..............\n",
      "[CV]  max_depth=20, min_samples_leaf=8, n_estimators=700, score=0.849808429118774, total=   3.1s\n",
      "[CV] max_depth=20, min_samples_leaf=8, n_estimators=700 ..............\n",
      "[CV]  max_depth=20, min_samples_leaf=8, n_estimators=700, score=0.843558282208589, total=   3.0s\n"
     ]
    },
    {
     "name": "stderr",
     "output_type": "stream",
     "text": [
      "[Parallel(n_jobs=1)]: Done 135 out of 135 | elapsed:  5.5min finished\n"
     ]
    },
    {
     "data": {
      "text/plain": [
       "GridSearchCV(cv=None, error_score='raise',\n",
       "       estimator=RandomForestClassifier(bootstrap=True, class_weight=None, criterion='gini',\n",
       "            max_depth=None, max_features='auto', max_leaf_nodes=None,\n",
       "            min_impurity_decrease=0.0, min_impurity_split=None,\n",
       "            min_samples_leaf=1, min_samples_split=2,\n",
       "            min_weight_fraction_leaf=0.0, n_estimators=10, n_jobs=1,\n",
       "            oob_score=True, random_state=None, verbose=0, warm_start=False),\n",
       "       fit_params=None, iid=True, n_jobs=1,\n",
       "       param_grid={'n_estimators': [200, 500, 700], 'max_depth': [5, 10, 15, 18, 20], 'min_samples_leaf': [3, 5, 8]},\n",
       "       pre_dispatch='2*n_jobs', refit=True, return_train_score='warn',\n",
       "       scoring=None, verbose=3)"
      ]
     },
     "execution_count": 324,
     "metadata": {},
     "output_type": "execute_result"
    }
   ],
   "source": [
    "gs.fit(X_train,y_train)"
   ]
  },
  {
   "cell_type": "code",
   "execution_count": 325,
   "metadata": {},
   "outputs": [
    {
     "data": {
      "text/plain": [
       "{'max_depth': 10, 'min_samples_leaf': 3, 'n_estimators': 700}"
      ]
     },
     "execution_count": 325,
     "metadata": {},
     "output_type": "execute_result"
    }
   ],
   "source": [
    "gs.best_params_"
   ]
  },
  {
   "cell_type": "code",
   "execution_count": 326,
   "metadata": {},
   "outputs": [
    {
     "data": {
      "text/plain": [
       "RandomForestClassifier(bootstrap=True, class_weight=None, criterion='gini',\n",
       "            max_depth=10, max_features='auto', max_leaf_nodes=None,\n",
       "            min_impurity_decrease=0.0, min_impurity_split=None,\n",
       "            min_samples_leaf=3, min_samples_split=2,\n",
       "            min_weight_fraction_leaf=0.0, n_estimators=700, n_jobs=1,\n",
       "            oob_score=True, random_state=None, verbose=0, warm_start=False)"
      ]
     },
     "execution_count": 326,
     "metadata": {},
     "output_type": "execute_result"
    }
   ],
   "source": [
    "gs.best_estimator_"
   ]
  },
  {
   "cell_type": "code",
   "execution_count": 327,
   "metadata": {},
   "outputs": [],
   "source": [
    "rf1 = gs.best_estimator_"
   ]
  },
  {
   "cell_type": "code",
   "execution_count": 328,
   "metadata": {},
   "outputs": [
    {
     "data": {
      "text/plain": [
       "RandomForestClassifier(bootstrap=True, class_weight=None, criterion='gini',\n",
       "            max_depth=10, max_features='auto', max_leaf_nodes=None,\n",
       "            min_impurity_decrease=0.0, min_impurity_split=None,\n",
       "            min_samples_leaf=3, min_samples_split=2,\n",
       "            min_weight_fraction_leaf=0.0, n_estimators=700, n_jobs=1,\n",
       "            oob_score=True, random_state=None, verbose=0, warm_start=False)"
      ]
     },
     "execution_count": 328,
     "metadata": {},
     "output_type": "execute_result"
    }
   ],
   "source": [
    "rf1.fit(X_train,y_train)"
   ]
  },
  {
   "cell_type": "code",
   "execution_count": 329,
   "metadata": {},
   "outputs": [
    {
     "data": {
      "text/plain": [
       "0.8520694941236586"
      ]
     },
     "execution_count": 329,
     "metadata": {},
     "output_type": "execute_result"
    }
   ],
   "source": [
    "rf1.oob_score_"
   ]
  },
  {
   "cell_type": "code",
   "execution_count": 330,
   "metadata": {},
   "outputs": [
    {
     "data": {
      "text/plain": [
       "0.8150229943791517"
      ]
     },
     "execution_count": 330,
     "metadata": {},
     "output_type": "execute_result"
    }
   ],
   "source": [
    "rf.oob_score_"
   ]
  },
  {
   "cell_type": "code",
   "execution_count": 332,
   "metadata": {},
   "outputs": [],
   "source": [
    "pred_rf1 = rf1.predict(X_test)"
   ]
  },
  {
   "cell_type": "code",
   "execution_count": 333,
   "metadata": {},
   "outputs": [
    {
     "name": "stdout",
     "output_type": "stream",
     "text": [
      "0.8580183861082737\n"
     ]
    }
   ],
   "source": [
    "print(accuracy_score(y_test,pred_rf1))"
   ]
  },
  {
   "cell_type": "code",
   "execution_count": 334,
   "metadata": {},
   "outputs": [
    {
     "data": {
      "text/plain": [
       "array([8.71602484e-02, 3.84805461e-02, 1.20355179e-01, 1.58110268e-01,\n",
       "       1.74920194e-02, 1.55692848e-01, 3.36436500e-02, 5.27369313e-02,\n",
       "       2.77551658e-03, 1.81189266e-03, 4.58369849e-03, 1.11132467e-02,\n",
       "       5.74136394e-03, 1.34921877e-03, 0.00000000e+00, 1.21731094e-03,\n",
       "       8.87771952e-03, 1.50882822e-05, 1.65448163e-01, 4.40976350e-04,\n",
       "       4.65275242e-02, 9.80750901e-04, 1.50828205e-03, 3.04108725e-03,\n",
       "       0.00000000e+00, 2.59981054e-03, 2.87478075e-02, 5.27215756e-03,\n",
       "       1.27173262e-03, 3.76387320e-03, 6.28951685e-03, 1.13217697e-06,\n",
       "       2.21901432e-02, 9.23747202e-04, 3.93581451e-03, 2.87804676e-03,\n",
       "       1.74867266e-03, 1.27401562e-03])"
      ]
     },
     "execution_count": 334,
     "metadata": {},
     "output_type": "execute_result"
    }
   ],
   "source": [
    "rf1.feature_importances_"
   ]
  },
  {
   "cell_type": "markdown",
   "metadata": {},
   "source": [
    "### KNN"
   ]
  },
  {
   "cell_type": "code",
   "execution_count": 335,
   "metadata": {},
   "outputs": [],
   "source": [
    "from sklearn.neighbors import KNeighborsClassifier"
   ]
  },
  {
   "cell_type": "code",
   "execution_count": 336,
   "metadata": {},
   "outputs": [],
   "source": [
    "scaler = StandardScaler()\n",
    "scaled_features = scaler.fit_transform(df.drop('income',axis=1))"
   ]
  },
  {
   "cell_type": "code",
   "execution_count": 337,
   "metadata": {},
   "outputs": [
    {
     "data": {
      "text/plain": [
       "array([[ 0.0309612 , -1.06470593,  1.10743143, ..., -0.16908414,\n",
       "        -0.22909475, -0.26541308],\n",
       "       [ 0.84504265, -1.01032538,  1.10743143, ..., -0.16908414,\n",
       "        -0.22909475, -0.26541308],\n",
       "       [-0.0430462 ,  0.23151224, -0.35145313, ..., -0.16908414,\n",
       "        -0.22909475, -0.26541308],\n",
       "       ...,\n",
       "       [ 0.62302044,  0.1984241 , -0.35145313, ..., -0.16908414,\n",
       "        -0.22909475, -0.26541308],\n",
       "       [-0.0430462 ,  0.51522947, -0.35145313, ..., -0.16908414,\n",
       "        -0.22909475, -0.26541308],\n",
       "       [ 1.43710189, -1.27649444,  0.01326801, ..., -0.16908414,\n",
       "        -0.22909475, -0.26541308]])"
      ]
     },
     "execution_count": 337,
     "metadata": {},
     "output_type": "execute_result"
    }
   ],
   "source": [
    "scaled_features"
   ]
  },
  {
   "cell_type": "code",
   "execution_count": 338,
   "metadata": {},
   "outputs": [
    {
     "data": {
      "text/html": [
       "<div>\n",
       "<style scoped>\n",
       "    .dataframe tbody tr th:only-of-type {\n",
       "        vertical-align: middle;\n",
       "    }\n",
       "\n",
       "    .dataframe tbody tr th {\n",
       "        vertical-align: top;\n",
       "    }\n",
       "\n",
       "    .dataframe thead th {\n",
       "        text-align: right;\n",
       "    }\n",
       "</style>\n",
       "<table border=\"1\" class=\"dataframe\">\n",
       "  <thead>\n",
       "    <tr style=\"text-align: right;\">\n",
       "      <th></th>\n",
       "      <th>age</th>\n",
       "      <th>fnlwgt</th>\n",
       "      <th>education_num</th>\n",
       "      <th>relationship</th>\n",
       "      <th>sex</th>\n",
       "      <th>capital_gain</th>\n",
       "      <th>capital_loss</th>\n",
       "      <th>hours_per_week</th>\n",
       "      <th>income</th>\n",
       "      <th>workclass_Federal-gov</th>\n",
       "      <th>...</th>\n",
       "      <th>occupation_Farming-fishing</th>\n",
       "      <th>occupation_Handlers-cleaners</th>\n",
       "      <th>occupation_Machine-op-inspct</th>\n",
       "      <th>occupation_Other-service</th>\n",
       "      <th>occupation_Priv-house-serv</th>\n",
       "      <th>occupation_Prof-specialty</th>\n",
       "      <th>occupation_Protective-serv</th>\n",
       "      <th>occupation_Sales</th>\n",
       "      <th>occupation_Tech-support</th>\n",
       "      <th>occupation_Transport-moving</th>\n",
       "    </tr>\n",
       "  </thead>\n",
       "  <tbody>\n",
       "    <tr>\n",
       "      <th>0</th>\n",
       "      <td>0.030961</td>\n",
       "      <td>-1.064706</td>\n",
       "      <td>1.107431</td>\n",
       "      <td>0.720001</td>\n",
       "      <td>-0.671396</td>\n",
       "      <td>0.157878</td>\n",
       "      <td>-0.22756</td>\n",
       "      <td>-0.043560</td>\n",
       "      <td>-0.174755</td>\n",
       "      <td>-0.265413</td>\n",
       "      <td>...</td>\n",
       "      <td>-0.203733</td>\n",
       "      <td>-0.257382</td>\n",
       "      <td>-0.331704</td>\n",
       "      <td>-0.060764</td>\n",
       "      <td>-0.377037</td>\n",
       "      <td>-0.134545</td>\n",
       "      <td>-0.363836</td>\n",
       "      <td>-0.169084</td>\n",
       "      <td>-0.229095</td>\n",
       "      <td>-0.265413</td>\n",
       "    </tr>\n",
       "    <tr>\n",
       "      <th>1</th>\n",
       "      <td>0.845043</td>\n",
       "      <td>-1.010325</td>\n",
       "      <td>1.107431</td>\n",
       "      <td>-1.089122</td>\n",
       "      <td>-0.671396</td>\n",
       "      <td>-0.147346</td>\n",
       "      <td>-0.22756</td>\n",
       "      <td>-2.271504</td>\n",
       "      <td>-0.174755</td>\n",
       "      <td>-0.265413</td>\n",
       "      <td>...</td>\n",
       "      <td>-0.203733</td>\n",
       "      <td>-0.257382</td>\n",
       "      <td>-0.331704</td>\n",
       "      <td>-0.060764</td>\n",
       "      <td>-0.377037</td>\n",
       "      <td>-0.134545</td>\n",
       "      <td>-0.363836</td>\n",
       "      <td>-0.169084</td>\n",
       "      <td>-0.229095</td>\n",
       "      <td>-0.265413</td>\n",
       "    </tr>\n",
       "    <tr>\n",
       "      <th>2</th>\n",
       "      <td>-0.043046</td>\n",
       "      <td>0.231512</td>\n",
       "      <td>-0.351453</td>\n",
       "      <td>0.720001</td>\n",
       "      <td>-0.671396</td>\n",
       "      <td>-0.147346</td>\n",
       "      <td>-0.22756</td>\n",
       "      <td>-0.043560</td>\n",
       "      <td>-0.174755</td>\n",
       "      <td>-0.265413</td>\n",
       "      <td>...</td>\n",
       "      <td>4.908392</td>\n",
       "      <td>-0.257382</td>\n",
       "      <td>-0.331704</td>\n",
       "      <td>-0.060764</td>\n",
       "      <td>-0.377037</td>\n",
       "      <td>-0.134545</td>\n",
       "      <td>-0.363836</td>\n",
       "      <td>-0.169084</td>\n",
       "      <td>-0.229095</td>\n",
       "      <td>-0.265413</td>\n",
       "    </tr>\n",
       "    <tr>\n",
       "      <th>3</th>\n",
       "      <td>1.067065</td>\n",
       "      <td>0.410513</td>\n",
       "      <td>-1.080895</td>\n",
       "      <td>-1.089122</td>\n",
       "      <td>-0.671396</td>\n",
       "      <td>-0.147346</td>\n",
       "      <td>-0.22756</td>\n",
       "      <td>-0.043560</td>\n",
       "      <td>-0.174755</td>\n",
       "      <td>-0.265413</td>\n",
       "      <td>...</td>\n",
       "      <td>4.908392</td>\n",
       "      <td>-0.257382</td>\n",
       "      <td>-0.331704</td>\n",
       "      <td>-0.060764</td>\n",
       "      <td>-0.377037</td>\n",
       "      <td>-0.134545</td>\n",
       "      <td>-0.363836</td>\n",
       "      <td>-0.169084</td>\n",
       "      <td>-0.229095</td>\n",
       "      <td>-0.265413</td>\n",
       "    </tr>\n",
       "    <tr>\n",
       "      <th>4</th>\n",
       "      <td>-0.783120</td>\n",
       "      <td>1.383526</td>\n",
       "      <td>1.107431</td>\n",
       "      <td>-0.486081</td>\n",
       "      <td>1.427735</td>\n",
       "      <td>-0.147346</td>\n",
       "      <td>-0.22756</td>\n",
       "      <td>-0.043560</td>\n",
       "      <td>-0.174755</td>\n",
       "      <td>-0.265413</td>\n",
       "      <td>...</td>\n",
       "      <td>-0.203733</td>\n",
       "      <td>-0.257382</td>\n",
       "      <td>-0.331704</td>\n",
       "      <td>-0.060764</td>\n",
       "      <td>2.652260</td>\n",
       "      <td>-0.134545</td>\n",
       "      <td>-0.363836</td>\n",
       "      <td>-0.169084</td>\n",
       "      <td>-0.229095</td>\n",
       "      <td>-0.265413</td>\n",
       "    </tr>\n",
       "  </tbody>\n",
       "</table>\n",
       "<p>5 rows × 38 columns</p>\n",
       "</div>"
      ],
      "text/plain": [
       "        age    fnlwgt  education_num  relationship       sex  capital_gain  \\\n",
       "0  0.030961 -1.064706       1.107431      0.720001 -0.671396      0.157878   \n",
       "1  0.845043 -1.010325       1.107431     -1.089122 -0.671396     -0.147346   \n",
       "2 -0.043046  0.231512      -0.351453      0.720001 -0.671396     -0.147346   \n",
       "3  1.067065  0.410513      -1.080895     -1.089122 -0.671396     -0.147346   \n",
       "4 -0.783120  1.383526       1.107431     -0.486081  1.427735     -0.147346   \n",
       "\n",
       "   capital_loss  hours_per_week    income  workclass_Federal-gov  \\\n",
       "0      -0.22756       -0.043560 -0.174755              -0.265413   \n",
       "1      -0.22756       -2.271504 -0.174755              -0.265413   \n",
       "2      -0.22756       -0.043560 -0.174755              -0.265413   \n",
       "3      -0.22756       -0.043560 -0.174755              -0.265413   \n",
       "4      -0.22756       -0.043560 -0.174755              -0.265413   \n",
       "\n",
       "              ...               occupation_Farming-fishing  \\\n",
       "0             ...                                -0.203733   \n",
       "1             ...                                -0.203733   \n",
       "2             ...                                 4.908392   \n",
       "3             ...                                 4.908392   \n",
       "4             ...                                -0.203733   \n",
       "\n",
       "   occupation_Handlers-cleaners  occupation_Machine-op-inspct  \\\n",
       "0                     -0.257382                     -0.331704   \n",
       "1                     -0.257382                     -0.331704   \n",
       "2                     -0.257382                     -0.331704   \n",
       "3                     -0.257382                     -0.331704   \n",
       "4                     -0.257382                     -0.331704   \n",
       "\n",
       "   occupation_Other-service  occupation_Priv-house-serv  \\\n",
       "0                 -0.060764                   -0.377037   \n",
       "1                 -0.060764                   -0.377037   \n",
       "2                 -0.060764                   -0.377037   \n",
       "3                 -0.060764                   -0.377037   \n",
       "4                 -0.060764                    2.652260   \n",
       "\n",
       "   occupation_Prof-specialty  occupation_Protective-serv  occupation_Sales  \\\n",
       "0                  -0.134545                   -0.363836         -0.169084   \n",
       "1                  -0.134545                   -0.363836         -0.169084   \n",
       "2                  -0.134545                   -0.363836         -0.169084   \n",
       "3                  -0.134545                   -0.363836         -0.169084   \n",
       "4                  -0.134545                   -0.363836         -0.169084   \n",
       "\n",
       "   occupation_Tech-support  occupation_Transport-moving  \n",
       "0                -0.229095                    -0.265413  \n",
       "1                -0.229095                    -0.265413  \n",
       "2                -0.229095                    -0.265413  \n",
       "3                -0.229095                    -0.265413  \n",
       "4                -0.229095                    -0.265413  \n",
       "\n",
       "[5 rows x 38 columns]"
      ]
     },
     "execution_count": 338,
     "metadata": {},
     "output_type": "execute_result"
    }
   ],
   "source": [
    "df_feat = pd.DataFrame(scaled_features,columns=df.columns[:-1])\n",
    "df_feat.head()"
   ]
  },
  {
   "cell_type": "code",
   "execution_count": 339,
   "metadata": {},
   "outputs": [],
   "source": [
    "XS_train,XS_test,y_train,y_test = train_test_split(scaled_features,df['income'],\n",
    "                                test_size=0.2,\n",
    "                                random_state=101)"
   ]
  },
  {
   "cell_type": "code",
   "execution_count": 340,
   "metadata": {},
   "outputs": [],
   "source": [
    "error_rate = []\n",
    "for i in range(1,40,1):\n",
    "    knn_i = KNeighborsClassifier(n_neighbors=i)\n",
    "    knn_i.fit(XS_train,y_train)\n",
    "    pred_knn_i = knn_i.predict(XS_test)\n",
    "    error_rate.append(np.mean(pred_knn_i != y_test))"
   ]
  },
  {
   "cell_type": "code",
   "execution_count": 341,
   "metadata": {},
   "outputs": [
    {
     "data": {
      "text/plain": [
       "Text(0,0.5,'Error Rate')"
      ]
     },
     "execution_count": 341,
     "metadata": {},
     "output_type": "execute_result"
    },
    {
     "data": {
      "image/png": "[encoded data removed]",
      "text/plain": [
       "<matplotlib.figure.Figure at 0x1c066c90>"
      ]
     },
     "metadata": {},
     "output_type": "display_data"
    }
   ],
   "source": [
    "plt.figure(figsize=(10,6))\n",
    "plt.plot(range(1,40),error_rate,color='blue', linestyle='dashed', marker='o',\n",
    "         markerfacecolor='red', markersize=10)\n",
    "plt.title('Error Rate vs. K Value')\n",
    "plt.xlabel('K')\n",
    "plt.ylabel('Error Rate')"
   ]
  },
  {
   "cell_type": "code",
   "execution_count": 348,
   "metadata": {},
   "outputs": [],
   "source": [
    "knn32 = KNeighborsClassifier(n_neighbors=32)\n",
    "knn32.fit(XS_train,y_train)\n",
    "pred_knn32 = knn32.predict(XS_test)"
   ]
  },
  {
   "cell_type": "code",
   "execution_count": 349,
   "metadata": {},
   "outputs": [
    {
     "name": "stdout",
     "output_type": "stream",
     "text": [
      "0.8406537282941777\n"
     ]
    }
   ],
   "source": [
    "print(accuracy_score(y_test,pred_knn32))"
   ]
  }
 ],
 "metadata": {
  "kernelspec": {
   "display_name": "Python 3",
   "language": "python",
   "name": "python3"
  },
  "language_info": {
   "codemirror_mode": {
    "name": "ipython",
    "version": 3
   },
   "file_extension": ".py",
   "mimetype": "text/x-python",
   "name": "python",
   "nbconvert_exporter": "python",
   "pygments_lexer": "ipython3",
   "version": "3.6.4"
  }
 },
 "nbformat": 4,
 "nbformat_minor": 2
}
