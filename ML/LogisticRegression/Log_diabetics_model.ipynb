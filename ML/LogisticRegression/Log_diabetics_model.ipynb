{
 "cells": [
  {
   "cell_type": "code",
   "execution_count": 1,
   "metadata": {},
   "outputs": [],
   "source": [
    "import pandas as pd\n",
    "import numpy as np\n",
    "import matplotlib.pyplot as plt\n",
    "%matplotlib inline\n",
    "import seaborn as sns\n"
   ]
  },
  {
   "cell_type": "code",
   "execution_count": 108,
   "metadata": {},
   "outputs": [],
   "source": [
    "from sklearn.model_selection import train_test_split\n",
    "from sklearn.linear_model import LogisticRegression\n",
    "from sklearn.metrics import accuracy_score, classification_report, confusion_matrix,roc_auc_score"
   ]
  },
  {
   "cell_type": "code",
   "execution_count": 304,
   "metadata": {},
   "outputs": [],
   "source": [
    "#file = 'diabetes_null.csv'\n",
    "file = 'datasets_228_482_diabetes.csv'\n",
    "df = pd.read_csv(file)"
   ]
  },
  {
   "cell_type": "code",
   "execution_count": 305,
   "metadata": {},
   "outputs": [
    {
     "data": {
      "text/plain": [
       "(768, 9)"
      ]
     },
     "execution_count": 305,
     "metadata": {},
     "output_type": "execute_result"
    }
   ],
   "source": [
    "df.shape"
   ]
  },
  {
   "cell_type": "code",
   "execution_count": 306,
   "metadata": {},
   "outputs": [
    {
     "data": {
      "text/plain": [
       "Pregnancies                 0\n",
       "Glucose                     0\n",
       "BloodPressure               0\n",
       "SkinThickness               0\n",
       "Insulin                     0\n",
       "BMI                         0\n",
       "DiabetesPedigreeFunction    0\n",
       "Age                         0\n",
       "Outcome                     0\n",
       "dtype: int64"
      ]
     },
     "execution_count": 306,
     "metadata": {},
     "output_type": "execute_result"
    }
   ],
   "source": [
    "df.isna().sum()"
   ]
  },
  {
   "cell_type": "code",
   "execution_count": 307,
   "metadata": {},
   "outputs": [
    {
     "data": {
      "text/html": [
       "<div>\n",
       "<style scoped>\n",
       "    .dataframe tbody tr th:only-of-type {\n",
       "        vertical-align: middle;\n",
       "    }\n",
       "\n",
       "    .dataframe tbody tr th {\n",
       "        vertical-align: top;\n",
       "    }\n",
       "\n",
       "    .dataframe thead th {\n",
       "        text-align: right;\n",
       "    }\n",
       "</style>\n",
       "<table border=\"1\" class=\"dataframe\">\n",
       "  <thead>\n",
       "    <tr style=\"text-align: right;\">\n",
       "      <th></th>\n",
       "      <th>Pregnancies</th>\n",
       "      <th>Glucose</th>\n",
       "      <th>BloodPressure</th>\n",
       "      <th>SkinThickness</th>\n",
       "      <th>Insulin</th>\n",
       "      <th>BMI</th>\n",
       "      <th>DiabetesPedigreeFunction</th>\n",
       "      <th>Age</th>\n",
       "      <th>Outcome</th>\n",
       "    </tr>\n",
       "  </thead>\n",
       "  <tbody>\n",
       "    <tr>\n",
       "      <th>count</th>\n",
       "      <td>768.000000</td>\n",
       "      <td>768.000000</td>\n",
       "      <td>768.000000</td>\n",
       "      <td>768.000000</td>\n",
       "      <td>768.000000</td>\n",
       "      <td>768.000000</td>\n",
       "      <td>768.000000</td>\n",
       "      <td>768.000000</td>\n",
       "      <td>768.000000</td>\n",
       "    </tr>\n",
       "    <tr>\n",
       "      <th>mean</th>\n",
       "      <td>3.845052</td>\n",
       "      <td>120.894531</td>\n",
       "      <td>69.105469</td>\n",
       "      <td>20.536458</td>\n",
       "      <td>79.799479</td>\n",
       "      <td>31.992578</td>\n",
       "      <td>0.471876</td>\n",
       "      <td>33.240885</td>\n",
       "      <td>0.348958</td>\n",
       "    </tr>\n",
       "    <tr>\n",
       "      <th>std</th>\n",
       "      <td>3.369578</td>\n",
       "      <td>31.972618</td>\n",
       "      <td>19.355807</td>\n",
       "      <td>15.952218</td>\n",
       "      <td>115.244002</td>\n",
       "      <td>7.884160</td>\n",
       "      <td>0.331329</td>\n",
       "      <td>11.760232</td>\n",
       "      <td>0.476951</td>\n",
       "    </tr>\n",
       "    <tr>\n",
       "      <th>min</th>\n",
       "      <td>0.000000</td>\n",
       "      <td>0.000000</td>\n",
       "      <td>0.000000</td>\n",
       "      <td>0.000000</td>\n",
       "      <td>0.000000</td>\n",
       "      <td>0.000000</td>\n",
       "      <td>0.078000</td>\n",
       "      <td>21.000000</td>\n",
       "      <td>0.000000</td>\n",
       "    </tr>\n",
       "    <tr>\n",
       "      <th>25%</th>\n",
       "      <td>1.000000</td>\n",
       "      <td>99.000000</td>\n",
       "      <td>62.000000</td>\n",
       "      <td>0.000000</td>\n",
       "      <td>0.000000</td>\n",
       "      <td>27.300000</td>\n",
       "      <td>0.243750</td>\n",
       "      <td>24.000000</td>\n",
       "      <td>0.000000</td>\n",
       "    </tr>\n",
       "    <tr>\n",
       "      <th>50%</th>\n",
       "      <td>3.000000</td>\n",
       "      <td>117.000000</td>\n",
       "      <td>72.000000</td>\n",
       "      <td>23.000000</td>\n",
       "      <td>30.500000</td>\n",
       "      <td>32.000000</td>\n",
       "      <td>0.372500</td>\n",
       "      <td>29.000000</td>\n",
       "      <td>0.000000</td>\n",
       "    </tr>\n",
       "    <tr>\n",
       "      <th>75%</th>\n",
       "      <td>6.000000</td>\n",
       "      <td>140.250000</td>\n",
       "      <td>80.000000</td>\n",
       "      <td>32.000000</td>\n",
       "      <td>127.250000</td>\n",
       "      <td>36.600000</td>\n",
       "      <td>0.626250</td>\n",
       "      <td>41.000000</td>\n",
       "      <td>1.000000</td>\n",
       "    </tr>\n",
       "    <tr>\n",
       "      <th>max</th>\n",
       "      <td>17.000000</td>\n",
       "      <td>199.000000</td>\n",
       "      <td>122.000000</td>\n",
       "      <td>99.000000</td>\n",
       "      <td>846.000000</td>\n",
       "      <td>67.100000</td>\n",
       "      <td>2.420000</td>\n",
       "      <td>81.000000</td>\n",
       "      <td>1.000000</td>\n",
       "    </tr>\n",
       "  </tbody>\n",
       "</table>\n",
       "</div>"
      ],
      "text/plain": [
       "       Pregnancies     Glucose  BloodPressure  SkinThickness     Insulin  \\\n",
       "count   768.000000  768.000000     768.000000     768.000000  768.000000   \n",
       "mean      3.845052  120.894531      69.105469      20.536458   79.799479   \n",
       "std       3.369578   31.972618      19.355807      15.952218  115.244002   \n",
       "min       0.000000    0.000000       0.000000       0.000000    0.000000   \n",
       "25%       1.000000   99.000000      62.000000       0.000000    0.000000   \n",
       "50%       3.000000  117.000000      72.000000      23.000000   30.500000   \n",
       "75%       6.000000  140.250000      80.000000      32.000000  127.250000   \n",
       "max      17.000000  199.000000     122.000000      99.000000  846.000000   \n",
       "\n",
       "              BMI  DiabetesPedigreeFunction         Age     Outcome  \n",
       "count  768.000000                768.000000  768.000000  768.000000  \n",
       "mean    31.992578                  0.471876   33.240885    0.348958  \n",
       "std      7.884160                  0.331329   11.760232    0.476951  \n",
       "min      0.000000                  0.078000   21.000000    0.000000  \n",
       "25%     27.300000                  0.243750   24.000000    0.000000  \n",
       "50%     32.000000                  0.372500   29.000000    0.000000  \n",
       "75%     36.600000                  0.626250   41.000000    1.000000  \n",
       "max     67.100000                  2.420000   81.000000    1.000000  "
      ]
     },
     "execution_count": 307,
     "metadata": {},
     "output_type": "execute_result"
    }
   ],
   "source": [
    "df.describe()"
   ]
  },
  {
   "cell_type": "code",
   "execution_count": 308,
   "metadata": {},
   "outputs": [
    {
     "data": {
      "text/html": [
       "<div>\n",
       "<style scoped>\n",
       "    .dataframe tbody tr th:only-of-type {\n",
       "        vertical-align: middle;\n",
       "    }\n",
       "\n",
       "    .dataframe tbody tr th {\n",
       "        vertical-align: top;\n",
       "    }\n",
       "\n",
       "    .dataframe thead th {\n",
       "        text-align: right;\n",
       "    }\n",
       "</style>\n",
       "<table border=\"1\" class=\"dataframe\">\n",
       "  <thead>\n",
       "    <tr style=\"text-align: right;\">\n",
       "      <th></th>\n",
       "      <th>Pregnancies</th>\n",
       "      <th>Glucose</th>\n",
       "      <th>BloodPressure</th>\n",
       "      <th>SkinThickness</th>\n",
       "      <th>Insulin</th>\n",
       "      <th>BMI</th>\n",
       "      <th>DiabetesPedigreeFunction</th>\n",
       "      <th>Age</th>\n",
       "      <th>Outcome</th>\n",
       "    </tr>\n",
       "  </thead>\n",
       "  <tbody>\n",
       "    <tr>\n",
       "      <th>0</th>\n",
       "      <td>6</td>\n",
       "      <td>148</td>\n",
       "      <td>72</td>\n",
       "      <td>35</td>\n",
       "      <td>0</td>\n",
       "      <td>33.6</td>\n",
       "      <td>0.627</td>\n",
       "      <td>50</td>\n",
       "      <td>1</td>\n",
       "    </tr>\n",
       "    <tr>\n",
       "      <th>1</th>\n",
       "      <td>1</td>\n",
       "      <td>85</td>\n",
       "      <td>66</td>\n",
       "      <td>29</td>\n",
       "      <td>0</td>\n",
       "      <td>26.6</td>\n",
       "      <td>0.351</td>\n",
       "      <td>31</td>\n",
       "      <td>0</td>\n",
       "    </tr>\n",
       "    <tr>\n",
       "      <th>2</th>\n",
       "      <td>8</td>\n",
       "      <td>183</td>\n",
       "      <td>64</td>\n",
       "      <td>0</td>\n",
       "      <td>0</td>\n",
       "      <td>23.3</td>\n",
       "      <td>0.672</td>\n",
       "      <td>32</td>\n",
       "      <td>1</td>\n",
       "    </tr>\n",
       "    <tr>\n",
       "      <th>3</th>\n",
       "      <td>1</td>\n",
       "      <td>89</td>\n",
       "      <td>66</td>\n",
       "      <td>23</td>\n",
       "      <td>94</td>\n",
       "      <td>28.1</td>\n",
       "      <td>0.167</td>\n",
       "      <td>21</td>\n",
       "      <td>0</td>\n",
       "    </tr>\n",
       "    <tr>\n",
       "      <th>4</th>\n",
       "      <td>0</td>\n",
       "      <td>137</td>\n",
       "      <td>40</td>\n",
       "      <td>35</td>\n",
       "      <td>168</td>\n",
       "      <td>43.1</td>\n",
       "      <td>2.288</td>\n",
       "      <td>33</td>\n",
       "      <td>1</td>\n",
       "    </tr>\n",
       "  </tbody>\n",
       "</table>\n",
       "</div>"
      ],
      "text/plain": [
       "   Pregnancies  Glucose  BloodPressure  SkinThickness  Insulin   BMI  \\\n",
       "0            6      148             72             35        0  33.6   \n",
       "1            1       85             66             29        0  26.6   \n",
       "2            8      183             64              0        0  23.3   \n",
       "3            1       89             66             23       94  28.1   \n",
       "4            0      137             40             35      168  43.1   \n",
       "\n",
       "   DiabetesPedigreeFunction  Age  Outcome  \n",
       "0                     0.627   50        1  \n",
       "1                     0.351   31        0  \n",
       "2                     0.672   32        1  \n",
       "3                     0.167   21        0  \n",
       "4                     2.288   33        1  "
      ]
     },
     "execution_count": 308,
     "metadata": {},
     "output_type": "execute_result"
    }
   ],
   "source": [
    "df.head()"
   ]
  },
  {
   "cell_type": "code",
   "execution_count": 309,
   "metadata": {},
   "outputs": [
    {
     "data": {
      "text/plain": [
       "Pregnancies                 111\n",
       "Glucose                       5\n",
       "BloodPressure                35\n",
       "SkinThickness               227\n",
       "Insulin                     374\n",
       "BMI                          11\n",
       "DiabetesPedigreeFunction      0\n",
       "Age                           0\n",
       "Outcome                     500\n",
       "dtype: int64"
      ]
     },
     "execution_count": 309,
     "metadata": {},
     "output_type": "execute_result"
    }
   ],
   "source": [
    "(df.loc[:] == 0).sum()"
   ]
  },
  {
   "cell_type": "code",
   "execution_count": 310,
   "metadata": {},
   "outputs": [
    {
     "data": {
      "text/html": [
       "<div>\n",
       "<style scoped>\n",
       "    .dataframe tbody tr th:only-of-type {\n",
       "        vertical-align: middle;\n",
       "    }\n",
       "\n",
       "    .dataframe tbody tr th {\n",
       "        vertical-align: top;\n",
       "    }\n",
       "\n",
       "    .dataframe thead th {\n",
       "        text-align: right;\n",
       "    }\n",
       "</style>\n",
       "<table border=\"1\" class=\"dataframe\">\n",
       "  <thead>\n",
       "    <tr style=\"text-align: right;\">\n",
       "      <th></th>\n",
       "      <th>Pregnancies</th>\n",
       "      <th>Glucose</th>\n",
       "      <th>BloodPressure</th>\n",
       "      <th>SkinThickness</th>\n",
       "      <th>Insulin</th>\n",
       "      <th>BMI</th>\n",
       "      <th>DiabetesPedigreeFunction</th>\n",
       "      <th>Age</th>\n",
       "      <th>Outcome</th>\n",
       "    </tr>\n",
       "  </thead>\n",
       "  <tbody>\n",
       "    <tr>\n",
       "      <th>Pregnancies</th>\n",
       "      <td>1.000000</td>\n",
       "      <td>0.129459</td>\n",
       "      <td>0.141282</td>\n",
       "      <td>-0.081672</td>\n",
       "      <td>-0.073535</td>\n",
       "      <td>0.017683</td>\n",
       "      <td>-0.033523</td>\n",
       "      <td>0.544341</td>\n",
       "      <td>0.221898</td>\n",
       "    </tr>\n",
       "    <tr>\n",
       "      <th>Glucose</th>\n",
       "      <td>0.129459</td>\n",
       "      <td>1.000000</td>\n",
       "      <td>0.152590</td>\n",
       "      <td>0.057328</td>\n",
       "      <td>0.331357</td>\n",
       "      <td>0.221071</td>\n",
       "      <td>0.137337</td>\n",
       "      <td>0.263514</td>\n",
       "      <td>0.466581</td>\n",
       "    </tr>\n",
       "    <tr>\n",
       "      <th>BloodPressure</th>\n",
       "      <td>0.141282</td>\n",
       "      <td>0.152590</td>\n",
       "      <td>1.000000</td>\n",
       "      <td>0.207371</td>\n",
       "      <td>0.088933</td>\n",
       "      <td>0.281805</td>\n",
       "      <td>0.041265</td>\n",
       "      <td>0.239528</td>\n",
       "      <td>0.065068</td>\n",
       "    </tr>\n",
       "    <tr>\n",
       "      <th>SkinThickness</th>\n",
       "      <td>-0.081672</td>\n",
       "      <td>0.057328</td>\n",
       "      <td>0.207371</td>\n",
       "      <td>1.000000</td>\n",
       "      <td>0.436783</td>\n",
       "      <td>0.392573</td>\n",
       "      <td>0.183928</td>\n",
       "      <td>-0.113970</td>\n",
       "      <td>0.074752</td>\n",
       "    </tr>\n",
       "    <tr>\n",
       "      <th>Insulin</th>\n",
       "      <td>-0.073535</td>\n",
       "      <td>0.331357</td>\n",
       "      <td>0.088933</td>\n",
       "      <td>0.436783</td>\n",
       "      <td>1.000000</td>\n",
       "      <td>0.197859</td>\n",
       "      <td>0.185071</td>\n",
       "      <td>-0.042163</td>\n",
       "      <td>0.130548</td>\n",
       "    </tr>\n",
       "    <tr>\n",
       "      <th>BMI</th>\n",
       "      <td>0.017683</td>\n",
       "      <td>0.221071</td>\n",
       "      <td>0.281805</td>\n",
       "      <td>0.392573</td>\n",
       "      <td>0.197859</td>\n",
       "      <td>1.000000</td>\n",
       "      <td>0.140647</td>\n",
       "      <td>0.036242</td>\n",
       "      <td>0.292695</td>\n",
       "    </tr>\n",
       "    <tr>\n",
       "      <th>DiabetesPedigreeFunction</th>\n",
       "      <td>-0.033523</td>\n",
       "      <td>0.137337</td>\n",
       "      <td>0.041265</td>\n",
       "      <td>0.183928</td>\n",
       "      <td>0.185071</td>\n",
       "      <td>0.140647</td>\n",
       "      <td>1.000000</td>\n",
       "      <td>0.033561</td>\n",
       "      <td>0.173844</td>\n",
       "    </tr>\n",
       "    <tr>\n",
       "      <th>Age</th>\n",
       "      <td>0.544341</td>\n",
       "      <td>0.263514</td>\n",
       "      <td>0.239528</td>\n",
       "      <td>-0.113970</td>\n",
       "      <td>-0.042163</td>\n",
       "      <td>0.036242</td>\n",
       "      <td>0.033561</td>\n",
       "      <td>1.000000</td>\n",
       "      <td>0.238356</td>\n",
       "    </tr>\n",
       "    <tr>\n",
       "      <th>Outcome</th>\n",
       "      <td>0.221898</td>\n",
       "      <td>0.466581</td>\n",
       "      <td>0.065068</td>\n",
       "      <td>0.074752</td>\n",
       "      <td>0.130548</td>\n",
       "      <td>0.292695</td>\n",
       "      <td>0.173844</td>\n",
       "      <td>0.238356</td>\n",
       "      <td>1.000000</td>\n",
       "    </tr>\n",
       "  </tbody>\n",
       "</table>\n",
       "</div>"
      ],
      "text/plain": [
       "                          Pregnancies   Glucose  BloodPressure  SkinThickness  \\\n",
       "Pregnancies                  1.000000  0.129459       0.141282      -0.081672   \n",
       "Glucose                      0.129459  1.000000       0.152590       0.057328   \n",
       "BloodPressure                0.141282  0.152590       1.000000       0.207371   \n",
       "SkinThickness               -0.081672  0.057328       0.207371       1.000000   \n",
       "Insulin                     -0.073535  0.331357       0.088933       0.436783   \n",
       "BMI                          0.017683  0.221071       0.281805       0.392573   \n",
       "DiabetesPedigreeFunction    -0.033523  0.137337       0.041265       0.183928   \n",
       "Age                          0.544341  0.263514       0.239528      -0.113970   \n",
       "Outcome                      0.221898  0.466581       0.065068       0.074752   \n",
       "\n",
       "                           Insulin       BMI  DiabetesPedigreeFunction  \\\n",
       "Pregnancies              -0.073535  0.017683                 -0.033523   \n",
       "Glucose                   0.331357  0.221071                  0.137337   \n",
       "BloodPressure             0.088933  0.281805                  0.041265   \n",
       "SkinThickness             0.436783  0.392573                  0.183928   \n",
       "Insulin                   1.000000  0.197859                  0.185071   \n",
       "BMI                       0.197859  1.000000                  0.140647   \n",
       "DiabetesPedigreeFunction  0.185071  0.140647                  1.000000   \n",
       "Age                      -0.042163  0.036242                  0.033561   \n",
       "Outcome                   0.130548  0.292695                  0.173844   \n",
       "\n",
       "                               Age   Outcome  \n",
       "Pregnancies               0.544341  0.221898  \n",
       "Glucose                   0.263514  0.466581  \n",
       "BloodPressure             0.239528  0.065068  \n",
       "SkinThickness            -0.113970  0.074752  \n",
       "Insulin                  -0.042163  0.130548  \n",
       "BMI                       0.036242  0.292695  \n",
       "DiabetesPedigreeFunction  0.033561  0.173844  \n",
       "Age                       1.000000  0.238356  \n",
       "Outcome                   0.238356  1.000000  "
      ]
     },
     "execution_count": 310,
     "metadata": {},
     "output_type": "execute_result"
    }
   ],
   "source": [
    "df.corr()"
   ]
  },
  {
   "cell_type": "code",
   "execution_count": 311,
   "metadata": {},
   "outputs": [
    {
     "data": {
      "text/plain": [
       "<matplotlib.axes._subplots.AxesSubplot at 0x15405ad0>"
      ]
     },
     "execution_count": 311,
     "metadata": {},
     "output_type": "execute_result"
    },
    {
     "data": {
      "image/png": "[encoded data removed]",
      "text/plain": [
       "<matplotlib.figure.Figure at 0x15403650>"
      ]
     },
     "metadata": {},
     "output_type": "display_data"
    }
   ],
   "source": [
    "sns.boxplot(x='Glucose',data=df)"
   ]
  },
  {
   "cell_type": "code",
   "execution_count": 312,
   "metadata": {},
   "outputs": [],
   "source": [
    "df['Glucose'] = np.where(df['Glucose'] == 0,df['Glucose'].mean(),df['Glucose'])"
   ]
  },
  {
   "cell_type": "code",
   "execution_count": 313,
   "metadata": {},
   "outputs": [
    {
     "data": {
      "text/plain": [
       "Pregnancies                 111\n",
       "Glucose                       0\n",
       "BloodPressure                35\n",
       "SkinThickness               227\n",
       "Insulin                     374\n",
       "BMI                          11\n",
       "DiabetesPedigreeFunction      0\n",
       "Age                           0\n",
       "Outcome                     500\n",
       "dtype: int64"
      ]
     },
     "execution_count": 313,
     "metadata": {},
     "output_type": "execute_result"
    }
   ],
   "source": [
    "(df.loc[:] == 0).sum()"
   ]
  },
  {
   "cell_type": "code",
   "execution_count": 301,
   "metadata": {},
   "outputs": [
    {
     "data": {
      "text/plain": [
       "<matplotlib.axes._subplots.AxesSubplot at 0x154bea90>"
      ]
     },
     "execution_count": 301,
     "metadata": {},
     "output_type": "execute_result"
    },
    {
     "data": {
      "image/png": "[encoded data removed]",
      "text/plain": [
       "<matplotlib.figure.Figure at 0x1548e2d0>"
      ]
     },
     "metadata": {},
     "output_type": "display_data"
    }
   ],
   "source": [
    "sns.boxplot(x='BloodPressure',data=df)"
   ]
  },
  {
   "cell_type": "code",
   "execution_count": 314,
   "metadata": {},
   "outputs": [],
   "source": [
    "df['BloodPressure'] = df['BloodPressure'] = np.where(df['BloodPressure'] == 0,df['BloodPressure'].median(),df['BloodPressure'])"
   ]
  },
  {
   "cell_type": "code",
   "execution_count": 315,
   "metadata": {},
   "outputs": [
    {
     "data": {
      "text/html": [
       "<div>\n",
       "<style scoped>\n",
       "    .dataframe tbody tr th:only-of-type {\n",
       "        vertical-align: middle;\n",
       "    }\n",
       "\n",
       "    .dataframe tbody tr th {\n",
       "        vertical-align: top;\n",
       "    }\n",
       "\n",
       "    .dataframe thead th {\n",
       "        text-align: right;\n",
       "    }\n",
       "</style>\n",
       "<table border=\"1\" class=\"dataframe\">\n",
       "  <thead>\n",
       "    <tr style=\"text-align: right;\">\n",
       "      <th></th>\n",
       "      <th>Pregnancies</th>\n",
       "      <th>Glucose</th>\n",
       "      <th>BloodPressure</th>\n",
       "      <th>SkinThickness</th>\n",
       "      <th>Insulin</th>\n",
       "      <th>BMI</th>\n",
       "      <th>DiabetesPedigreeFunction</th>\n",
       "      <th>Age</th>\n",
       "      <th>Outcome</th>\n",
       "    </tr>\n",
       "  </thead>\n",
       "  <tbody>\n",
       "    <tr>\n",
       "      <th>Pregnancies</th>\n",
       "      <td>1.000000</td>\n",
       "      <td>0.127964</td>\n",
       "      <td>0.208615</td>\n",
       "      <td>-0.081672</td>\n",
       "      <td>-0.073535</td>\n",
       "      <td>0.017683</td>\n",
       "      <td>-0.033523</td>\n",
       "      <td>0.544341</td>\n",
       "      <td>0.221898</td>\n",
       "    </tr>\n",
       "    <tr>\n",
       "      <th>Glucose</th>\n",
       "      <td>0.127964</td>\n",
       "      <td>1.000000</td>\n",
       "      <td>0.218623</td>\n",
       "      <td>0.074934</td>\n",
       "      <td>0.331190</td>\n",
       "      <td>0.235147</td>\n",
       "      <td>0.137106</td>\n",
       "      <td>0.266600</td>\n",
       "      <td>0.492908</td>\n",
       "    </tr>\n",
       "    <tr>\n",
       "      <th>BloodPressure</th>\n",
       "      <td>0.208615</td>\n",
       "      <td>0.218623</td>\n",
       "      <td>1.000000</td>\n",
       "      <td>0.007937</td>\n",
       "      <td>-0.045769</td>\n",
       "      <td>0.234336</td>\n",
       "      <td>-0.002378</td>\n",
       "      <td>0.324915</td>\n",
       "      <td>0.165723</td>\n",
       "    </tr>\n",
       "    <tr>\n",
       "      <th>SkinThickness</th>\n",
       "      <td>-0.081672</td>\n",
       "      <td>0.074934</td>\n",
       "      <td>0.007937</td>\n",
       "      <td>1.000000</td>\n",
       "      <td>0.436783</td>\n",
       "      <td>0.392573</td>\n",
       "      <td>0.183928</td>\n",
       "      <td>-0.113970</td>\n",
       "      <td>0.074752</td>\n",
       "    </tr>\n",
       "    <tr>\n",
       "      <th>Insulin</th>\n",
       "      <td>-0.073535</td>\n",
       "      <td>0.331190</td>\n",
       "      <td>-0.045769</td>\n",
       "      <td>0.436783</td>\n",
       "      <td>1.000000</td>\n",
       "      <td>0.197859</td>\n",
       "      <td>0.185071</td>\n",
       "      <td>-0.042163</td>\n",
       "      <td>0.130548</td>\n",
       "    </tr>\n",
       "    <tr>\n",
       "      <th>BMI</th>\n",
       "      <td>0.017683</td>\n",
       "      <td>0.235147</td>\n",
       "      <td>0.234336</td>\n",
       "      <td>0.392573</td>\n",
       "      <td>0.197859</td>\n",
       "      <td>1.000000</td>\n",
       "      <td>0.140647</td>\n",
       "      <td>0.036242</td>\n",
       "      <td>0.292695</td>\n",
       "    </tr>\n",
       "    <tr>\n",
       "      <th>DiabetesPedigreeFunction</th>\n",
       "      <td>-0.033523</td>\n",
       "      <td>0.137106</td>\n",
       "      <td>-0.002378</td>\n",
       "      <td>0.183928</td>\n",
       "      <td>0.185071</td>\n",
       "      <td>0.140647</td>\n",
       "      <td>1.000000</td>\n",
       "      <td>0.033561</td>\n",
       "      <td>0.173844</td>\n",
       "    </tr>\n",
       "    <tr>\n",
       "      <th>Age</th>\n",
       "      <td>0.544341</td>\n",
       "      <td>0.266600</td>\n",
       "      <td>0.324915</td>\n",
       "      <td>-0.113970</td>\n",
       "      <td>-0.042163</td>\n",
       "      <td>0.036242</td>\n",
       "      <td>0.033561</td>\n",
       "      <td>1.000000</td>\n",
       "      <td>0.238356</td>\n",
       "    </tr>\n",
       "    <tr>\n",
       "      <th>Outcome</th>\n",
       "      <td>0.221898</td>\n",
       "      <td>0.492908</td>\n",
       "      <td>0.165723</td>\n",
       "      <td>0.074752</td>\n",
       "      <td>0.130548</td>\n",
       "      <td>0.292695</td>\n",
       "      <td>0.173844</td>\n",
       "      <td>0.238356</td>\n",
       "      <td>1.000000</td>\n",
       "    </tr>\n",
       "  </tbody>\n",
       "</table>\n",
       "</div>"
      ],
      "text/plain": [
       "                          Pregnancies   Glucose  BloodPressure  SkinThickness  \\\n",
       "Pregnancies                  1.000000  0.127964       0.208615      -0.081672   \n",
       "Glucose                      0.127964  1.000000       0.218623       0.074934   \n",
       "BloodPressure                0.208615  0.218623       1.000000       0.007937   \n",
       "SkinThickness               -0.081672  0.074934       0.007937       1.000000   \n",
       "Insulin                     -0.073535  0.331190      -0.045769       0.436783   \n",
       "BMI                          0.017683  0.235147       0.234336       0.392573   \n",
       "DiabetesPedigreeFunction    -0.033523  0.137106      -0.002378       0.183928   \n",
       "Age                          0.544341  0.266600       0.324915      -0.113970   \n",
       "Outcome                      0.221898  0.492908       0.165723       0.074752   \n",
       "\n",
       "                           Insulin       BMI  DiabetesPedigreeFunction  \\\n",
       "Pregnancies              -0.073535  0.017683                 -0.033523   \n",
       "Glucose                   0.331190  0.235147                  0.137106   \n",
       "BloodPressure            -0.045769  0.234336                 -0.002378   \n",
       "SkinThickness             0.436783  0.392573                  0.183928   \n",
       "Insulin                   1.000000  0.197859                  0.185071   \n",
       "BMI                       0.197859  1.000000                  0.140647   \n",
       "DiabetesPedigreeFunction  0.185071  0.140647                  1.000000   \n",
       "Age                      -0.042163  0.036242                  0.033561   \n",
       "Outcome                   0.130548  0.292695                  0.173844   \n",
       "\n",
       "                               Age   Outcome  \n",
       "Pregnancies               0.544341  0.221898  \n",
       "Glucose                   0.266600  0.492908  \n",
       "BloodPressure             0.324915  0.165723  \n",
       "SkinThickness            -0.113970  0.074752  \n",
       "Insulin                  -0.042163  0.130548  \n",
       "BMI                       0.036242  0.292695  \n",
       "DiabetesPedigreeFunction  0.033561  0.173844  \n",
       "Age                       1.000000  0.238356  \n",
       "Outcome                   0.238356  1.000000  "
      ]
     },
     "execution_count": 315,
     "metadata": {},
     "output_type": "execute_result"
    }
   ],
   "source": [
    "df.corr()"
   ]
  },
  {
   "cell_type": "code",
   "execution_count": null,
   "metadata": {},
   "outputs": [],
   "source": []
  },
  {
   "cell_type": "code",
   "execution_count": 316,
   "metadata": {},
   "outputs": [],
   "source": [
    "df['BMI'] = df['BMI'] = np.where(df['BMI'] == 0,df['BMI'].median(),df['BMI'])"
   ]
  },
  {
   "cell_type": "code",
   "execution_count": 317,
   "metadata": {},
   "outputs": [
    {
     "data": {
      "text/plain": [
       "<matplotlib.axes._subplots.AxesSubplot at 0x15498630>"
      ]
     },
     "execution_count": 317,
     "metadata": {},
     "output_type": "execute_result"
    },
    {
     "data": {
      "image/png": "[encoded data removed]",
      "text/plain": [
       "<matplotlib.figure.Figure at 0x15434db0>"
      ]
     },
     "metadata": {},
     "output_type": "display_data"
    }
   ],
   "source": [
    "sns.boxplot(x='BMI',data=df)"
   ]
  },
  {
   "cell_type": "code",
   "execution_count": 318,
   "metadata": {},
   "outputs": [
    {
     "data": {
      "text/plain": [
       "Pregnancies                 111\n",
       "Glucose                       0\n",
       "BloodPressure                 0\n",
       "SkinThickness               227\n",
       "Insulin                     374\n",
       "BMI                           0\n",
       "DiabetesPedigreeFunction      0\n",
       "Age                           0\n",
       "Outcome                     500\n",
       "dtype: int64"
      ]
     },
     "execution_count": 318,
     "metadata": {},
     "output_type": "execute_result"
    }
   ],
   "source": [
    "(df.loc[:] == 0).sum()"
   ]
  },
  {
   "cell_type": "code",
   "execution_count": 319,
   "metadata": {},
   "outputs": [
    {
     "data": {
      "text/plain": [
       "<matplotlib.axes._subplots.AxesSubplot at 0x154f4ef0>"
      ]
     },
     "execution_count": 319,
     "metadata": {},
     "output_type": "execute_result"
    },
    {
     "data": {
      "image/png": "[encoded data removed]",
      "text/plain": [
       "<matplotlib.figure.Figure at 0x154769b0>"
      ]
     },
     "metadata": {},
     "output_type": "display_data"
    }
   ],
   "source": [
    "sns.boxplot(x='SkinThickness',data=df)"
   ]
  },
  {
   "cell_type": "code",
   "execution_count": 320,
   "metadata": {},
   "outputs": [
    {
     "data": {
      "text/html": [
       "<div>\n",
       "<style scoped>\n",
       "    .dataframe tbody tr th:only-of-type {\n",
       "        vertical-align: middle;\n",
       "    }\n",
       "\n",
       "    .dataframe tbody tr th {\n",
       "        vertical-align: top;\n",
       "    }\n",
       "\n",
       "    .dataframe thead th {\n",
       "        text-align: right;\n",
       "    }\n",
       "</style>\n",
       "<table border=\"1\" class=\"dataframe\">\n",
       "  <thead>\n",
       "    <tr style=\"text-align: right;\">\n",
       "      <th></th>\n",
       "      <th>Pregnancies</th>\n",
       "      <th>Glucose</th>\n",
       "      <th>BloodPressure</th>\n",
       "      <th>SkinThickness</th>\n",
       "      <th>Insulin</th>\n",
       "      <th>BMI</th>\n",
       "      <th>DiabetesPedigreeFunction</th>\n",
       "      <th>Age</th>\n",
       "      <th>Outcome</th>\n",
       "    </tr>\n",
       "  </thead>\n",
       "  <tbody>\n",
       "    <tr>\n",
       "      <th>Pregnancies</th>\n",
       "      <td>1.000000</td>\n",
       "      <td>0.127964</td>\n",
       "      <td>0.208615</td>\n",
       "      <td>-0.081672</td>\n",
       "      <td>-0.073535</td>\n",
       "      <td>0.021546</td>\n",
       "      <td>-0.033523</td>\n",
       "      <td>0.544341</td>\n",
       "      <td>0.221898</td>\n",
       "    </tr>\n",
       "    <tr>\n",
       "      <th>Glucose</th>\n",
       "      <td>0.127964</td>\n",
       "      <td>1.000000</td>\n",
       "      <td>0.218623</td>\n",
       "      <td>0.074934</td>\n",
       "      <td>0.331190</td>\n",
       "      <td>0.231469</td>\n",
       "      <td>0.137106</td>\n",
       "      <td>0.266600</td>\n",
       "      <td>0.492908</td>\n",
       "    </tr>\n",
       "    <tr>\n",
       "      <th>BloodPressure</th>\n",
       "      <td>0.208615</td>\n",
       "      <td>0.218623</td>\n",
       "      <td>1.000000</td>\n",
       "      <td>0.007937</td>\n",
       "      <td>-0.045769</td>\n",
       "      <td>0.281132</td>\n",
       "      <td>-0.002378</td>\n",
       "      <td>0.324915</td>\n",
       "      <td>0.165723</td>\n",
       "    </tr>\n",
       "    <tr>\n",
       "      <th>SkinThickness</th>\n",
       "      <td>-0.081672</td>\n",
       "      <td>0.074934</td>\n",
       "      <td>0.007937</td>\n",
       "      <td>1.000000</td>\n",
       "      <td>0.436783</td>\n",
       "      <td>0.381740</td>\n",
       "      <td>0.183928</td>\n",
       "      <td>-0.113970</td>\n",
       "      <td>0.074752</td>\n",
       "    </tr>\n",
       "    <tr>\n",
       "      <th>Insulin</th>\n",
       "      <td>-0.073535</td>\n",
       "      <td>0.331190</td>\n",
       "      <td>-0.045769</td>\n",
       "      <td>0.436783</td>\n",
       "      <td>1.000000</td>\n",
       "      <td>0.185356</td>\n",
       "      <td>0.185071</td>\n",
       "      <td>-0.042163</td>\n",
       "      <td>0.130548</td>\n",
       "    </tr>\n",
       "    <tr>\n",
       "      <th>BMI</th>\n",
       "      <td>0.021546</td>\n",
       "      <td>0.231469</td>\n",
       "      <td>0.281132</td>\n",
       "      <td>0.381740</td>\n",
       "      <td>0.185356</td>\n",
       "      <td>1.000000</td>\n",
       "      <td>0.153506</td>\n",
       "      <td>0.025744</td>\n",
       "      <td>0.312249</td>\n",
       "    </tr>\n",
       "    <tr>\n",
       "      <th>DiabetesPedigreeFunction</th>\n",
       "      <td>-0.033523</td>\n",
       "      <td>0.137106</td>\n",
       "      <td>-0.002378</td>\n",
       "      <td>0.183928</td>\n",
       "      <td>0.185071</td>\n",
       "      <td>0.153506</td>\n",
       "      <td>1.000000</td>\n",
       "      <td>0.033561</td>\n",
       "      <td>0.173844</td>\n",
       "    </tr>\n",
       "    <tr>\n",
       "      <th>Age</th>\n",
       "      <td>0.544341</td>\n",
       "      <td>0.266600</td>\n",
       "      <td>0.324915</td>\n",
       "      <td>-0.113970</td>\n",
       "      <td>-0.042163</td>\n",
       "      <td>0.025744</td>\n",
       "      <td>0.033561</td>\n",
       "      <td>1.000000</td>\n",
       "      <td>0.238356</td>\n",
       "    </tr>\n",
       "    <tr>\n",
       "      <th>Outcome</th>\n",
       "      <td>0.221898</td>\n",
       "      <td>0.492908</td>\n",
       "      <td>0.165723</td>\n",
       "      <td>0.074752</td>\n",
       "      <td>0.130548</td>\n",
       "      <td>0.312249</td>\n",
       "      <td>0.173844</td>\n",
       "      <td>0.238356</td>\n",
       "      <td>1.000000</td>\n",
       "    </tr>\n",
       "  </tbody>\n",
       "</table>\n",
       "</div>"
      ],
      "text/plain": [
       "                          Pregnancies   Glucose  BloodPressure  SkinThickness  \\\n",
       "Pregnancies                  1.000000  0.127964       0.208615      -0.081672   \n",
       "Glucose                      0.127964  1.000000       0.218623       0.074934   \n",
       "BloodPressure                0.208615  0.218623       1.000000       0.007937   \n",
       "SkinThickness               -0.081672  0.074934       0.007937       1.000000   \n",
       "Insulin                     -0.073535  0.331190      -0.045769       0.436783   \n",
       "BMI                          0.021546  0.231469       0.281132       0.381740   \n",
       "DiabetesPedigreeFunction    -0.033523  0.137106      -0.002378       0.183928   \n",
       "Age                          0.544341  0.266600       0.324915      -0.113970   \n",
       "Outcome                      0.221898  0.492908       0.165723       0.074752   \n",
       "\n",
       "                           Insulin       BMI  DiabetesPedigreeFunction  \\\n",
       "Pregnancies              -0.073535  0.021546                 -0.033523   \n",
       "Glucose                   0.331190  0.231469                  0.137106   \n",
       "BloodPressure            -0.045769  0.281132                 -0.002378   \n",
       "SkinThickness             0.436783  0.381740                  0.183928   \n",
       "Insulin                   1.000000  0.185356                  0.185071   \n",
       "BMI                       0.185356  1.000000                  0.153506   \n",
       "DiabetesPedigreeFunction  0.185071  0.153506                  1.000000   \n",
       "Age                      -0.042163  0.025744                  0.033561   \n",
       "Outcome                   0.130548  0.312249                  0.173844   \n",
       "\n",
       "                               Age   Outcome  \n",
       "Pregnancies               0.544341  0.221898  \n",
       "Glucose                   0.266600  0.492908  \n",
       "BloodPressure             0.324915  0.165723  \n",
       "SkinThickness            -0.113970  0.074752  \n",
       "Insulin                  -0.042163  0.130548  \n",
       "BMI                       0.025744  0.312249  \n",
       "DiabetesPedigreeFunction  0.033561  0.173844  \n",
       "Age                       1.000000  0.238356  \n",
       "Outcome                   0.238356  1.000000  "
      ]
     },
     "execution_count": 320,
     "metadata": {},
     "output_type": "execute_result"
    }
   ],
   "source": [
    "df.corr()"
   ]
  },
  {
   "cell_type": "code",
   "execution_count": 321,
   "metadata": {},
   "outputs": [],
   "source": [
    "df['SkinThickness'] = df['SkinThickness'] = np.where(df['SkinThickness'] == 0,df['SkinThickness'].median(),df['SkinThickness'])"
   ]
  },
  {
   "cell_type": "code",
   "execution_count": 322,
   "metadata": {},
   "outputs": [
    {
     "data": {
      "text/plain": [
       "<matplotlib.axes._subplots.AxesSubplot at 0x15535dd0>"
      ]
     },
     "execution_count": 322,
     "metadata": {},
     "output_type": "execute_result"
    },
    {
     "data": {
      "image/png": "[encoded data removed]",
      "text/plain": [
       "<matplotlib.figure.Figure at 0x154fbe90>"
      ]
     },
     "metadata": {},
     "output_type": "display_data"
    }
   ],
   "source": [
    "sns.boxplot(x='SkinThickness',data=df)"
   ]
  },
  {
   "cell_type": "code",
   "execution_count": 323,
   "metadata": {},
   "outputs": [
    {
     "data": {
      "text/plain": [
       "Pregnancies                 111\n",
       "Glucose                       0\n",
       "BloodPressure                 0\n",
       "SkinThickness                 0\n",
       "Insulin                     374\n",
       "BMI                           0\n",
       "DiabetesPedigreeFunction      0\n",
       "Age                           0\n",
       "Outcome                     500\n",
       "dtype: int64"
      ]
     },
     "execution_count": 323,
     "metadata": {},
     "output_type": "execute_result"
    }
   ],
   "source": [
    "(df.loc[:] == 0).sum()"
   ]
  },
  {
   "cell_type": "code",
   "execution_count": 324,
   "metadata": {},
   "outputs": [
    {
     "data": {
      "text/plain": [
       "<matplotlib.axes._subplots.AxesSubplot at 0x15570d90>"
      ]
     },
     "execution_count": 324,
     "metadata": {},
     "output_type": "execute_result"
    },
    {
     "data": {
      "image/png": "[encoded data removed]",
      "text/plain": [
       "<matplotlib.figure.Figure at 0x154cd510>"
      ]
     },
     "metadata": {},
     "output_type": "display_data"
    }
   ],
   "source": [
    "sns.lineplot(x='Glucose',y='Insulin',data=df)"
   ]
  },
  {
   "cell_type": "code",
   "execution_count": 91,
   "metadata": {},
   "outputs": [
    {
     "data": {
      "text/plain": [
       "Pregnancies                   3.976190\n",
       "Glucose                     128.205194\n",
       "BloodPressure                73.750000\n",
       "SkinThickness                27.690476\n",
       "Insulin                      89.000000\n",
       "BMI                          32.872619\n",
       "DiabetesPedigreeFunction      0.471988\n",
       "Age                          34.261905\n",
       "Outcome                       0.386905\n",
       "dtype: float64"
      ]
     },
     "execution_count": 91,
     "metadata": {},
     "output_type": "execute_result"
    }
   ],
   "source": [
    "df.loc[np.where((df['Glucose'] >=120) & (df['Glucose'] <140))].mean()"
   ]
  },
  {
   "cell_type": "code",
   "execution_count": 90,
   "metadata": {},
   "outputs": [
    {
     "data": {
      "text/plain": [
       "Pregnancies                   4.741722\n",
       "Glucose                     156.172185\n",
       "BloodPressure                76.576159\n",
       "SkinThickness                29.417219\n",
       "Insulin                     127.013245\n",
       "BMI                          34.922517\n",
       "DiabetesPedigreeFunction      0.496980\n",
       "Age                          37.781457\n",
       "Outcome                       0.635762\n",
       "dtype: float64"
      ]
     },
     "execution_count": 90,
     "metadata": {},
     "output_type": "execute_result"
    }
   ],
   "source": [
    "df.loc[np.where((df['Glucose'] >=140) & (df['Glucose'] <180))].mean()"
   ]
  },
  {
   "cell_type": "code",
   "execution_count": 89,
   "metadata": {},
   "outputs": [
    {
     "data": {
      "text/plain": [
       "Pregnancies                   4.130435\n",
       "Glucose                     188.391304\n",
       "BloodPressure                75.413043\n",
       "SkinThickness                30.804348\n",
       "Insulin                     164.021739\n",
       "BMI                          34.971739\n",
       "DiabetesPedigreeFunction      0.653043\n",
       "Age                          39.304348\n",
       "Outcome                       0.847826\n",
       "dtype: float64"
      ]
     },
     "execution_count": 89,
     "metadata": {},
     "output_type": "execute_result"
    }
   ],
   "source": [
    "df.loc[np.where(df['Glucose'] >=180)].mean()"
   ]
  },
  {
   "cell_type": "code",
   "execution_count": 78,
   "metadata": {},
   "outputs": [
    {
     "data": {
      "text/plain": [
       "48.660049627791565"
      ]
     },
     "execution_count": 78,
     "metadata": {},
     "output_type": "execute_result"
    }
   ],
   "source": [
    "df.loc[np.where(df['Glucose'] <120)]['Insulin'].mean()"
   ]
  },
  {
   "cell_type": "code",
   "execution_count": 103,
   "metadata": {},
   "outputs": [],
   "source": [
    "def impute_insulin(cols):\n",
    "    Glucose = cols[0]\n",
    "    Insulin = cols[1]\n",
    "    if Insulin == 0:\n",
    "        if Glucose < 120:\n",
    "            return(df.loc[np.where((df['Glucose'] <120) & (df['Insulin']>0))]['Insulin'].mean())\n",
    "        elif 120 <= Glucose < 140:\n",
    "            return(df.loc[np.where((df['Glucose'] >=120) & (df['Glucose'] <140) & (df['Insulin']>0))]['Insulin'].mean())\n",
    "        elif 140 <= Glucose < 180:\n",
    "            return(df.loc[np.where((df['Glucose'] >=140) & (df['Glucose'] <180) & (df['Insulin']>0))]['Insulin'].mean())\n",
    "        elif Glucose >= 180:\n",
    "            return(df.loc[np.where((df['Glucose'] >=180) & (df['Insulin']>0))]['Insulin'].mean())\n",
    "    else:\n",
    "        return(Insulin)\n",
    "        "
   ]
  },
  {
   "cell_type": "code",
   "execution_count": 325,
   "metadata": {},
   "outputs": [],
   "source": [
    "df['Insulin'] = df[['Glucose','Insulin']].apply(impute_insulin,axis=1)"
   ]
  },
  {
   "cell_type": "code",
   "execution_count": null,
   "metadata": {},
   "outputs": [],
   "source": []
  },
  {
   "cell_type": "code",
   "execution_count": 326,
   "metadata": {},
   "outputs": [
    {
     "data": {
      "text/plain": [
       "Pregnancies                 111\n",
       "Glucose                       0\n",
       "BloodPressure                 0\n",
       "SkinThickness                 0\n",
       "Insulin                       0\n",
       "BMI                           0\n",
       "DiabetesPedigreeFunction      0\n",
       "Age                           0\n",
       "Outcome                     500\n",
       "dtype: int64"
      ]
     },
     "execution_count": 326,
     "metadata": {},
     "output_type": "execute_result"
    }
   ],
   "source": [
    "(df.loc[:] == 0).sum()"
   ]
  },
  {
   "cell_type": "code",
   "execution_count": 327,
   "metadata": {},
   "outputs": [
    {
     "data": {
      "text/html": [
       "<div>\n",
       "<style scoped>\n",
       "    .dataframe tbody tr th:only-of-type {\n",
       "        vertical-align: middle;\n",
       "    }\n",
       "\n",
       "    .dataframe tbody tr th {\n",
       "        vertical-align: top;\n",
       "    }\n",
       "\n",
       "    .dataframe thead th {\n",
       "        text-align: right;\n",
       "    }\n",
       "</style>\n",
       "<table border=\"1\" class=\"dataframe\">\n",
       "  <thead>\n",
       "    <tr style=\"text-align: right;\">\n",
       "      <th></th>\n",
       "      <th>Pregnancies</th>\n",
       "      <th>Glucose</th>\n",
       "      <th>BloodPressure</th>\n",
       "      <th>SkinThickness</th>\n",
       "      <th>Insulin</th>\n",
       "      <th>BMI</th>\n",
       "      <th>DiabetesPedigreeFunction</th>\n",
       "      <th>Age</th>\n",
       "      <th>Outcome</th>\n",
       "    </tr>\n",
       "  </thead>\n",
       "  <tbody>\n",
       "    <tr>\n",
       "      <th>Pregnancies</th>\n",
       "      <td>1.000000</td>\n",
       "      <td>0.127964</td>\n",
       "      <td>0.208615</td>\n",
       "      <td>0.032568</td>\n",
       "      <td>0.062370</td>\n",
       "      <td>0.021546</td>\n",
       "      <td>-0.033523</td>\n",
       "      <td>0.544341</td>\n",
       "      <td>0.221898</td>\n",
       "    </tr>\n",
       "    <tr>\n",
       "      <th>Glucose</th>\n",
       "      <td>0.127964</td>\n",
       "      <td>1.000000</td>\n",
       "      <td>0.218623</td>\n",
       "      <td>0.172361</td>\n",
       "      <td>0.664170</td>\n",
       "      <td>0.231469</td>\n",
       "      <td>0.137106</td>\n",
       "      <td>0.266600</td>\n",
       "      <td>0.492908</td>\n",
       "    </tr>\n",
       "    <tr>\n",
       "      <th>BloodPressure</th>\n",
       "      <td>0.208615</td>\n",
       "      <td>0.218623</td>\n",
       "      <td>1.000000</td>\n",
       "      <td>0.147809</td>\n",
       "      <td>0.127595</td>\n",
       "      <td>0.281132</td>\n",
       "      <td>-0.002378</td>\n",
       "      <td>0.324915</td>\n",
       "      <td>0.165723</td>\n",
       "    </tr>\n",
       "    <tr>\n",
       "      <th>SkinThickness</th>\n",
       "      <td>0.032568</td>\n",
       "      <td>0.172361</td>\n",
       "      <td>0.147809</td>\n",
       "      <td>1.000000</td>\n",
       "      <td>0.173179</td>\n",
       "      <td>0.546951</td>\n",
       "      <td>0.142977</td>\n",
       "      <td>0.054514</td>\n",
       "      <td>0.189065</td>\n",
       "    </tr>\n",
       "    <tr>\n",
       "      <th>Insulin</th>\n",
       "      <td>0.062370</td>\n",
       "      <td>0.664170</td>\n",
       "      <td>0.127595</td>\n",
       "      <td>0.173179</td>\n",
       "      <td>1.000000</td>\n",
       "      <td>0.232037</td>\n",
       "      <td>0.128849</td>\n",
       "      <td>0.197088</td>\n",
       "      <td>0.332232</td>\n",
       "    </tr>\n",
       "    <tr>\n",
       "      <th>BMI</th>\n",
       "      <td>0.021546</td>\n",
       "      <td>0.231469</td>\n",
       "      <td>0.281132</td>\n",
       "      <td>0.546951</td>\n",
       "      <td>0.232037</td>\n",
       "      <td>1.000000</td>\n",
       "      <td>0.153506</td>\n",
       "      <td>0.025744</td>\n",
       "      <td>0.312249</td>\n",
       "    </tr>\n",
       "    <tr>\n",
       "      <th>DiabetesPedigreeFunction</th>\n",
       "      <td>-0.033523</td>\n",
       "      <td>0.137106</td>\n",
       "      <td>-0.002378</td>\n",
       "      <td>0.142977</td>\n",
       "      <td>0.128849</td>\n",
       "      <td>0.153506</td>\n",
       "      <td>1.000000</td>\n",
       "      <td>0.033561</td>\n",
       "      <td>0.173844</td>\n",
       "    </tr>\n",
       "    <tr>\n",
       "      <th>Age</th>\n",
       "      <td>0.544341</td>\n",
       "      <td>0.266600</td>\n",
       "      <td>0.324915</td>\n",
       "      <td>0.054514</td>\n",
       "      <td>0.197088</td>\n",
       "      <td>0.025744</td>\n",
       "      <td>0.033561</td>\n",
       "      <td>1.000000</td>\n",
       "      <td>0.238356</td>\n",
       "    </tr>\n",
       "    <tr>\n",
       "      <th>Outcome</th>\n",
       "      <td>0.221898</td>\n",
       "      <td>0.492908</td>\n",
       "      <td>0.165723</td>\n",
       "      <td>0.189065</td>\n",
       "      <td>0.332232</td>\n",
       "      <td>0.312249</td>\n",
       "      <td>0.173844</td>\n",
       "      <td>0.238356</td>\n",
       "      <td>1.000000</td>\n",
       "    </tr>\n",
       "  </tbody>\n",
       "</table>\n",
       "</div>"
      ],
      "text/plain": [
       "                          Pregnancies   Glucose  BloodPressure  SkinThickness  \\\n",
       "Pregnancies                  1.000000  0.127964       0.208615       0.032568   \n",
       "Glucose                      0.127964  1.000000       0.218623       0.172361   \n",
       "BloodPressure                0.208615  0.218623       1.000000       0.147809   \n",
       "SkinThickness                0.032568  0.172361       0.147809       1.000000   \n",
       "Insulin                      0.062370  0.664170       0.127595       0.173179   \n",
       "BMI                          0.021546  0.231469       0.281132       0.546951   \n",
       "DiabetesPedigreeFunction    -0.033523  0.137106      -0.002378       0.142977   \n",
       "Age                          0.544341  0.266600       0.324915       0.054514   \n",
       "Outcome                      0.221898  0.492908       0.165723       0.189065   \n",
       "\n",
       "                           Insulin       BMI  DiabetesPedigreeFunction  \\\n",
       "Pregnancies               0.062370  0.021546                 -0.033523   \n",
       "Glucose                   0.664170  0.231469                  0.137106   \n",
       "BloodPressure             0.127595  0.281132                 -0.002378   \n",
       "SkinThickness             0.173179  0.546951                  0.142977   \n",
       "Insulin                   1.000000  0.232037                  0.128849   \n",
       "BMI                       0.232037  1.000000                  0.153506   \n",
       "DiabetesPedigreeFunction  0.128849  0.153506                  1.000000   \n",
       "Age                       0.197088  0.025744                  0.033561   \n",
       "Outcome                   0.332232  0.312249                  0.173844   \n",
       "\n",
       "                               Age   Outcome  \n",
       "Pregnancies               0.544341  0.221898  \n",
       "Glucose                   0.266600  0.492908  \n",
       "BloodPressure             0.324915  0.165723  \n",
       "SkinThickness             0.054514  0.189065  \n",
       "Insulin                   0.197088  0.332232  \n",
       "BMI                       0.025744  0.312249  \n",
       "DiabetesPedigreeFunction  0.033561  0.173844  \n",
       "Age                       1.000000  0.238356  \n",
       "Outcome                   0.238356  1.000000  "
      ]
     },
     "execution_count": 327,
     "metadata": {},
     "output_type": "execute_result"
    }
   ],
   "source": [
    "df.corr()"
   ]
  },
  {
   "cell_type": "code",
   "execution_count": 186,
   "metadata": {},
   "outputs": [
    {
     "data": {
      "text/plain": [
       "Index(['Pregnancies', 'Glucose', 'BloodPressure', 'SkinThickness', 'Insulin',\n",
       "       'BMI', 'DiabetesPedigreeFunction', 'Age', 'Outcome'],\n",
       "      dtype='object')"
      ]
     },
     "execution_count": 186,
     "metadata": {},
     "output_type": "execute_result"
    }
   ],
   "source": [
    "df.columns"
   ]
  },
  {
   "cell_type": "code",
   "execution_count": 189,
   "metadata": {
    "scrolled": false
   },
   "outputs": [
    {
     "name": "stdout",
     "output_type": "stream",
     "text": [
      "1     135\n",
      "0     111\n",
      "2     103\n",
      "3      75\n",
      "4      68\n",
      "5      57\n",
      "6      50\n",
      "7      45\n",
      "8      38\n",
      "9      28\n",
      "10     24\n",
      "11     11\n",
      "13     10\n",
      "12      9\n",
      "14      2\n",
      "15      1\n",
      "17      1\n",
      "Name: Pregnancies, dtype: int64\n",
      "100.0    17\n",
      "99.0     17\n",
      "125.0    14\n",
      "106.0    14\n",
      "111.0    14\n",
      "129.0    14\n",
      "108.0    13\n",
      "102.0    13\n",
      "105.0    13\n",
      "112.0    13\n",
      "95.0     13\n",
      "122.0    12\n",
      "109.0    12\n",
      "124.0    11\n",
      "90.0     11\n",
      "128.0    11\n",
      "119.0    11\n",
      "114.0    11\n",
      "107.0    11\n",
      "120.0    11\n",
      "117.0    11\n",
      "115.0    10\n",
      "84.0     10\n",
      "92.0      9\n",
      "103.0     9\n",
      "91.0      9\n",
      "88.0      9\n",
      "97.0      9\n",
      "126.0     9\n",
      "123.0     9\n",
      "         ..\n",
      "159.0     2\n",
      "153.0     2\n",
      "193.0     2\n",
      "157.0     2\n",
      "75.0      2\n",
      "77.0      2\n",
      "175.0     2\n",
      "170.0     2\n",
      "195.0     2\n",
      "76.0      2\n",
      "174.0     2\n",
      "56.0      1\n",
      "191.0     1\n",
      "177.0     1\n",
      "199.0     1\n",
      "190.0     1\n",
      "65.0      1\n",
      "198.0     1\n",
      "67.0      1\n",
      "44.0      1\n",
      "186.0     1\n",
      "172.0     1\n",
      "72.0      1\n",
      "61.0      1\n",
      "178.0     1\n",
      "182.0     1\n",
      "169.0     1\n",
      "160.0     1\n",
      "62.0      1\n",
      "149.0     1\n",
      "Name: Glucose, Length: 136, dtype: int64\n",
      "72.0     79\n",
      "70.0     57\n",
      "74.0     52\n",
      "78.0     45\n",
      "68.0     45\n",
      "64.0     43\n",
      "80.0     40\n",
      "76.0     39\n",
      "60.0     37\n",
      "62.0     34\n",
      "82.0     30\n",
      "66.0     30\n",
      "88.0     25\n",
      "84.0     23\n",
      "90.0     22\n",
      "58.0     21\n",
      "86.0     21\n",
      "50.0     13\n",
      "56.0     12\n",
      "54.0     11\n",
      "52.0     11\n",
      "92.0      8\n",
      "75.0      8\n",
      "65.0      7\n",
      "94.0      6\n",
      "85.0      6\n",
      "48.0      5\n",
      "96.0      4\n",
      "44.0      4\n",
      "110.0     3\n",
      "106.0     3\n",
      "98.0      3\n",
      "100.0     3\n",
      "108.0     2\n",
      "55.0      2\n",
      "30.0      2\n",
      "104.0     2\n",
      "46.0      2\n",
      "122.0     1\n",
      "95.0      1\n",
      "102.0     1\n",
      "61.0      1\n",
      "40.0      1\n",
      "24.0      1\n",
      "38.0      1\n",
      "114.0     1\n",
      "Name: BloodPressure, dtype: int64\n",
      "23.0    249\n",
      "32.0     31\n",
      "30.0     27\n",
      "27.0     23\n",
      "33.0     20\n",
      "28.0     20\n",
      "18.0     20\n",
      "31.0     19\n",
      "19.0     18\n",
      "39.0     18\n",
      "29.0     17\n",
      "25.0     16\n",
      "26.0     16\n",
      "22.0     16\n",
      "37.0     16\n",
      "40.0     16\n",
      "35.0     15\n",
      "41.0     15\n",
      "36.0     14\n",
      "15.0     14\n",
      "17.0     14\n",
      "20.0     13\n",
      "24.0     12\n",
      "42.0     11\n",
      "13.0     11\n",
      "21.0     10\n",
      "34.0      8\n",
      "46.0      8\n",
      "38.0      7\n",
      "12.0      7\n",
      "11.0      6\n",
      "16.0      6\n",
      "45.0      6\n",
      "43.0      6\n",
      "14.0      6\n",
      "10.0      5\n",
      "44.0      5\n",
      "48.0      4\n",
      "47.0      4\n",
      "50.0      3\n",
      "49.0      3\n",
      "8.0       2\n",
      "54.0      2\n",
      "7.0       2\n",
      "52.0      2\n",
      "63.0      1\n",
      "56.0      1\n",
      "51.0      1\n",
      "60.0      1\n",
      "99.0      1\n",
      "Name: SkinThickness, dtype: int64\n",
      "99.040404     205\n",
      "169.909091     80\n",
      "231.072289     68\n",
      "301.800000     21\n",
      "105.000000     11\n",
      "140.000000      9\n",
      "130.000000      9\n",
      "120.000000      8\n",
      "100.000000      7\n",
      "94.000000       7\n",
      "180.000000      7\n",
      "115.000000      6\n",
      "110.000000      6\n",
      "135.000000      6\n",
      "210.000000      5\n",
      "56.000000       5\n",
      "76.000000       5\n",
      "49.000000       5\n",
      "66.000000       5\n",
      "165.000000      4\n",
      "71.000000       4\n",
      "90.000000       4\n",
      "125.000000      4\n",
      "64.000000       4\n",
      "155.000000      4\n",
      "190.000000      4\n",
      "160.000000      4\n",
      "54.000000       4\n",
      "200.000000      4\n",
      "88.000000       4\n",
      "             ... \n",
      "81.000000       1\n",
      "59.000000       1\n",
      "72.000000       1\n",
      "84.000000       1\n",
      "89.000000       1\n",
      "43.000000       1\n",
      "108.000000      1\n",
      "73.000000       1\n",
      "52.000000       1\n",
      "68.000000       1\n",
      "188.000000      1\n",
      "166.000000      1\n",
      "415.000000      1\n",
      "600.000000      1\n",
      "271.000000      1\n",
      "545.000000      1\n",
      "112.000000      1\n",
      "16.000000       1\n",
      "127.000000      1\n",
      "178.000000      1\n",
      "392.000000      1\n",
      "22.000000       1\n",
      "440.000000      1\n",
      "46.000000       1\n",
      "91.000000       1\n",
      "15.000000       1\n",
      "272.000000      1\n",
      "41.000000       1\n",
      "25.000000       1\n",
      "196.000000      1\n",
      "Name: Insulin, Length: 189, dtype: int64\n",
      "32.0    24\n",
      "31.6    12\n",
      "31.2    12\n",
      "33.3    10\n",
      "32.4    10\n",
      "32.8     9\n",
      "30.8     9\n",
      "30.1     9\n",
      "32.9     9\n",
      "29.7     8\n",
      "33.6     8\n",
      "34.2     8\n",
      "28.7     7\n",
      "30.5     7\n",
      "27.6     7\n",
      "30.0     7\n",
      "33.2     7\n",
      "25.9     7\n",
      "35.5     7\n",
      "30.4     7\n",
      "39.4     7\n",
      "27.8     7\n",
      "24.2     6\n",
      "38.5     6\n",
      "32.5     6\n",
      "25.0     6\n",
      "34.9     6\n",
      "25.2     6\n",
      "25.6     6\n",
      "28.4     6\n",
      "        ..\n",
      "21.7     1\n",
      "21.2     1\n",
      "43.1     1\n",
      "45.4     1\n",
      "40.7     1\n",
      "45.2     1\n",
      "24.1     1\n",
      "44.1     1\n",
      "29.2     1\n",
      "38.6     1\n",
      "67.1     1\n",
      "41.2     1\n",
      "26.7     1\n",
      "48.8     1\n",
      "49.6     1\n",
      "46.7     1\n",
      "42.8     1\n",
      "22.7     1\n",
      "24.9     1\n",
      "40.8     1\n",
      "57.3     1\n",
      "31.1     1\n",
      "53.2     1\n",
      "46.3     1\n",
      "36.2     1\n",
      "32.1     1\n",
      "52.9     1\n",
      "31.3     1\n",
      "45.7     1\n",
      "41.8     1\n",
      "Name: BMI, Length: 247, dtype: int64\n",
      "0.254    6\n",
      "0.258    6\n",
      "0.259    5\n",
      "0.238    5\n",
      "0.207    5\n",
      "0.268    5\n",
      "0.261    5\n",
      "0.167    4\n",
      "0.190    4\n",
      "0.270    4\n",
      "0.687    4\n",
      "0.237    4\n",
      "0.263    4\n",
      "0.284    4\n",
      "0.245    4\n",
      "0.260    4\n",
      "0.692    4\n",
      "0.304    4\n",
      "0.299    4\n",
      "0.551    4\n",
      "0.197    4\n",
      "0.349    3\n",
      "0.205    3\n",
      "0.256    3\n",
      "0.187    3\n",
      "0.337    3\n",
      "0.142    3\n",
      "0.422    3\n",
      "0.340    3\n",
      "0.389    3\n",
      "        ..\n",
      "0.725    1\n",
      "0.325    1\n",
      "0.239    1\n",
      "1.258    1\n",
      "0.331    1\n",
      "0.096    1\n",
      "0.832    1\n",
      "0.454    1\n",
      "0.546    1\n",
      "0.704    1\n",
      "0.398    1\n",
      "0.711    1\n",
      "0.547    1\n",
      "0.426    1\n",
      "0.491    1\n",
      "0.503    1\n",
      "0.867    1\n",
      "0.944    1\n",
      "0.743    1\n",
      "0.666    1\n",
      "0.420    1\n",
      "0.588    1\n",
      "1.144    1\n",
      "0.593    1\n",
      "0.162    1\n",
      "0.886    1\n",
      "0.804    1\n",
      "1.251    1\n",
      "0.382    1\n",
      "0.375    1\n",
      "Name: DiabetesPedigreeFunction, Length: 517, dtype: int64\n",
      "22    72\n",
      "21    63\n",
      "25    48\n",
      "24    46\n",
      "23    38\n",
      "28    35\n",
      "26    33\n",
      "27    32\n",
      "29    29\n",
      "31    24\n",
      "41    22\n",
      "30    21\n",
      "37    19\n",
      "42    18\n",
      "33    17\n",
      "32    16\n",
      "36    16\n",
      "38    16\n",
      "45    15\n",
      "34    14\n",
      "40    13\n",
      "43    13\n",
      "46    13\n",
      "39    12\n",
      "35    10\n",
      "50     8\n",
      "44     8\n",
      "51     8\n",
      "52     8\n",
      "58     7\n",
      "47     6\n",
      "54     6\n",
      "57     5\n",
      "60     5\n",
      "48     5\n",
      "49     5\n",
      "53     5\n",
      "55     4\n",
      "62     4\n",
      "63     4\n",
      "66     4\n",
      "56     3\n",
      "59     3\n",
      "65     3\n",
      "67     3\n",
      "61     2\n",
      "69     2\n",
      "72     1\n",
      "64     1\n",
      "68     1\n",
      "70     1\n",
      "81     1\n",
      "Name: Age, dtype: int64\n",
      "0    500\n",
      "1    268\n",
      "Name: Outcome, dtype: int64\n"
     ]
    }
   ],
   "source": [
    "for c in df.columns:\n",
    "    print(df[c].value_counts())"
   ]
  },
  {
   "cell_type": "markdown",
   "metadata": {},
   "source": [
    "### Build model"
   ]
  },
  {
   "cell_type": "code",
   "execution_count": 270,
   "metadata": {},
   "outputs": [],
   "source": [
    "X = df.drop(['Outcome'],axis=1)"
   ]
  },
  {
   "cell_type": "code",
   "execution_count": 271,
   "metadata": {},
   "outputs": [],
   "source": [
    "y= df['Outcome']"
   ]
  },
  {
   "cell_type": "code",
   "execution_count": 272,
   "metadata": {},
   "outputs": [],
   "source": [
    "X_train, X_test, y_train, y_test = train_test_split(\n",
    "     X, y, test_size=0.2, random_state=101)"
   ]
  },
  {
   "cell_type": "code",
   "execution_count": 273,
   "metadata": {},
   "outputs": [],
   "source": [
    "log = LogisticRegression()"
   ]
  },
  {
   "cell_type": "code",
   "execution_count": 274,
   "metadata": {},
   "outputs": [
    {
     "data": {
      "text/plain": [
       "LogisticRegression(C=1.0, class_weight=None, dual=False, fit_intercept=True,\n",
       "          intercept_scaling=1, max_iter=100, multi_class='ovr', n_jobs=1,\n",
       "          penalty='l2', random_state=None, solver='liblinear', tol=0.0001,\n",
       "          verbose=0, warm_start=False)"
      ]
     },
     "execution_count": 274,
     "metadata": {},
     "output_type": "execute_result"
    }
   ],
   "source": [
    "log.fit(X_train,y_train)"
   ]
  },
  {
   "cell_type": "code",
   "execution_count": 275,
   "metadata": {},
   "outputs": [],
   "source": [
    "predict = log.predict(X_test)"
   ]
  },
  {
   "cell_type": "code",
   "execution_count": 276,
   "metadata": {},
   "outputs": [
    {
     "name": "stdout",
     "output_type": "stream",
     "text": [
      "0.7532467532467533\n",
      "[[87 16]\n",
      " [22 29]]\n",
      "             precision    recall  f1-score   support\n",
      "\n",
      "          0       0.80      0.84      0.82       103\n",
      "          1       0.64      0.57      0.60        51\n",
      "\n",
      "avg / total       0.75      0.75      0.75       154\n",
      "\n"
     ]
    }
   ],
   "source": [
    "print(accuracy_score(y_test,predict))\n",
    "print(confusion_matrix(y_test,predict))\n",
    "print(classification_report(y_test,predict))"
   ]
  },
  {
   "cell_type": "code",
   "execution_count": 277,
   "metadata": {},
   "outputs": [],
   "source": [
    "pred_prob = log.predict_proba(X_test)"
   ]
  },
  {
   "cell_type": "code",
   "execution_count": 278,
   "metadata": {},
   "outputs": [
    {
     "data": {
      "text/plain": [
       "array([0.68170404, 0.21182634, 0.8731603 , 0.56102692, 0.89419324,\n",
       "       0.04170954, 0.30774678, 0.94154171, 0.76913714, 0.68460364,\n",
       "       0.89983961, 0.81173984, 0.84505261, 0.50396387, 0.58799633,\n",
       "       0.21955103, 0.4116464 , 0.8462226 , 0.63733474, 0.90452531,\n",
       "       0.69030494, 0.57467407, 0.49033003, 0.68244744, 0.76015873,\n",
       "       0.06240652, 0.88402468, 0.42018293, 0.94535034, 0.48819887,\n",
       "       0.02641687, 0.69259338, 0.58539134, 0.44220165, 0.65903392,\n",
       "       0.79779215, 0.63194508, 0.34338123, 0.12344842, 0.91133814,\n",
       "       0.82765823, 0.40793087, 0.75837256, 0.60696551, 0.8589119 ,\n",
       "       0.93577153, 0.55520123, 0.77979225, 0.75698321, 0.9060273 ,\n",
       "       0.86036181, 0.81342576, 0.78915387, 0.72485701, 0.94252411,\n",
       "       0.77378655, 0.76291714, 0.7393457 , 0.46948513, 0.92201593,\n",
       "       0.70272937, 0.32101769, 0.19086902, 0.82283213, 0.42979031,\n",
       "       0.45397619, 0.8506053 , 0.83162133, 0.86860335, 0.83701801,\n",
       "       0.21007242, 0.77090224, 0.83039347, 0.61868306, 0.56184354,\n",
       "       0.24742615, 0.89210962, 0.32525554, 0.92749487, 0.6431082 ,\n",
       "       0.27086474, 0.90015672, 0.52762231, 0.46048729, 0.16717771,\n",
       "       0.80194406, 0.56340193, 0.72963283, 0.2260321 , 0.26502468,\n",
       "       0.3879756 , 0.61163342, 0.61576242, 0.79593561, 0.88470925,\n",
       "       0.82198391, 0.83101573, 0.89900853, 0.27809417, 0.26654908,\n",
       "       0.64471143, 0.85588144, 0.75351408, 0.70113754, 0.84534449,\n",
       "       0.89849297, 0.74125993, 0.50973771, 0.94256777, 0.9034878 ,\n",
       "       0.25009053, 0.84522179, 0.88926734, 0.86353896, 0.23518941,\n",
       "       0.33300644, 0.74475168, 0.75794032, 0.76681778, 0.67292444,\n",
       "       0.20037178, 0.5570675 , 0.91364714, 0.56040761, 0.38370351,\n",
       "       0.66385851, 0.85689387, 0.46805   , 0.64551353, 0.81309342,\n",
       "       0.88675788, 0.33299413, 0.49314122, 0.28266264, 0.76365117,\n",
       "       0.76858166, 0.74811469, 0.70494999, 0.90855703, 0.88429996,\n",
       "       0.93391614, 0.55115936, 0.26139081, 0.20864099, 0.63948987,\n",
       "       0.57571108, 0.17756368, 0.94856856, 0.74859751, 0.30637441,\n",
       "       0.70308669, 0.44768769, 0.89930796, 0.42989447])"
      ]
     },
     "execution_count": 278,
     "metadata": {},
     "output_type": "execute_result"
    }
   ],
   "source": [
    "pred_prob[::,0]"
   ]
  },
  {
   "cell_type": "code",
   "execution_count": 279,
   "metadata": {},
   "outputs": [],
   "source": [
    "pred_db = np.where(pred_prob[:,0]>=0.6,0,1)"
   ]
  },
  {
   "cell_type": "code",
   "execution_count": 280,
   "metadata": {},
   "outputs": [
    {
     "name": "stdout",
     "output_type": "stream",
     "text": [
      "0.7662337662337663\n",
      "[[81 22]\n",
      " [14 37]]\n",
      "             precision    recall  f1-score   support\n",
      "\n",
      "          0       0.85      0.79      0.82       103\n",
      "          1       0.63      0.73      0.67        51\n",
      "\n",
      "avg / total       0.78      0.77      0.77       154\n",
      "\n"
     ]
    }
   ],
   "source": [
    "print(accuracy_score(y_test,pred_db))\n",
    "print(confusion_matrix(y_test,pred_db))\n",
    "print(classification_report(y_test,pred_db))"
   ]
  },
  {
   "cell_type": "markdown",
   "metadata": {},
   "source": [
    "### Categorize Glocuse,BP,BMI levels"
   ]
  },
  {
   "cell_type": "code",
   "execution_count": 242,
   "metadata": {},
   "outputs": [],
   "source": [
    "df1 = df.copy()"
   ]
  },
  {
   "cell_type": "code",
   "execution_count": 199,
   "metadata": {},
   "outputs": [],
   "source": [
    "def cat_glucose(cols):\n",
    "    Glucose = cols[0]\n",
    "    if Glucose < 55:\n",
    "        return(1)\n",
    "    elif 55 <= Glucose < 69:\n",
    "        return(2)\n",
    "    elif 69 <= Glucose < 180:\n",
    "        return(3)\n",
    "    elif 180 <= Glucose < 250:\n",
    "        return(4)\n",
    "    elif Glucose >= 250:\n",
    "        return(5)"
   ]
  },
  {
   "cell_type": "code",
   "execution_count": 243,
   "metadata": {},
   "outputs": [],
   "source": [
    "df1['Glucose'] = df1[['Glucose']].apply(cat_glucose,axis=1)"
   ]
  },
  {
   "cell_type": "code",
   "execution_count": 244,
   "metadata": {},
   "outputs": [
    {
     "data": {
      "text/plain": [
       "3    711\n",
       "4     46\n",
       "2     10\n",
       "1      1\n",
       "Name: Glucose, dtype: int64"
      ]
     },
     "execution_count": 244,
     "metadata": {},
     "output_type": "execute_result"
    }
   ],
   "source": [
    "df1['Glucose'].value_counts()"
   ]
  },
  {
   "cell_type": "code",
   "execution_count": 213,
   "metadata": {},
   "outputs": [],
   "source": [
    "def cat_bp(cols):\n",
    "    BloodPressure = cols[0]\n",
    "    if BloodPressure < 80:\n",
    "        return(1)\n",
    "    elif 80 <= BloodPressure < 85:\n",
    "        return(2)\n",
    "    elif 85 <= BloodPressure <= 89:\n",
    "        return(3)\n",
    "    elif 89 < BloodPressure <= 90:\n",
    "        return(4)\n",
    "    elif 90 < BloodPressure <= 99:\n",
    "        return(5)\n",
    "    elif 99 < BloodPressure <= 109:\n",
    "        return(6)\n",
    "    elif BloodPressure >= 110:\n",
    "        return(7)"
   ]
  },
  {
   "cell_type": "code",
   "execution_count": 245,
   "metadata": {},
   "outputs": [],
   "source": [
    "df1['BloodPressure'] = df1[['BloodPressure']].apply(cat_bp,axis=1)"
   ]
  },
  {
   "cell_type": "code",
   "execution_count": 241,
   "metadata": {},
   "outputs": [],
   "source": [
    "def cat_bmi(cols):\n",
    "    BMI = cols[0]\n",
    "    if BMI < 18:\n",
    "        return(1)\n",
    "    elif 18 <= BMI <= 24:\n",
    "        return(2)\n",
    "    elif 24 < BMI <= 29:\n",
    "        return(3)\n",
    "    elif 29 < BMI < 40:\n",
    "        return(4)\n",
    "    elif BMI >= 40:\n",
    "        return(5)"
   ]
  },
  {
   "cell_type": "code",
   "execution_count": 246,
   "metadata": {},
   "outputs": [],
   "source": [
    "df1['BMI'] = df1[['BMI']].apply(cat_bmi,axis=1)"
   ]
  },
  {
   "cell_type": "code",
   "execution_count": 247,
   "metadata": {},
   "outputs": [],
   "source": [
    "for c in ['Glucose','BloodPressure','BMI']:\n",
    "    df[c]=df[c].astype('category')"
   ]
  },
  {
   "cell_type": "code",
   "execution_count": 230,
   "metadata": {
    "scrolled": false
   },
   "outputs": [
    {
     "name": "stdout",
     "output_type": "stream",
     "text": [
      "1     135\n",
      "0     111\n",
      "2     103\n",
      "3      75\n",
      "4      68\n",
      "5      57\n",
      "6      50\n",
      "7      45\n",
      "8      38\n",
      "9      28\n",
      "10     24\n",
      "11     11\n",
      "13     10\n",
      "12      9\n",
      "14      2\n",
      "15      1\n",
      "17      1\n",
      "Name: Pregnancies, dtype: int64\n",
      "3    711\n",
      "4     46\n",
      "2     10\n",
      "1      1\n",
      "Name: Glucose, dtype: int64\n",
      "1    563\n",
      "2     93\n",
      "3     52\n",
      "5     22\n",
      "4     22\n",
      "6     11\n",
      "7      5\n",
      "Name: BloodPressure, dtype: int64\n",
      "23.0    249\n",
      "32.0     31\n",
      "30.0     27\n",
      "27.0     23\n",
      "33.0     20\n",
      "28.0     20\n",
      "18.0     20\n",
      "31.0     19\n",
      "19.0     18\n",
      "39.0     18\n",
      "29.0     17\n",
      "25.0     16\n",
      "26.0     16\n",
      "22.0     16\n",
      "37.0     16\n",
      "40.0     16\n",
      "35.0     15\n",
      "41.0     15\n",
      "36.0     14\n",
      "15.0     14\n",
      "17.0     14\n",
      "20.0     13\n",
      "24.0     12\n",
      "42.0     11\n",
      "13.0     11\n",
      "21.0     10\n",
      "34.0      8\n",
      "46.0      8\n",
      "38.0      7\n",
      "12.0      7\n",
      "11.0      6\n",
      "16.0      6\n",
      "45.0      6\n",
      "43.0      6\n",
      "14.0      6\n",
      "10.0      5\n",
      "44.0      5\n",
      "48.0      4\n",
      "47.0      4\n",
      "50.0      3\n",
      "49.0      3\n",
      "8.0       2\n",
      "54.0      2\n",
      "7.0       2\n",
      "52.0      2\n",
      "63.0      1\n",
      "56.0      1\n",
      "51.0      1\n",
      "60.0      1\n",
      "99.0      1\n",
      "Name: SkinThickness, dtype: int64\n",
      "99.040404     205\n",
      "169.909091     80\n",
      "231.072289     68\n",
      "301.800000     21\n",
      "105.000000     11\n",
      "140.000000      9\n",
      "130.000000      9\n",
      "120.000000      8\n",
      "100.000000      7\n",
      "94.000000       7\n",
      "180.000000      7\n",
      "115.000000      6\n",
      "110.000000      6\n",
      "135.000000      6\n",
      "210.000000      5\n",
      "56.000000       5\n",
      "76.000000       5\n",
      "49.000000       5\n",
      "66.000000       5\n",
      "165.000000      4\n",
      "71.000000       4\n",
      "90.000000       4\n",
      "125.000000      4\n",
      "64.000000       4\n",
      "155.000000      4\n",
      "190.000000      4\n",
      "160.000000      4\n",
      "54.000000       4\n",
      "200.000000      4\n",
      "88.000000       4\n",
      "             ... \n",
      "81.000000       1\n",
      "59.000000       1\n",
      "72.000000       1\n",
      "84.000000       1\n",
      "89.000000       1\n",
      "43.000000       1\n",
      "108.000000      1\n",
      "73.000000       1\n",
      "52.000000       1\n",
      "68.000000       1\n",
      "188.000000      1\n",
      "166.000000      1\n",
      "415.000000      1\n",
      "600.000000      1\n",
      "271.000000      1\n",
      "545.000000      1\n",
      "112.000000      1\n",
      "16.000000       1\n",
      "127.000000      1\n",
      "178.000000      1\n",
      "392.000000      1\n",
      "22.000000       1\n",
      "440.000000      1\n",
      "46.000000       1\n",
      "91.000000       1\n",
      "15.000000       1\n",
      "272.000000      1\n",
      "41.000000       1\n",
      "25.000000       1\n",
      "196.000000      1\n",
      "Name: Insulin, Length: 189, dtype: int64\n",
      "4.0    361\n",
      "3.0    148\n",
      "5.0     98\n",
      "2.0     74\n",
      "Name: BMI, dtype: int64\n",
      "0.254    6\n",
      "0.258    6\n",
      "0.259    5\n",
      "0.238    5\n",
      "0.207    5\n",
      "0.268    5\n",
      "0.261    5\n",
      "0.167    4\n",
      "0.190    4\n",
      "0.270    4\n",
      "0.687    4\n",
      "0.237    4\n",
      "0.263    4\n",
      "0.284    4\n",
      "0.245    4\n",
      "0.260    4\n",
      "0.692    4\n",
      "0.304    4\n",
      "0.299    4\n",
      "0.551    4\n",
      "0.197    4\n",
      "0.349    3\n",
      "0.205    3\n",
      "0.256    3\n",
      "0.187    3\n",
      "0.337    3\n",
      "0.142    3\n",
      "0.422    3\n",
      "0.340    3\n",
      "0.389    3\n",
      "        ..\n",
      "0.725    1\n",
      "0.325    1\n",
      "0.239    1\n",
      "1.258    1\n",
      "0.331    1\n",
      "0.096    1\n",
      "0.832    1\n",
      "0.454    1\n",
      "0.546    1\n",
      "0.704    1\n",
      "0.398    1\n",
      "0.711    1\n",
      "0.547    1\n",
      "0.426    1\n",
      "0.491    1\n",
      "0.503    1\n",
      "0.867    1\n",
      "0.944    1\n",
      "0.743    1\n",
      "0.666    1\n",
      "0.420    1\n",
      "0.588    1\n",
      "1.144    1\n",
      "0.593    1\n",
      "0.162    1\n",
      "0.886    1\n",
      "0.804    1\n",
      "1.251    1\n",
      "0.382    1\n",
      "0.375    1\n",
      "Name: DiabetesPedigreeFunction, Length: 517, dtype: int64\n",
      "22    72\n",
      "21    63\n",
      "25    48\n",
      "24    46\n",
      "23    38\n",
      "28    35\n",
      "26    33\n",
      "27    32\n",
      "29    29\n",
      "31    24\n",
      "41    22\n",
      "30    21\n",
      "37    19\n",
      "42    18\n",
      "33    17\n",
      "32    16\n",
      "36    16\n",
      "38    16\n",
      "45    15\n",
      "34    14\n",
      "40    13\n",
      "43    13\n",
      "46    13\n",
      "39    12\n",
      "35    10\n",
      "50     8\n",
      "44     8\n",
      "51     8\n",
      "52     8\n",
      "58     7\n",
      "47     6\n",
      "54     6\n",
      "57     5\n",
      "60     5\n",
      "48     5\n",
      "49     5\n",
      "53     5\n",
      "55     4\n",
      "62     4\n",
      "63     4\n",
      "66     4\n",
      "56     3\n",
      "59     3\n",
      "65     3\n",
      "67     3\n",
      "61     2\n",
      "69     2\n",
      "72     1\n",
      "64     1\n",
      "68     1\n",
      "70     1\n",
      "81     1\n",
      "Name: Age, dtype: int64\n",
      "0    500\n",
      "1    268\n",
      "Name: Outcome, dtype: int64\n"
     ]
    }
   ],
   "source": [
    "for c in df1.columns:\n",
    "    print(df1[c].value_counts())"
   ]
  },
  {
   "cell_type": "code",
   "execution_count": 248,
   "metadata": {},
   "outputs": [
    {
     "data": {
      "text/plain": [
       "Pregnancies                 0\n",
       "Glucose                     0\n",
       "BloodPressure               0\n",
       "SkinThickness               0\n",
       "Insulin                     0\n",
       "BMI                         0\n",
       "DiabetesPedigreeFunction    0\n",
       "Age                         0\n",
       "Outcome                     0\n",
       "dtype: int64"
      ]
     },
     "execution_count": 248,
     "metadata": {},
     "output_type": "execute_result"
    }
   ],
   "source": [
    "df1.isna().sum()"
   ]
  },
  {
   "cell_type": "code",
   "execution_count": 281,
   "metadata": {},
   "outputs": [
    {
     "name": "stdout",
     "output_type": "stream",
     "text": [
      "0.7272727272727273\n",
      "[[90 13]\n",
      " [29 22]]\n",
      "             precision    recall  f1-score   support\n",
      "\n",
      "          0       0.76      0.87      0.81       103\n",
      "          1       0.63      0.43      0.51        51\n",
      "\n",
      "avg / total       0.71      0.73      0.71       154\n",
      "\n"
     ]
    }
   ],
   "source": [
    "X1 = df1.drop(['Outcome'],axis=1)\n",
    "y1 = df1['Outcome']\n",
    "X1_train, X1_test, y1_train, y1_test = train_test_split(\n",
    "     X1, y1, test_size=0.2, random_state=101)\n",
    "log1 = LogisticRegression()\n",
    "log1.fit(X1_train,y1_train)\n",
    "predict1 = log1.predict(X1_test)\n",
    "print(accuracy_score(y1_test,predict1))\n",
    "print(confusion_matrix(y_test,predict1))\n",
    "print(classification_report(y_test,predict1))"
   ]
  },
  {
   "cell_type": "code",
   "execution_count": 282,
   "metadata": {},
   "outputs": [],
   "source": [
    "pred_prob1 = log1.predict_proba(X1_test)"
   ]
  },
  {
   "cell_type": "code",
   "execution_count": 283,
   "metadata": {},
   "outputs": [],
   "source": [
    "pred_db1 = np.where(pred_prob1[:,0]>=0.5,0,1)"
   ]
  },
  {
   "cell_type": "code",
   "execution_count": 284,
   "metadata": {},
   "outputs": [
    {
     "name": "stdout",
     "output_type": "stream",
     "text": [
      "0.7272727272727273\n",
      "[[90 13]\n",
      " [29 22]]\n",
      "             precision    recall  f1-score   support\n",
      "\n",
      "          0       0.76      0.87      0.81       103\n",
      "          1       0.63      0.43      0.51        51\n",
      "\n",
      "avg / total       0.71      0.73      0.71       154\n",
      "\n"
     ]
    }
   ],
   "source": [
    "print(accuracy_score(y1_test,pred_db1))\n",
    "print(confusion_matrix(y1_test,pred_db1))\n",
    "print(classification_report(y1_test,pred_db1))"
   ]
  },
  {
   "cell_type": "code",
   "execution_count": 287,
   "metadata": {},
   "outputs": [
    {
     "data": {
      "text/plain": [
       "array([[ 0.13953001,  0.02764927, -0.02741336, -0.0022609 ,  0.00078927,\n",
       "         0.06043234,  0.78042469,  0.00624962]])"
      ]
     },
     "execution_count": 287,
     "metadata": {},
     "output_type": "execute_result"
    }
   ],
   "source": [
    "log.coef_"
   ]
  },
  {
   "cell_type": "code",
   "execution_count": 288,
   "metadata": {},
   "outputs": [
    {
     "data": {
      "text/plain": [
       "array([-5.20736769])"
      ]
     },
     "execution_count": 288,
     "metadata": {},
     "output_type": "execute_result"
    }
   ],
   "source": [
    "log.intercept_"
   ]
  },
  {
   "cell_type": "code",
   "execution_count": 289,
   "metadata": {},
   "outputs": [
    {
     "data": {
      "text/plain": [
       "array([[ 0.1224701 , -0.27015514,  0.00136141,  0.00372566,  0.00621877,\n",
       "         0.52907746,  0.79278006,  0.01004826]])"
      ]
     },
     "execution_count": 289,
     "metadata": {},
     "output_type": "execute_result"
    }
   ],
   "source": [
    "log1.coef_"
   ]
  },
  {
   "cell_type": "code",
   "execution_count": 290,
   "metadata": {},
   "outputs": [
    {
     "data": {
      "text/plain": [
       "array([-4.05760102])"
      ]
     },
     "execution_count": 290,
     "metadata": {},
     "output_type": "execute_result"
    }
   ],
   "source": [
    "log1.intercept_"
   ]
  },
  {
   "cell_type": "code",
   "execution_count": null,
   "metadata": {},
   "outputs": [],
   "source": []
  }
 ],
 "metadata": {
  "kernelspec": {
   "display_name": "Python 3",
   "language": "python",
   "name": "python3"
  },
  "language_info": {
   "codemirror_mode": {
    "name": "ipython",
    "version": 3
   },
   "file_extension": ".py",
   "mimetype": "text/x-python",
   "name": "python",
   "nbconvert_exporter": "python",
   "pygments_lexer": "ipython3",
   "version": "3.6.4"
  }
 },
 "nbformat": 4,
 "nbformat_minor": 2
}
