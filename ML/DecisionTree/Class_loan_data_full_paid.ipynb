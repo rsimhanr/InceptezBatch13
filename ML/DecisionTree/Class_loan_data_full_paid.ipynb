{
 "cells": [
  {
   "cell_type": "code",
   "execution_count": 1,
   "metadata": {},
   "outputs": [],
   "source": [
    "import pandas as pd\n",
    "import numpy as np\n",
    "import matplotlib.pyplot as plt\n",
    "%matplotlib inline\n",
    "from sklearn.preprocessing import StandardScaler\n",
    "from sklearn.linear_model import LogisticRegression\n",
    "from sklearn.tree import DecisionTreeClassifier\n",
    "from sklearn.model_selection import train_test_split\n",
    "from sklearn.metrics import accuracy_score\n",
    "from sklearn.preprocessing import PolynomialFeatures\n",
    "import warnings\n",
    "warnings.filterwarnings(\"ignore\")\n",
    "np.random.seed(42)"
   ]
  },
  {
   "cell_type": "code",
   "execution_count": 2,
   "metadata": {},
   "outputs": [],
   "source": [
    "data = 'loan_data.csv'"
   ]
  },
  {
   "cell_type": "code",
   "execution_count": 3,
   "metadata": {},
   "outputs": [],
   "source": [
    "df = pd.read_csv(data)"
   ]
  },
  {
   "cell_type": "code",
   "execution_count": 4,
   "metadata": {},
   "outputs": [
    {
     "data": {
      "text/html": [
       "<div>\n",
       "<style scoped>\n",
       "    .dataframe tbody tr th:only-of-type {\n",
       "        vertical-align: middle;\n",
       "    }\n",
       "\n",
       "    .dataframe tbody tr th {\n",
       "        vertical-align: top;\n",
       "    }\n",
       "\n",
       "    .dataframe thead th {\n",
       "        text-align: right;\n",
       "    }\n",
       "</style>\n",
       "<table border=\"1\" class=\"dataframe\">\n",
       "  <thead>\n",
       "    <tr style=\"text-align: right;\">\n",
       "      <th></th>\n",
       "      <th>credit.policy</th>\n",
       "      <th>purpose</th>\n",
       "      <th>int.rate</th>\n",
       "      <th>installment</th>\n",
       "      <th>log.annual.inc</th>\n",
       "      <th>dti</th>\n",
       "      <th>fico</th>\n",
       "      <th>days.with.cr.line</th>\n",
       "      <th>revol.bal</th>\n",
       "      <th>revol.util</th>\n",
       "      <th>inq.last.6mths</th>\n",
       "      <th>delinq.2yrs</th>\n",
       "      <th>pub.rec</th>\n",
       "      <th>not.fully.paid</th>\n",
       "    </tr>\n",
       "  </thead>\n",
       "  <tbody>\n",
       "    <tr>\n",
       "      <th>0</th>\n",
       "      <td>1</td>\n",
       "      <td>debt_consolidation</td>\n",
       "      <td>0.1189</td>\n",
       "      <td>829.10</td>\n",
       "      <td>11.350407</td>\n",
       "      <td>19.48</td>\n",
       "      <td>737</td>\n",
       "      <td>5639.958333</td>\n",
       "      <td>28854</td>\n",
       "      <td>52.1</td>\n",
       "      <td>0</td>\n",
       "      <td>0</td>\n",
       "      <td>0</td>\n",
       "      <td>0</td>\n",
       "    </tr>\n",
       "    <tr>\n",
       "      <th>1</th>\n",
       "      <td>1</td>\n",
       "      <td>credit_card</td>\n",
       "      <td>0.1071</td>\n",
       "      <td>228.22</td>\n",
       "      <td>11.082143</td>\n",
       "      <td>14.29</td>\n",
       "      <td>707</td>\n",
       "      <td>2760.000000</td>\n",
       "      <td>33623</td>\n",
       "      <td>76.7</td>\n",
       "      <td>0</td>\n",
       "      <td>0</td>\n",
       "      <td>0</td>\n",
       "      <td>0</td>\n",
       "    </tr>\n",
       "    <tr>\n",
       "      <th>2</th>\n",
       "      <td>1</td>\n",
       "      <td>debt_consolidation</td>\n",
       "      <td>0.1357</td>\n",
       "      <td>366.86</td>\n",
       "      <td>10.373491</td>\n",
       "      <td>11.63</td>\n",
       "      <td>682</td>\n",
       "      <td>4710.000000</td>\n",
       "      <td>3511</td>\n",
       "      <td>25.6</td>\n",
       "      <td>1</td>\n",
       "      <td>0</td>\n",
       "      <td>0</td>\n",
       "      <td>0</td>\n",
       "    </tr>\n",
       "    <tr>\n",
       "      <th>3</th>\n",
       "      <td>1</td>\n",
       "      <td>debt_consolidation</td>\n",
       "      <td>0.1008</td>\n",
       "      <td>162.34</td>\n",
       "      <td>11.350407</td>\n",
       "      <td>8.10</td>\n",
       "      <td>712</td>\n",
       "      <td>2699.958333</td>\n",
       "      <td>33667</td>\n",
       "      <td>73.2</td>\n",
       "      <td>1</td>\n",
       "      <td>0</td>\n",
       "      <td>0</td>\n",
       "      <td>0</td>\n",
       "    </tr>\n",
       "    <tr>\n",
       "      <th>4</th>\n",
       "      <td>1</td>\n",
       "      <td>credit_card</td>\n",
       "      <td>0.1426</td>\n",
       "      <td>102.92</td>\n",
       "      <td>11.299732</td>\n",
       "      <td>14.97</td>\n",
       "      <td>667</td>\n",
       "      <td>4066.000000</td>\n",
       "      <td>4740</td>\n",
       "      <td>39.5</td>\n",
       "      <td>0</td>\n",
       "      <td>1</td>\n",
       "      <td>0</td>\n",
       "      <td>0</td>\n",
       "    </tr>\n",
       "  </tbody>\n",
       "</table>\n",
       "</div>"
      ],
      "text/plain": [
       "   credit.policy             purpose  int.rate  installment  log.annual.inc  \\\n",
       "0              1  debt_consolidation    0.1189       829.10       11.350407   \n",
       "1              1         credit_card    0.1071       228.22       11.082143   \n",
       "2              1  debt_consolidation    0.1357       366.86       10.373491   \n",
       "3              1  debt_consolidation    0.1008       162.34       11.350407   \n",
       "4              1         credit_card    0.1426       102.92       11.299732   \n",
       "\n",
       "     dti  fico  days.with.cr.line  revol.bal  revol.util  inq.last.6mths  \\\n",
       "0  19.48   737        5639.958333      28854        52.1               0   \n",
       "1  14.29   707        2760.000000      33623        76.7               0   \n",
       "2  11.63   682        4710.000000       3511        25.6               1   \n",
       "3   8.10   712        2699.958333      33667        73.2               1   \n",
       "4  14.97   667        4066.000000       4740        39.5               0   \n",
       "\n",
       "   delinq.2yrs  pub.rec  not.fully.paid  \n",
       "0            0        0               0  \n",
       "1            0        0               0  \n",
       "2            0        0               0  \n",
       "3            0        0               0  \n",
       "4            1        0               0  "
      ]
     },
     "execution_count": 4,
     "metadata": {},
     "output_type": "execute_result"
    }
   ],
   "source": [
    "df.head()"
   ]
  },
  {
   "cell_type": "code",
   "execution_count": 6,
   "metadata": {},
   "outputs": [],
   "source": [
    "y = df.pop('not.fully.paid')"
   ]
  },
  {
   "cell_type": "code",
   "execution_count": 7,
   "metadata": {},
   "outputs": [
    {
     "name": "stdout",
     "output_type": "stream",
     "text": [
      "<class 'pandas.core.frame.DataFrame'>\n",
      "RangeIndex: 9578 entries, 0 to 9577\n",
      "Data columns (total 13 columns):\n",
      "credit.policy        9578 non-null int64\n",
      "purpose              9578 non-null object\n",
      "int.rate             9578 non-null float64\n",
      "installment          9578 non-null float64\n",
      "log.annual.inc       9578 non-null float64\n",
      "dti                  9578 non-null float64\n",
      "fico                 9578 non-null int64\n",
      "days.with.cr.line    9578 non-null float64\n",
      "revol.bal            9578 non-null int64\n",
      "revol.util           9578 non-null float64\n",
      "inq.last.6mths       9578 non-null int64\n",
      "delinq.2yrs          9578 non-null int64\n",
      "pub.rec              9578 non-null int64\n",
      "dtypes: float64(6), int64(6), object(1)\n",
      "memory usage: 935.4+ KB\n"
     ]
    }
   ],
   "source": [
    "df.info()"
   ]
  },
  {
   "cell_type": "code",
   "execution_count": 19,
   "metadata": {},
   "outputs": [
    {
     "data": {
      "text/plain": [
       "debt_consolidation    3957\n",
       "all_other             2331\n",
       "credit_card           1262\n",
       "home_improvement       629\n",
       "small_business         619\n",
       "major_purchase         437\n",
       "educational            343\n",
       "Name: purpose, dtype: int64"
      ]
     },
     "execution_count": 19,
     "metadata": {},
     "output_type": "execute_result"
    }
   ],
   "source": [
    "df['purpose'].value_counts()"
   ]
  },
  {
   "cell_type": "code",
   "execution_count": 27,
   "metadata": {},
   "outputs": [],
   "source": [
    "df = pd.concat([df.drop(['purpose'],axis=1),pd.get_dummies(df['purpose'])],axis=1)"
   ]
  },
  {
   "cell_type": "code",
   "execution_count": 28,
   "metadata": {},
   "outputs": [
    {
     "data": {
      "text/plain": [
       "0    8045\n",
       "1    1533\n",
       "Name: not.fully.paid, dtype: int64"
      ]
     },
     "execution_count": 28,
     "metadata": {},
     "output_type": "execute_result"
    }
   ],
   "source": [
    "y.value_counts()"
   ]
  },
  {
   "cell_type": "code",
   "execution_count": 77,
   "metadata": {},
   "outputs": [],
   "source": [
    "train,test,y_train,y_test = train_test_split(df,y,test_size=0.4,random_state=42)"
   ]
  },
  {
   "cell_type": "code",
   "execution_count": 78,
   "metadata": {},
   "outputs": [
    {
     "name": "stdout",
     "output_type": "stream",
     "text": [
      "Accuracy score baseline: 0.8413361169102297\n"
     ]
    }
   ],
   "source": [
    "lr = LogisticRegression()\n",
    "lr.fit(train,y_train)\n",
    "y_pred = lr.predict(test)\n",
    "print('Accuracy score baseline:',accuracy_score(y_test,y_pred))"
   ]
  },
  {
   "cell_type": "code",
   "execution_count": 79,
   "metadata": {},
   "outputs": [],
   "source": [
    "def fit_predict(train,\n",
    "                test,\n",
    "                y_train,\n",
    "                y_test,\n",
    "                scaler,\n",
    "                max_depth,criterion='entropy',\n",
    "                max_features=1,\n",
    "                min_samples_split=4):\n",
    "    \n",
    "    train_scaled = scaler.fit_transform(train)\n",
    "    test_scaled = scaler.transform(test)\n",
    "    dt = DecisionTreeClassifier(criterion=criterion,\n",
    "                               max_depth=max_depth,\n",
    "                               random_state=42,\n",
    "                               max_features=max_features,\n",
    "                               min_samples_split=min_samples_split)\n",
    "    dt.fit(train_scaled,y_train)\n",
    "    y_pred=dt.predict(test_scaled)\n",
    "    print(accuracy_score(y_test,y_pred))"
   ]
  },
  {
   "cell_type": "code",
   "execution_count": 80,
   "metadata": {},
   "outputs": [
    {
     "name": "stdout",
     "output_type": "stream",
     "text": [
      "0.7382567849686847\n"
     ]
    }
   ],
   "source": [
    "dt = DecisionTreeClassifier()\n",
    "dt.fit(train,y_train)\n",
    "y_pred=dt.predict(test)\n",
    "print(accuracy_score(y_test,y_pred))"
   ]
  },
  {
   "cell_type": "markdown",
   "metadata": {},
   "source": [
    "### Max Depth tuning"
   ]
  },
  {
   "cell_type": "code",
   "execution_count": 81,
   "metadata": {},
   "outputs": [
    {
     "name": "stdout",
     "output_type": "stream",
     "text": [
      "Accuracy score using max_depth= 1:0.8415970772442589\n",
      "Accuracy score using max_depth= 2:0.8415970772442589\n",
      "Accuracy score using max_depth= 3:0.8413361169102297\n",
      "Accuracy score using max_depth= 4:0.8415970772442589\n",
      "Accuracy score using max_depth= 5:0.8413361169102297\n",
      "Accuracy score using max_depth= 6:0.840553235908142\n",
      "Accuracy score using max_depth= 7:0.8374217118997912\n",
      "Accuracy score using max_depth= 8:0.8327244258872651\n",
      "Accuracy score using max_depth= 9:0.8319415448851775\n",
      "Accuracy score using max_depth= 10:0.8353340292275574\n",
      "Accuracy score using max_depth= 11:0.8280271398747391\n",
      "Accuracy score using max_depth= 12:0.8288100208768268\n",
      "Accuracy score using max_depth= 13:0.8186325678496869\n",
      "Accuracy score using max_depth= 14:0.8178496868475992\n",
      "Accuracy score using max_depth= 15:0.8113256784968684\n",
      "Accuracy score using max_depth= 16:0.7974947807933194\n",
      "Accuracy score using max_depth= 17:0.7969728601252609\n",
      "Accuracy score using max_depth= 18:0.7914926931106472\n",
      "Accuracy score using max_depth= 19:0.7766179540709812\n",
      "Accuracy score using max_depth= 20:0.781054279749478\n",
      "Accuracy score using max_depth= 21:0.7852296450939458\n",
      "Accuracy score using max_depth= 22:0.7640918580375783\n",
      "Accuracy score using max_depth= 23:0.7593945720250522\n",
      "Accuracy score using max_depth= 24:0.7828810020876826\n",
      "Accuracy score using max_depth= 25:0.7737473903966597\n",
      "Accuracy score using max_depth= 26:0.7622651356993737\n",
      "Accuracy score using max_depth= 27:0.767223382045929\n",
      "Accuracy score using max_depth= 28:0.7708768267223383\n",
      "Accuracy score using max_depth= 29:0.7708768267223383\n",
      "Accuracy score using max_depth= 30:0.7700939457202505\n",
      "Accuracy score using max_depth= 31:0.7687891440501043\n",
      "Accuracy score using max_depth= 32:0.7698329853862212\n",
      "Accuracy score using max_depth= 33:0.7565240083507306\n",
      "Accuracy score using max_depth= 34:0.7541753653444676\n",
      "Accuracy score using max_depth= 35:0.7651356993736952\n",
      "Accuracy score using max_depth= 36:0.7651356993736952\n",
      "Accuracy score using max_depth= 37:0.7651356993736952\n",
      "Accuracy score using max_depth= 38:0.7651356993736952\n",
      "Accuracy score using max_depth= 39:0.7651356993736952\n",
      "Accuracy score using max_depth= 40:0.7651356993736952\n",
      "Accuracy score using max_depth= 41:0.7651356993736952\n",
      "Accuracy score using max_depth= 42:0.7651356993736952\n",
      "Accuracy score using max_depth= 43:0.7651356993736952\n",
      "Accuracy score using max_depth= 44:0.7651356993736952\n",
      "Accuracy score using max_depth= 45:0.7651356993736952\n",
      "Accuracy score using max_depth= 46:0.7651356993736952\n",
      "Accuracy score using max_depth= 47:0.7651356993736952\n",
      "Accuracy score using max_depth= 48:0.7651356993736952\n",
      "Accuracy score using max_depth= 49:0.7651356993736952\n"
     ]
    }
   ],
   "source": [
    "for i in range(1,50):\n",
    "    print('Accuracy score using max_depth=',i, end=':')\n",
    "    fit_predict(train,test,y_train,y_test,StandardScaler(),i)"
   ]
  },
  {
   "cell_type": "markdown",
   "metadata": {},
   "source": [
    "### Max Features tuning"
   ]
  },
  {
   "cell_type": "code",
   "execution_count": 82,
   "metadata": {},
   "outputs": [
    {
     "name": "stdout",
     "output_type": "stream",
     "text": [
      "Accuracy score using max_depth of 2, max features= 0.1:0.8415970772442589\n",
      "Accuracy score using max_depth of 2, max features= 0.2:0.8415970772442589\n",
      "Accuracy score using max_depth of 2, max features= 0.30000000000000004:0.8415970772442589\n",
      "Accuracy score using max_depth of 2, max features= 0.4:0.8415970772442589\n",
      "Accuracy score using max_depth of 2, max features= 0.5:0.8415970772442589\n",
      "Accuracy score using max_depth of 2, max features= 0.6:0.8415970772442589\n",
      "Accuracy score using max_depth of 2, max features= 0.7000000000000001:0.8415970772442589\n",
      "Accuracy score using max_depth of 2, max features= 0.8:0.8415970772442589\n",
      "Accuracy score using max_depth of 2, max features= 0.9:0.8415970772442589\n"
     ]
    }
   ],
   "source": [
    "for i in np.arange(0.1,1.0,0.1):\n",
    "    print('Accuracy score using max_depth of 2, max features=',i, end=':')\n",
    "    fit_predict(train,test,y_train,y_test,StandardScaler(),2,max_features=i)"
   ]
  },
  {
   "cell_type": "markdown",
   "metadata": {},
   "source": [
    "### Min samples split tuning"
   ]
  },
  {
   "cell_type": "code",
   "execution_count": 85,
   "metadata": {},
   "outputs": [
    {
     "name": "stdout",
     "output_type": "stream",
     "text": [
      "Accuracy score using max_depth of 2, max features=1, min sample split= 2:0.8415970772442589\n",
      "Accuracy score using max_depth of 2, max features=1, min sample split= 3:0.8415970772442589\n",
      "Accuracy score using max_depth of 2, max features=1, min sample split= 4:0.8415970772442589\n",
      "Accuracy score using max_depth of 2, max features=1, min sample split= 5:0.8415970772442589\n",
      "Accuracy score using max_depth of 2, max features=1, min sample split= 6:0.8415970772442589\n",
      "Accuracy score using max_depth of 2, max features=1, min sample split= 7:0.8415970772442589\n",
      "Accuracy score using max_depth of 2, max features=1, min sample split= 8:0.8415970772442589\n",
      "Accuracy score using max_depth of 2, max features=1, min sample split= 9:0.8415970772442589\n"
     ]
    }
   ],
   "source": [
    "for i in range(2,10):\n",
    "    print('Accuracy score using max_depth of 2, max features=1, min sample split=',i, end=':')\n",
    "    fit_predict(train,test,y_train,y_test,StandardScaler(),2,\n",
    "                max_features=0.1,\n",
    "                min_samples_split=i)"
   ]
  },
  {
   "cell_type": "markdown",
   "metadata": {},
   "source": [
    "### Criterion tuning"
   ]
  },
  {
   "cell_type": "code",
   "execution_count": 86,
   "metadata": {},
   "outputs": [
    {
     "name": "stdout",
     "output_type": "stream",
     "text": [
      "Accuracy score using max_depth of 2, max features=1, min sample split=2 gini:0.8415970772442589\n",
      "Accuracy score using max_depth of 2, max features=1, min sample split=2 entropy:0.8415970772442589\n"
     ]
    }
   ],
   "source": [
    "for i in ['gini','entropy']:\n",
    "    print('Accuracy score using max_depth of 2, max features=1, min sample split=2',i, end=':')\n",
    "    fit_predict(train,test,y_train,y_test,StandardScaler(),2,\n",
    "                max_features=0.1,\n",
    "                min_samples_split=2,\n",
    "                criterion=i)"
   ]
  },
  {
   "cell_type": "code",
   "execution_count": 87,
   "metadata": {},
   "outputs": [],
   "source": [
    "def create_poly(train,test,degree):\n",
    "    poly = PolynomialFeatures(degree=degree)\n",
    "    train_poly = poly.fit_transform(train)\n",
    "    test_poly = poly.fit_transform(test)\n",
    "    return(train_poly,test_poly)"
   ]
  },
  {
   "cell_type": "code",
   "execution_count": 88,
   "metadata": {},
   "outputs": [
    {
     "name": "stdout",
     "output_type": "stream",
     "text": [
      "Polynomial degree 1\n",
      "0.8415970772442589\n",
      "----------\n",
      "Polynomial degree 2\n",
      "0.8415970772442589\n",
      "----------\n",
      "Polynomial degree 3\n",
      "0.8415970772442589\n",
      "----------\n"
     ]
    }
   ],
   "source": [
    "for degree in [1,2,3]:\n",
    "    train_poly,test_poly, = create_poly(train,test,degree)\n",
    "    print('Polynomial degree', degree)\n",
    "    fit_predict(train_poly,\n",
    "                test_poly,\n",
    "                y_train,\n",
    "                y_test,\n",
    "                StandardScaler(),2,\n",
    "                max_features=0.1,\n",
    "                min_samples_split=2,\n",
    "                criterion='entropy')\n",
    "    print(10*'-')"
   ]
  },
  {
   "cell_type": "code",
   "execution_count": 89,
   "metadata": {},
   "outputs": [
    {
     "name": "stdout",
     "output_type": "stream",
     "text": [
      "Polynomial degree 1\n",
      "0.8415970772442589\n",
      "----------\n",
      "Polynomial degree 2\n",
      "0.8415970772442589\n",
      "----------\n",
      "Polynomial degree 3\n",
      "0.8415970772442589\n",
      "----------\n"
     ]
    }
   ],
   "source": [
    "for degree in [1,2,3]:\n",
    "    train_poly,test_poly, = create_poly(train,test,degree)\n",
    "    print('Polynomial degree', degree)\n",
    "    fit_predict(train_poly,\n",
    "                test_poly,\n",
    "                y_train,\n",
    "                y_test,\n",
    "                StandardScaler(),2,\n",
    "                max_features=0.1,\n",
    "                min_samples_split=2,\n",
    "                criterion='gini')\n",
    "    print(10*'-')"
   ]
  },
  {
   "cell_type": "markdown",
   "metadata": {},
   "source": [
    "### Random Forest"
   ]
  },
  {
   "cell_type": "code",
   "execution_count": 90,
   "metadata": {},
   "outputs": [],
   "source": [
    "from sklearn.ensemble import RandomForestClassifier"
   ]
  },
  {
   "cell_type": "code",
   "execution_count": 91,
   "metadata": {},
   "outputs": [],
   "source": [
    "rf= RandomForestClassifier(oob_score=True)"
   ]
  },
  {
   "cell_type": "code",
   "execution_count": 92,
   "metadata": {},
   "outputs": [
    {
     "data": {
      "text/plain": [
       "RandomForestClassifier(bootstrap=True, class_weight=None, criterion='gini',\n",
       "            max_depth=None, max_features='auto', max_leaf_nodes=None,\n",
       "            min_impurity_decrease=0.0, min_impurity_split=None,\n",
       "            min_samples_leaf=1, min_samples_split=2,\n",
       "            min_weight_fraction_leaf=0.0, n_estimators=10, n_jobs=1,\n",
       "            oob_score=True, random_state=None, verbose=0, warm_start=False)"
      ]
     },
     "execution_count": 92,
     "metadata": {},
     "output_type": "execute_result"
    }
   ],
   "source": [
    "rf.fit(train,y_train)"
   ]
  },
  {
   "cell_type": "code",
   "execution_count": 93,
   "metadata": {},
   "outputs": [],
   "source": [
    "pred_rf = rf.predict(test)"
   ]
  },
  {
   "cell_type": "code",
   "execution_count": 94,
   "metadata": {},
   "outputs": [
    {
     "name": "stdout",
     "output_type": "stream",
     "text": [
      "0.8301148225469729\n"
     ]
    }
   ],
   "source": [
    "print(accuracy_score(y_test,pred_rf))"
   ]
  },
  {
   "cell_type": "code",
   "execution_count": 95,
   "metadata": {},
   "outputs": [
    {
     "data": {
      "text/plain": [
       "0.8054298642533937"
      ]
     },
     "execution_count": 95,
     "metadata": {},
     "output_type": "execute_result"
    }
   ],
   "source": [
    "rf.oob_score_"
   ]
  },
  {
   "cell_type": "code",
   "execution_count": 96,
   "metadata": {},
   "outputs": [],
   "source": [
    "from sklearn.model_selection import GridSearchCV"
   ]
  },
  {
   "cell_type": "code",
   "execution_count": 97,
   "metadata": {},
   "outputs": [],
   "source": [
    "params = {'n_estimators':[200,500,700],\n",
    "        'max_depth':[1,5,10],\n",
    "         'min_samples_leaf':[3,6,10]}"
   ]
  },
  {
   "cell_type": "code",
   "execution_count": 98,
   "metadata": {},
   "outputs": [],
   "source": [
    "gs = GridSearchCV(rf,params,verbose=3)"
   ]
  },
  {
   "cell_type": "code",
   "execution_count": 99,
   "metadata": {},
   "outputs": [
    {
     "name": "stdout",
     "output_type": "stream",
     "text": [
      "Fitting 3 folds for each of 27 candidates, totalling 81 fits\n",
      "[CV] max_depth=1, min_samples_leaf=3, n_estimators=200 ...............\n",
      "[CV]  max_depth=1, min_samples_leaf=3, n_estimators=200, score=0.8387265135699373, total=   0.6s\n",
      "[CV] max_depth=1, min_samples_leaf=3, n_estimators=200 ...............\n"
     ]
    },
    {
     "name": "stderr",
     "output_type": "stream",
     "text": [
      "[Parallel(n_jobs=1)]: Done   1 out of   1 | elapsed:    0.7s remaining:    0.0s\n"
     ]
    },
    {
     "name": "stdout",
     "output_type": "stream",
     "text": [
      "[CV]  max_depth=1, min_samples_leaf=3, n_estimators=200, score=0.8387265135699373, total=   0.5s\n",
      "[CV] max_depth=1, min_samples_leaf=3, n_estimators=200 ...............\n"
     ]
    },
    {
     "name": "stderr",
     "output_type": "stream",
     "text": [
      "[Parallel(n_jobs=1)]: Done   2 out of   2 | elapsed:    1.4s remaining:    0.0s\n"
     ]
    },
    {
     "name": "stdout",
     "output_type": "stream",
     "text": [
      "[CV]  max_depth=1, min_samples_leaf=3, n_estimators=200, score=0.8390804597701149, total=   0.7s\n",
      "[CV] max_depth=1, min_samples_leaf=3, n_estimators=500 ...............\n",
      "[CV]  max_depth=1, min_samples_leaf=3, n_estimators=500, score=0.8387265135699373, total=   1.6s\n",
      "[CV] max_depth=1, min_samples_leaf=3, n_estimators=500 ...............\n",
      "[CV]  max_depth=1, min_samples_leaf=3, n_estimators=500, score=0.8387265135699373, total=   1.5s\n",
      "[CV] max_depth=1, min_samples_leaf=3, n_estimators=500 ...............\n",
      "[CV]  max_depth=1, min_samples_leaf=3, n_estimators=500, score=0.8390804597701149, total=   1.5s\n",
      "[CV] max_depth=1, min_samples_leaf=3, n_estimators=700 ...............\n",
      "[CV]  max_depth=1, min_samples_leaf=3, n_estimators=700, score=0.8387265135699373, total=   2.2s\n",
      "[CV] max_depth=1, min_samples_leaf=3, n_estimators=700 ...............\n",
      "[CV]  max_depth=1, min_samples_leaf=3, n_estimators=700, score=0.8387265135699373, total=   2.1s\n",
      "[CV] max_depth=1, min_samples_leaf=3, n_estimators=700 ...............\n",
      "[CV]  max_depth=1, min_samples_leaf=3, n_estimators=700, score=0.8390804597701149, total=   2.2s\n",
      "[CV] max_depth=1, min_samples_leaf=6, n_estimators=200 ...............\n",
      "[CV]  max_depth=1, min_samples_leaf=6, n_estimators=200, score=0.8387265135699373, total=   0.5s\n",
      "[CV] max_depth=1, min_samples_leaf=6, n_estimators=200 ...............\n",
      "[CV]  max_depth=1, min_samples_leaf=6, n_estimators=200, score=0.8387265135699373, total=   0.6s\n",
      "[CV] max_depth=1, min_samples_leaf=6, n_estimators=200 ...............\n",
      "[CV]  max_depth=1, min_samples_leaf=6, n_estimators=200, score=0.8390804597701149, total=   0.6s\n",
      "[CV] max_depth=1, min_samples_leaf=6, n_estimators=500 ...............\n",
      "[CV]  max_depth=1, min_samples_leaf=6, n_estimators=500, score=0.8387265135699373, total=   1.5s\n",
      "[CV] max_depth=1, min_samples_leaf=6, n_estimators=500 ...............\n",
      "[CV]  max_depth=1, min_samples_leaf=6, n_estimators=500, score=0.8387265135699373, total=   1.5s\n",
      "[CV] max_depth=1, min_samples_leaf=6, n_estimators=500 ...............\n",
      "[CV]  max_depth=1, min_samples_leaf=6, n_estimators=500, score=0.8390804597701149, total=   1.5s\n",
      "[CV] max_depth=1, min_samples_leaf=6, n_estimators=700 ...............\n",
      "[CV]  max_depth=1, min_samples_leaf=6, n_estimators=700, score=0.8387265135699373, total=   2.2s\n",
      "[CV] max_depth=1, min_samples_leaf=6, n_estimators=700 ...............\n",
      "[CV]  max_depth=1, min_samples_leaf=6, n_estimators=700, score=0.8387265135699373, total=   2.2s\n",
      "[CV] max_depth=1, min_samples_leaf=6, n_estimators=700 ...............\n",
      "[CV]  max_depth=1, min_samples_leaf=6, n_estimators=700, score=0.8390804597701149, total=   2.2s\n",
      "[CV] max_depth=1, min_samples_leaf=10, n_estimators=200 ..............\n",
      "[CV]  max_depth=1, min_samples_leaf=10, n_estimators=200, score=0.8387265135699373, total=   0.6s\n",
      "[CV] max_depth=1, min_samples_leaf=10, n_estimators=200 ..............\n",
      "[CV]  max_depth=1, min_samples_leaf=10, n_estimators=200, score=0.8387265135699373, total=   0.5s\n",
      "[CV] max_depth=1, min_samples_leaf=10, n_estimators=200 ..............\n",
      "[CV]  max_depth=1, min_samples_leaf=10, n_estimators=200, score=0.8390804597701149, total=   0.6s\n",
      "[CV] max_depth=1, min_samples_leaf=10, n_estimators=500 ..............\n",
      "[CV]  max_depth=1, min_samples_leaf=10, n_estimators=500, score=0.8387265135699373, total=   1.6s\n",
      "[CV] max_depth=1, min_samples_leaf=10, n_estimators=500 ..............\n",
      "[CV]  max_depth=1, min_samples_leaf=10, n_estimators=500, score=0.8387265135699373, total=   1.5s\n",
      "[CV] max_depth=1, min_samples_leaf=10, n_estimators=500 ..............\n",
      "[CV]  max_depth=1, min_samples_leaf=10, n_estimators=500, score=0.8390804597701149, total=   1.4s\n",
      "[CV] max_depth=1, min_samples_leaf=10, n_estimators=700 ..............\n",
      "[CV]  max_depth=1, min_samples_leaf=10, n_estimators=700, score=0.8387265135699373, total=   2.1s\n",
      "[CV] max_depth=1, min_samples_leaf=10, n_estimators=700 ..............\n",
      "[CV]  max_depth=1, min_samples_leaf=10, n_estimators=700, score=0.8387265135699373, total=   2.1s\n",
      "[CV] max_depth=1, min_samples_leaf=10, n_estimators=700 ..............\n",
      "[CV]  max_depth=1, min_samples_leaf=10, n_estimators=700, score=0.8390804597701149, total=   2.1s\n",
      "[CV] max_depth=5, min_samples_leaf=3, n_estimators=200 ...............\n",
      "[CV]  max_depth=5, min_samples_leaf=3, n_estimators=200, score=0.8387265135699373, total=   1.0s\n",
      "[CV] max_depth=5, min_samples_leaf=3, n_estimators=200 ...............\n",
      "[CV]  max_depth=5, min_samples_leaf=3, n_estimators=200, score=0.8387265135699373, total=   1.1s\n",
      "[CV] max_depth=5, min_samples_leaf=3, n_estimators=200 ...............\n",
      "[CV]  max_depth=5, min_samples_leaf=3, n_estimators=200, score=0.8390804597701149, total=   1.0s\n",
      "[CV] max_depth=5, min_samples_leaf=3, n_estimators=500 ...............\n",
      "[CV]  max_depth=5, min_samples_leaf=3, n_estimators=500, score=0.8387265135699373, total=   2.8s\n",
      "[CV] max_depth=5, min_samples_leaf=3, n_estimators=500 ...............\n",
      "[CV]  max_depth=5, min_samples_leaf=3, n_estimators=500, score=0.8387265135699373, total=   2.8s\n",
      "[CV] max_depth=5, min_samples_leaf=3, n_estimators=500 ...............\n",
      "[CV]  max_depth=5, min_samples_leaf=3, n_estimators=500, score=0.8390804597701149, total=   2.8s\n",
      "[CV] max_depth=5, min_samples_leaf=3, n_estimators=700 ...............\n",
      "[CV]  max_depth=5, min_samples_leaf=3, n_estimators=700, score=0.8387265135699373, total=   3.9s\n",
      "[CV] max_depth=5, min_samples_leaf=3, n_estimators=700 ...............\n",
      "[CV]  max_depth=5, min_samples_leaf=3, n_estimators=700, score=0.8387265135699373, total=   3.9s\n",
      "[CV] max_depth=5, min_samples_leaf=3, n_estimators=700 ...............\n",
      "[CV]  max_depth=5, min_samples_leaf=3, n_estimators=700, score=0.8390804597701149, total=   3.9s\n",
      "[CV] max_depth=5, min_samples_leaf=6, n_estimators=200 ...............\n",
      "[CV]  max_depth=5, min_samples_leaf=6, n_estimators=200, score=0.8387265135699373, total=   1.1s\n",
      "[CV] max_depth=5, min_samples_leaf=6, n_estimators=200 ...............\n",
      "[CV]  max_depth=5, min_samples_leaf=6, n_estimators=200, score=0.8387265135699373, total=   1.0s\n",
      "[CV] max_depth=5, min_samples_leaf=6, n_estimators=200 ...............\n",
      "[CV]  max_depth=5, min_samples_leaf=6, n_estimators=200, score=0.8390804597701149, total=   1.1s\n",
      "[CV] max_depth=5, min_samples_leaf=6, n_estimators=500 ...............\n",
      "[CV]  max_depth=5, min_samples_leaf=6, n_estimators=500, score=0.8387265135699373, total=   2.8s\n",
      "[CV] max_depth=5, min_samples_leaf=6, n_estimators=500 ...............\n",
      "[CV]  max_depth=5, min_samples_leaf=6, n_estimators=500, score=0.8387265135699373, total=   2.8s\n",
      "[CV] max_depth=5, min_samples_leaf=6, n_estimators=500 ...............\n",
      "[CV]  max_depth=5, min_samples_leaf=6, n_estimators=500, score=0.8390804597701149, total=   2.8s\n",
      "[CV] max_depth=5, min_samples_leaf=6, n_estimators=700 ...............\n",
      "[CV]  max_depth=5, min_samples_leaf=6, n_estimators=700, score=0.8387265135699373, total=   3.9s\n",
      "[CV] max_depth=5, min_samples_leaf=6, n_estimators=700 ...............\n",
      "[CV]  max_depth=5, min_samples_leaf=6, n_estimators=700, score=0.8387265135699373, total=   4.0s\n",
      "[CV] max_depth=5, min_samples_leaf=6, n_estimators=700 ...............\n",
      "[CV]  max_depth=5, min_samples_leaf=6, n_estimators=700, score=0.8390804597701149, total=   4.0s\n",
      "[CV] max_depth=5, min_samples_leaf=10, n_estimators=200 ..............\n",
      "[CV]  max_depth=5, min_samples_leaf=10, n_estimators=200, score=0.8387265135699373, total=   1.1s\n",
      "[CV] max_depth=5, min_samples_leaf=10, n_estimators=200 ..............\n",
      "[CV]  max_depth=5, min_samples_leaf=10, n_estimators=200, score=0.8387265135699373, total=   1.0s\n",
      "[CV] max_depth=5, min_samples_leaf=10, n_estimators=200 ..............\n",
      "[CV]  max_depth=5, min_samples_leaf=10, n_estimators=200, score=0.8390804597701149, total=   1.0s\n",
      "[CV] max_depth=5, min_samples_leaf=10, n_estimators=500 ..............\n",
      "[CV]  max_depth=5, min_samples_leaf=10, n_estimators=500, score=0.8387265135699373, total=   2.8s\n",
      "[CV] max_depth=5, min_samples_leaf=10, n_estimators=500 ..............\n",
      "[CV]  max_depth=5, min_samples_leaf=10, n_estimators=500, score=0.8387265135699373, total=   2.8s\n",
      "[CV] max_depth=5, min_samples_leaf=10, n_estimators=500 ..............\n",
      "[CV]  max_depth=5, min_samples_leaf=10, n_estimators=500, score=0.8390804597701149, total=   2.8s\n",
      "[CV] max_depth=5, min_samples_leaf=10, n_estimators=700 ..............\n"
     ]
    },
    {
     "name": "stdout",
     "output_type": "stream",
     "text": [
      "[CV]  max_depth=5, min_samples_leaf=10, n_estimators=700, score=0.8387265135699373, total=   4.0s\n",
      "[CV] max_depth=5, min_samples_leaf=10, n_estimators=700 ..............\n",
      "[CV]  max_depth=5, min_samples_leaf=10, n_estimators=700, score=0.8387265135699373, total=   4.1s\n",
      "[CV] max_depth=5, min_samples_leaf=10, n_estimators=700 ..............\n",
      "[CV]  max_depth=5, min_samples_leaf=10, n_estimators=700, score=0.8390804597701149, total=   3.9s\n",
      "[CV] max_depth=10, min_samples_leaf=3, n_estimators=200 ..............\n",
      "[CV]  max_depth=10, min_samples_leaf=3, n_estimators=200, score=0.8387265135699373, total=   1.6s\n",
      "[CV] max_depth=10, min_samples_leaf=3, n_estimators=200 ..............\n",
      "[CV]  max_depth=10, min_samples_leaf=3, n_estimators=200, score=0.8392484342379958, total=   1.7s\n",
      "[CV] max_depth=10, min_samples_leaf=3, n_estimators=200 ..............\n",
      "[CV]  max_depth=10, min_samples_leaf=3, n_estimators=200, score=0.8385579937304075, total=   1.7s\n",
      "[CV] max_depth=10, min_samples_leaf=3, n_estimators=500 ..............\n",
      "[CV]  max_depth=10, min_samples_leaf=3, n_estimators=500, score=0.8376826722338204, total=   4.2s\n",
      "[CV] max_depth=10, min_samples_leaf=3, n_estimators=500 ..............\n",
      "[CV]  max_depth=10, min_samples_leaf=3, n_estimators=500, score=0.8397703549060542, total=   4.3s\n",
      "[CV] max_depth=10, min_samples_leaf=3, n_estimators=500 ..............\n",
      "[CV]  max_depth=10, min_samples_leaf=3, n_estimators=500, score=0.8380355276907001, total=   4.2s\n",
      "[CV] max_depth=10, min_samples_leaf=3, n_estimators=700 ..............\n",
      "[CV]  max_depth=10, min_samples_leaf=3, n_estimators=700, score=0.8387265135699373, total=   5.9s\n",
      "[CV] max_depth=10, min_samples_leaf=3, n_estimators=700 ..............\n",
      "[CV]  max_depth=10, min_samples_leaf=3, n_estimators=700, score=0.8397703549060542, total=   6.0s\n",
      "[CV] max_depth=10, min_samples_leaf=3, n_estimators=700 ..............\n",
      "[CV]  max_depth=10, min_samples_leaf=3, n_estimators=700, score=0.8375130616509927, total=   6.0s\n",
      "[CV] max_depth=10, min_samples_leaf=6, n_estimators=200 ..............\n",
      "[CV]  max_depth=10, min_samples_leaf=6, n_estimators=200, score=0.8387265135699373, total=   1.6s\n",
      "[CV] max_depth=10, min_samples_leaf=6, n_estimators=200 ..............\n",
      "[CV]  max_depth=10, min_samples_leaf=6, n_estimators=200, score=0.8382045929018789, total=   1.6s\n",
      "[CV] max_depth=10, min_samples_leaf=6, n_estimators=200 ..............\n",
      "[CV]  max_depth=10, min_samples_leaf=6, n_estimators=200, score=0.8385579937304075, total=   1.6s\n",
      "[CV] max_depth=10, min_samples_leaf=6, n_estimators=500 ..............\n",
      "[CV]  max_depth=10, min_samples_leaf=6, n_estimators=500, score=0.8387265135699373, total=   4.4s\n",
      "[CV] max_depth=10, min_samples_leaf=6, n_estimators=500 ..............\n",
      "[CV]  max_depth=10, min_samples_leaf=6, n_estimators=500, score=0.8387265135699373, total=   4.1s\n",
      "[CV] max_depth=10, min_samples_leaf=6, n_estimators=500 ..............\n",
      "[CV]  max_depth=10, min_samples_leaf=6, n_estimators=500, score=0.8380355276907001, total=   4.1s\n",
      "[CV] max_depth=10, min_samples_leaf=6, n_estimators=700 ..............\n",
      "[CV]  max_depth=10, min_samples_leaf=6, n_estimators=700, score=0.8387265135699373, total=   5.8s\n",
      "[CV] max_depth=10, min_samples_leaf=6, n_estimators=700 ..............\n",
      "[CV]  max_depth=10, min_samples_leaf=6, n_estimators=700, score=0.8382045929018789, total=   5.7s\n",
      "[CV] max_depth=10, min_samples_leaf=6, n_estimators=700 ..............\n",
      "[CV]  max_depth=10, min_samples_leaf=6, n_estimators=700, score=0.8390804597701149, total=   5.8s\n",
      "[CV] max_depth=10, min_samples_leaf=10, n_estimators=200 .............\n",
      "[CV]  max_depth=10, min_samples_leaf=10, n_estimators=200, score=0.8387265135699373, total=   1.6s\n",
      "[CV] max_depth=10, min_samples_leaf=10, n_estimators=200 .............\n",
      "[CV]  max_depth=10, min_samples_leaf=10, n_estimators=200, score=0.8387265135699373, total=   1.6s\n",
      "[CV] max_depth=10, min_samples_leaf=10, n_estimators=200 .............\n",
      "[CV]  max_depth=10, min_samples_leaf=10, n_estimators=200, score=0.8385579937304075, total=   1.5s\n",
      "[CV] max_depth=10, min_samples_leaf=10, n_estimators=500 .............\n",
      "[CV]  max_depth=10, min_samples_leaf=10, n_estimators=500, score=0.8387265135699373, total=   4.0s\n",
      "[CV] max_depth=10, min_samples_leaf=10, n_estimators=500 .............\n",
      "[CV]  max_depth=10, min_samples_leaf=10, n_estimators=500, score=0.8387265135699373, total=   4.0s\n",
      "[CV] max_depth=10, min_samples_leaf=10, n_estimators=500 .............\n",
      "[CV]  max_depth=10, min_samples_leaf=10, n_estimators=500, score=0.8390804597701149, total=   3.9s\n",
      "[CV] max_depth=10, min_samples_leaf=10, n_estimators=700 .............\n",
      "[CV]  max_depth=10, min_samples_leaf=10, n_estimators=700, score=0.8387265135699373, total=   5.6s\n",
      "[CV] max_depth=10, min_samples_leaf=10, n_estimators=700 .............\n",
      "[CV]  max_depth=10, min_samples_leaf=10, n_estimators=700, score=0.8387265135699373, total=   5.7s\n",
      "[CV] max_depth=10, min_samples_leaf=10, n_estimators=700 .............\n",
      "[CV]  max_depth=10, min_samples_leaf=10, n_estimators=700, score=0.8390804597701149, total=   5.5s\n"
     ]
    },
    {
     "name": "stderr",
     "output_type": "stream",
     "text": [
      "[Parallel(n_jobs=1)]: Done  81 out of  81 | elapsed:  4.1min finished\n"
     ]
    },
    {
     "data": {
      "text/plain": [
       "GridSearchCV(cv=None, error_score='raise',\n",
       "       estimator=RandomForestClassifier(bootstrap=True, class_weight=None, criterion='gini',\n",
       "            max_depth=None, max_features='auto', max_leaf_nodes=None,\n",
       "            min_impurity_decrease=0.0, min_impurity_split=None,\n",
       "            min_samples_leaf=1, min_samples_split=2,\n",
       "            min_weight_fraction_leaf=0.0, n_estimators=10, n_jobs=1,\n",
       "            oob_score=True, random_state=None, verbose=0, warm_start=False),\n",
       "       fit_params=None, iid=True, n_jobs=1,\n",
       "       param_grid={'n_estimators': [200, 500, 700], 'max_depth': [1, 5, 10], 'min_samples_leaf': [3, 6, 10]},\n",
       "       pre_dispatch='2*n_jobs', refit=True, return_train_score='warn',\n",
       "       scoring=None, verbose=3)"
      ]
     },
     "execution_count": 99,
     "metadata": {},
     "output_type": "execute_result"
    }
   ],
   "source": [
    "gs.fit(train,y_train)"
   ]
  },
  {
   "cell_type": "code",
   "execution_count": 100,
   "metadata": {},
   "outputs": [
    {
     "data": {
      "text/plain": [
       "{'max_depth': 1, 'min_samples_leaf': 3, 'n_estimators': 200}"
      ]
     },
     "execution_count": 100,
     "metadata": {},
     "output_type": "execute_result"
    }
   ],
   "source": [
    "gs.best_params_"
   ]
  },
  {
   "cell_type": "code",
   "execution_count": 101,
   "metadata": {},
   "outputs": [
    {
     "data": {
      "text/plain": [
       "0.838844413505047"
      ]
     },
     "execution_count": 101,
     "metadata": {},
     "output_type": "execute_result"
    }
   ],
   "source": [
    "gs.best_score_"
   ]
  },
  {
   "cell_type": "code",
   "execution_count": 102,
   "metadata": {},
   "outputs": [],
   "source": [
    "from sklearn.metrics import confusion_matrix,classification_report"
   ]
  },
  {
   "cell_type": "code",
   "execution_count": 103,
   "metadata": {},
   "outputs": [
    {
     "name": "stdout",
     "output_type": "stream",
     "text": [
      "[[3152   73]\n",
      " [ 578   29]]\n"
     ]
    }
   ],
   "source": [
    "print(confusion_matrix(y_test,pred_rf))"
   ]
  },
  {
   "cell_type": "code",
   "execution_count": 104,
   "metadata": {},
   "outputs": [
    {
     "name": "stdout",
     "output_type": "stream",
     "text": [
      "             precision    recall  f1-score   support\n",
      "\n",
      "          0       0.85      0.98      0.91      3225\n",
      "          1       0.28      0.05      0.08       607\n",
      "\n",
      "avg / total       0.76      0.83      0.78      3832\n",
      "\n"
     ]
    }
   ],
   "source": [
    "print(classification_report(y_test,pred_rf))"
   ]
  },
  {
   "cell_type": "code",
   "execution_count": 105,
   "metadata": {},
   "outputs": [],
   "source": [
    "rf1 = gs.best_estimator_\n",
    "rf1.oob_score = True"
   ]
  },
  {
   "cell_type": "code",
   "execution_count": 106,
   "metadata": {},
   "outputs": [
    {
     "data": {
      "text/plain": [
       "RandomForestClassifier(bootstrap=True, class_weight=None, criterion='gini',\n",
       "            max_depth=1, max_features='auto', max_leaf_nodes=None,\n",
       "            min_impurity_decrease=0.0, min_impurity_split=None,\n",
       "            min_samples_leaf=3, min_samples_split=2,\n",
       "            min_weight_fraction_leaf=0.0, n_estimators=200, n_jobs=1,\n",
       "            oob_score=True, random_state=None, verbose=0, warm_start=False)"
      ]
     },
     "execution_count": 106,
     "metadata": {},
     "output_type": "execute_result"
    }
   ],
   "source": [
    "rf1.fit(train,y_train)"
   ]
  },
  {
   "cell_type": "code",
   "execution_count": 107,
   "metadata": {},
   "outputs": [],
   "source": [
    "pred_rf1 = rf1.predict(test)"
   ]
  },
  {
   "cell_type": "code",
   "execution_count": 108,
   "metadata": {},
   "outputs": [
    {
     "name": "stdout",
     "output_type": "stream",
     "text": [
      "0.8415970772442589\n"
     ]
    }
   ],
   "source": [
    "print(accuracy_score(y_test,pred_rf1))"
   ]
  },
  {
   "cell_type": "code",
   "execution_count": 109,
   "metadata": {},
   "outputs": [
    {
     "data": {
      "text/plain": [
       "0.838844413505047"
      ]
     },
     "execution_count": 109,
     "metadata": {},
     "output_type": "execute_result"
    }
   ],
   "source": [
    "rf1.oob_score_"
   ]
  },
  {
   "cell_type": "code",
   "execution_count": 110,
   "metadata": {},
   "outputs": [
    {
     "data": {
      "text/plain": [
       "array([0.185, 0.115, 0.045, 0.04 , 0.05 , 0.14 , 0.055, 0.02 , 0.065,\n",
       "       0.185, 0.005, 0.035, 0.   , 0.   , 0.   , 0.005, 0.   , 0.01 ,\n",
       "       0.045])"
      ]
     },
     "execution_count": 110,
     "metadata": {},
     "output_type": "execute_result"
    }
   ],
   "source": [
    "rf1.feature_importances_"
   ]
  },
  {
   "cell_type": "code",
   "execution_count": 112,
   "metadata": {},
   "outputs": [
    {
     "data": {
      "text/plain": [
       "[(0.185, 'inq.last.6mths'),\n",
       " (0.185, 'credit.policy'),\n",
       " (0.14, 'fico'),\n",
       " (0.115, 'int.rate'),\n",
       " (0.065, 'revol.util'),\n",
       " (0.055, 'days.with.cr.line'),\n",
       " (0.05, 'dti'),\n",
       " (0.045, 'small_business'),\n",
       " (0.045, 'installment'),\n",
       " (0.04, 'log.annual.inc'),\n",
       " (0.035, 'pub.rec'),\n",
       " (0.02, 'revol.bal'),\n",
       " (0.01, 'major_purchase'),\n",
       " (0.005, 'educational'),\n",
       " (0.005, 'delinq.2yrs'),\n",
       " (0.0, 'home_improvement'),\n",
       " (0.0, 'debt_consolidation'),\n",
       " (0.0, 'credit_card'),\n",
       " (0.0, 'all_other')]"
      ]
     },
     "execution_count": 112,
     "metadata": {},
     "output_type": "execute_result"
    }
   ],
   "source": [
    "sorted(list(zip(rf1.feature_importances_,df.columns)),reverse=True)"
   ]
  },
  {
   "cell_type": "code",
   "execution_count": 113,
   "metadata": {},
   "outputs": [
    {
     "name": "stdout",
     "output_type": "stream",
     "text": [
      "[[3225    0]\n",
      " [ 607    0]]\n"
     ]
    }
   ],
   "source": [
    "print(confusion_matrix(y_test,pred_rf1))"
   ]
  },
  {
   "cell_type": "code",
   "execution_count": 114,
   "metadata": {},
   "outputs": [
    {
     "name": "stdout",
     "output_type": "stream",
     "text": [
      "             precision    recall  f1-score   support\n",
      "\n",
      "          0       0.84      1.00      0.91      3225\n",
      "          1       0.00      0.00      0.00       607\n",
      "\n",
      "avg / total       0.71      0.84      0.77      3832\n",
      "\n"
     ]
    }
   ],
   "source": [
    "print(classification_report(y_test,pred_rf1))"
   ]
  },
  {
   "cell_type": "code",
   "execution_count": 115,
   "metadata": {},
   "outputs": [
    {
     "name": "stdout",
     "output_type": "stream",
     "text": [
      "[0 0 0 ... 0 0 0]\n"
     ]
    }
   ],
   "source": [
    "print(pred_rf1)"
   ]
  },
  {
   "cell_type": "code",
   "execution_count": null,
   "metadata": {},
   "outputs": [],
   "source": []
  }
 ],
 "metadata": {
  "kernelspec": {
   "display_name": "Python 3",
   "language": "python",
   "name": "python3"
  },
  "language_info": {
   "codemirror_mode": {
    "name": "ipython",
    "version": 3
   },
   "file_extension": ".py",
   "mimetype": "text/x-python",
   "name": "python",
   "nbconvert_exporter": "python",
   "pygments_lexer": "ipython3",
   "version": "3.6.4"
  }
 },
 "nbformat": 4,
 "nbformat_minor": 2
}
