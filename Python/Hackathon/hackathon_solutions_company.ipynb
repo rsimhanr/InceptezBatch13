{
 "cells": [
  {
   "cell_type": "code",
   "execution_count": 2,
   "metadata": {},
   "outputs": [],
   "source": [
    "#Import libraries\n",
    "import pandas as pd\n",
    "import numpy as np\n",
    "import matplotlib.pyplot as plt\n",
    "%matplotlib inline\n",
    "import seaborn as sns"
   ]
  },
  {
   "cell_type": "code",
   "execution_count": 460,
   "metadata": {},
   "outputs": [],
   "source": [
    "# Read the data\n",
    "cmdf = pd.read_csv('company.csv')"
   ]
  },
  {
   "cell_type": "code",
   "execution_count": 461,
   "metadata": {},
   "outputs": [
    {
     "data": {
      "text/plain": [
       "(148, 6)"
      ]
     },
     "execution_count": 461,
     "metadata": {},
     "output_type": "execute_result"
    }
   ],
   "source": [
    "cmdf.shape"
   ]
  },
  {
   "cell_type": "code",
   "execution_count": 462,
   "metadata": {},
   "outputs": [
    {
     "data": {
      "text/plain": [
       "Company     8\n",
       "Age        18\n",
       "Salary     24\n",
       "Place      14\n",
       "Country     0\n",
       "Gender      0\n",
       "dtype: int64"
      ]
     },
     "execution_count": 462,
     "metadata": {},
     "output_type": "execute_result"
    }
   ],
   "source": [
    "cmdf.isna().sum()"
   ]
  },
  {
   "cell_type": "code",
   "execution_count": null,
   "metadata": {},
   "outputs": [],
   "source": []
  },
  {
   "cell_type": "code",
   "execution_count": 463,
   "metadata": {},
   "outputs": [
    {
     "data": {
      "text/plain": [
       "['TCS',\n",
       " 'Infosys',\n",
       " 'CTS',\n",
       " 'Tata Consultancy Services',\n",
       " 'Congnizant',\n",
       " 'Infosys Pvt Lmt']"
      ]
     },
     "execution_count": 463,
     "metadata": {},
     "output_type": "execute_result"
    }
   ],
   "source": [
    "#List of companies\n",
    "list(cmdf['Company'].dropna().unique())"
   ]
  },
  {
   "cell_type": "code",
   "execution_count": 464,
   "metadata": {},
   "outputs": [],
   "source": [
    "# Number of employees per company\n",
    "emp_dist = cmdf['Company'].value_counts()"
   ]
  },
  {
   "cell_type": "code",
   "execution_count": 465,
   "metadata": {},
   "outputs": [
    {
     "data": {
      "text/plain": [
       "Index(['TCS', 'Infosys', 'CTS', 'Tata Consultancy Services', 'Congnizant',\n",
       "       'Infosys Pvt Lmt'],\n",
       "      dtype='object')"
      ]
     },
     "execution_count": 465,
     "metadata": {},
     "output_type": "execute_result"
    }
   ],
   "source": [
    "cmdf['Company'].value_counts().index"
   ]
  },
  {
   "cell_type": "code",
   "execution_count": 466,
   "metadata": {},
   "outputs": [],
   "source": [
    "cmdf['Company'] = np.where(cmdf['Company']=='Tata Consultancy Services','TCS',cmdf['Company'])\n",
    "cmdf['Company'] = np.where(cmdf['Company']=='Infosys Pvt Lmt','Infosys',cmdf['Company'])\n",
    "cmdf['Company'] = np.where(cmdf['Company']=='Congnizant','CTS',cmdf['Company'])\n",
    "cmdf['Company'] = cmdf['Company'].fillna('Anonymous')\n",
    "cmdf['Place'] = cmdf['Place'].fillna('Anonymous')\n",
    "cmdf['Gender'] = np.where(cmdf['Gender']==0,'Female','Male')"
   ]
  },
  {
   "cell_type": "code",
   "execution_count": 467,
   "metadata": {},
   "outputs": [],
   "source": [
    "cmdf = cmdf.set_index('Company')"
   ]
  },
  {
   "cell_type": "code",
   "execution_count": 468,
   "metadata": {},
   "outputs": [],
   "source": [
    "for c in cmdf.index.unique():\n",
    "    cmdf['Salary'] = np.where((cmdf.index.values == c) & (cmdf['Salary'].isna()),round(cmdf.loc[c,'Salary'].mean(),2),cmdf['Salary'])"
   ]
  },
  {
   "cell_type": "code",
   "execution_count": 469,
   "metadata": {},
   "outputs": [],
   "source": [
    "for c in cmdf.index.unique():\n",
    "    cmdf['Age'] = np.where((cmdf.index.values == c) & (cmdf['Age'].isna()),round(cmdf.loc[c,'Age'].mean()),cmdf['Age'])"
   ]
  },
  {
   "cell_type": "code",
   "execution_count": 470,
   "metadata": {},
   "outputs": [
    {
     "data": {
      "text/plain": [
       "Age        0\n",
       "Salary     0\n",
       "Place      0\n",
       "Country    0\n",
       "Gender     0\n",
       "dtype: int64"
      ]
     },
     "execution_count": 470,
     "metadata": {},
     "output_type": "execute_result"
    }
   ],
   "source": [
    "cmdf.isna().sum()"
   ]
  },
  {
   "cell_type": "code",
   "execution_count": null,
   "metadata": {},
   "outputs": [],
   "source": []
  },
  {
   "cell_type": "code",
   "execution_count": 471,
   "metadata": {},
   "outputs": [
    {
     "data": {
      "text/plain": [
       "Company\n",
       "TCS    5609.71\n",
       "TCS    2300.00\n",
       "TCS    4000.00\n",
       "TCS    6000.00\n",
       "TCS    8000.00\n",
       "TCS    3000.00\n",
       "TCS    5000.00\n",
       "TCS    5609.71\n",
       "TCS    3045.00\n",
       "TCS    4824.00\n",
       "TCS    7084.00\n",
       "TCS    8345.00\n",
       "TCS    5034.00\n",
       "TCS    9024.00\n",
       "TCS    5609.71\n",
       "TCS    2300.00\n",
       "TCS    4345.00\n",
       "TCS    6000.00\n",
       "TCS    8000.00\n",
       "TCS    5000.00\n",
       "TCS    6544.00\n",
       "TCS    3045.00\n",
       "TCS    4824.00\n",
       "TCS    7084.00\n",
       "TCS    8345.00\n",
       "TCS    5034.00\n",
       "TCS    9024.00\n",
       "TCS    5609.71\n",
       "TCS    2300.00\n",
       "TCS    4000.00\n",
       "TCS    6000.00\n",
       "TCS    8000.00\n",
       "TCS    3000.00\n",
       "TCS    5000.00\n",
       "TCS    5609.71\n",
       "TCS    3045.00\n",
       "TCS    4824.00\n",
       "TCS    7084.00\n",
       "TCS    8345.00\n",
       "TCS    5034.00\n",
       "TCS    9024.00\n",
       "TCS    5609.71\n",
       "TCS    2300.00\n",
       "TCS    4324.00\n",
       "TCS    5555.00\n",
       "TCS    8787.00\n",
       "TCS    5654.00\n",
       "TCS    5009.00\n",
       "TCS    3045.00\n",
       "TCS    4824.00\n",
       "TCS    7084.00\n",
       "TCS    8345.00\n",
       "TCS    5034.00\n",
       "TCS    9024.00\n",
       "TCS    5034.00\n",
       "Name: Salary, dtype: float64"
      ]
     },
     "execution_count": 471,
     "metadata": {},
     "output_type": "execute_result"
    }
   ],
   "source": [
    "cmdf.loc['TCS','Salary']"
   ]
  },
  {
   "cell_type": "code",
   "execution_count": 472,
   "metadata": {},
   "outputs": [
    {
     "data": {
      "text/plain": [
       "5609.713818181818"
      ]
     },
     "execution_count": 472,
     "metadata": {},
     "output_type": "execute_result"
    }
   ],
   "source": [
    "cmdf.loc['TCS','Salary'].mean()"
   ]
  },
  {
   "cell_type": "code",
   "execution_count": null,
   "metadata": {},
   "outputs": [],
   "source": []
  },
  {
   "cell_type": "code",
   "execution_count": 473,
   "metadata": {},
   "outputs": [],
   "source": [
    "cmdf = cmdf.reset_index('Company')"
   ]
  },
  {
   "cell_type": "code",
   "execution_count": 474,
   "metadata": {},
   "outputs": [
    {
     "data": {
      "text/plain": [
       "Text(0,0.5,'No of employees')"
      ]
     },
     "execution_count": 474,
     "metadata": {},
     "output_type": "execute_result"
    },
    {
     "data": {
      "image/png": "[encoded data removed]",
      "text/plain": [
       "<matplotlib.figure.Figure at 0xf132390>"
      ]
     },
     "metadata": {},
     "output_type": "display_data"
    }
   ],
   "source": [
    "plt.figure(figsize = (10,8))\n",
    "sns.barplot(x=cmdf['Company'].value_counts().index, y=cmdf['Company'].value_counts())\n",
    "plt.xlabel('Name of the company')\n",
    "plt.ylabel('No of employees')"
   ]
  },
  {
   "cell_type": "code",
   "execution_count": 475,
   "metadata": {},
   "outputs": [
    {
     "name": "stdout",
     "output_type": "stream",
     "text": [
      "Maximum employed com : TCS\n",
      "Minimum employed com : Anonymous\n"
     ]
    }
   ],
   "source": [
    "#Max & Min employer\n",
    "maxe = cmdf['Company'].value_counts().index[0]\n",
    "mine = cmdf['Company'].value_counts().index[-1]\n",
    "print('Maximum employed com :', maxe)\n",
    "print('Minimum employed com :', mine)"
   ]
  },
  {
   "cell_type": "code",
   "execution_count": 476,
   "metadata": {},
   "outputs": [
    {
     "data": {
      "text/plain": [
       "Mumbai        37\n",
       "Calcutta      33\n",
       "Chennai       14\n",
       "Delhi         14\n",
       "Anonymous     14\n",
       "Cochin        13\n",
       "Hyderabad      8\n",
       "Noida          8\n",
       "Podicherry     3\n",
       "Pune           2\n",
       "Bhopal         1\n",
       "Nagpur         1\n",
       "Name: Place, dtype: int64"
      ]
     },
     "execution_count": 476,
     "metadata": {},
     "output_type": "execute_result"
    }
   ],
   "source": [
    "cmdf['Place'].value_counts()"
   ]
  },
  {
   "cell_type": "code",
   "execution_count": 477,
   "metadata": {},
   "outputs": [
    {
     "data": {
      "text/plain": [
       "Text(0,0.5,'No of employees')"
      ]
     },
     "execution_count": 477,
     "metadata": {},
     "output_type": "execute_result"
    },
    {
     "data": {
      "image/png": "[encoded data removed]",
      "text/plain": [
       "<matplotlib.figure.Figure at 0xf176fd0>"
      ]
     },
     "metadata": {},
     "output_type": "display_data"
    }
   ],
   "source": [
    "plt.figure(figsize = (10,8))\n",
    "sns.barplot(x=cmdf['Place'].value_counts().index, y=cmdf['Place'].value_counts())\n",
    "plt.xlabel('Place')\n",
    "plt.ylabel('No of employees')"
   ]
  },
  {
   "cell_type": "code",
   "execution_count": 478,
   "metadata": {},
   "outputs": [],
   "source": [
    "cmdf_place = pd.get_dummies(data = cmdf[['Company','Place']],columns = ['Place']).groupby(by='Company').sum()"
   ]
  },
  {
   "cell_type": "code",
   "execution_count": 479,
   "metadata": {},
   "outputs": [
    {
     "data": {
      "text/html": [
       "<div>\n",
       "<style scoped>\n",
       "    .dataframe tbody tr th:only-of-type {\n",
       "        vertical-align: middle;\n",
       "    }\n",
       "\n",
       "    .dataframe tbody tr th {\n",
       "        vertical-align: top;\n",
       "    }\n",
       "\n",
       "    .dataframe thead th {\n",
       "        text-align: right;\n",
       "    }\n",
       "</style>\n",
       "<table border=\"1\" class=\"dataframe\">\n",
       "  <thead>\n",
       "    <tr style=\"text-align: right;\">\n",
       "      <th></th>\n",
       "      <th>Place_Anonymous</th>\n",
       "      <th>Place_Bhopal</th>\n",
       "      <th>Place_Calcutta</th>\n",
       "      <th>Place_Chennai</th>\n",
       "      <th>Place_Cochin</th>\n",
       "      <th>Place_Delhi</th>\n",
       "      <th>Place_Hyderabad</th>\n",
       "      <th>Place_Mumbai</th>\n",
       "      <th>Place_Nagpur</th>\n",
       "      <th>Place_Noida</th>\n",
       "      <th>Place_Podicherry</th>\n",
       "      <th>Place_Pune</th>\n",
       "    </tr>\n",
       "    <tr>\n",
       "      <th>Company</th>\n",
       "      <th></th>\n",
       "      <th></th>\n",
       "      <th></th>\n",
       "      <th></th>\n",
       "      <th></th>\n",
       "      <th></th>\n",
       "      <th></th>\n",
       "      <th></th>\n",
       "      <th></th>\n",
       "      <th></th>\n",
       "      <th></th>\n",
       "      <th></th>\n",
       "    </tr>\n",
       "  </thead>\n",
       "  <tbody>\n",
       "    <tr>\n",
       "      <th>Anonymous</th>\n",
       "      <td>1</td>\n",
       "      <td>0</td>\n",
       "      <td>2</td>\n",
       "      <td>1</td>\n",
       "      <td>0</td>\n",
       "      <td>1</td>\n",
       "      <td>1</td>\n",
       "      <td>1</td>\n",
       "      <td>0</td>\n",
       "      <td>1</td>\n",
       "      <td>0</td>\n",
       "      <td>0</td>\n",
       "    </tr>\n",
       "    <tr>\n",
       "      <th>CTS</th>\n",
       "      <td>3</td>\n",
       "      <td>0</td>\n",
       "      <td>7</td>\n",
       "      <td>3</td>\n",
       "      <td>4</td>\n",
       "      <td>2</td>\n",
       "      <td>3</td>\n",
       "      <td>10</td>\n",
       "      <td>0</td>\n",
       "      <td>2</td>\n",
       "      <td>2</td>\n",
       "      <td>2</td>\n",
       "    </tr>\n",
       "    <tr>\n",
       "      <th>Infosys</th>\n",
       "      <td>3</td>\n",
       "      <td>1</td>\n",
       "      <td>11</td>\n",
       "      <td>4</td>\n",
       "      <td>5</td>\n",
       "      <td>6</td>\n",
       "      <td>3</td>\n",
       "      <td>12</td>\n",
       "      <td>0</td>\n",
       "      <td>1</td>\n",
       "      <td>1</td>\n",
       "      <td>0</td>\n",
       "    </tr>\n",
       "    <tr>\n",
       "      <th>TCS</th>\n",
       "      <td>7</td>\n",
       "      <td>0</td>\n",
       "      <td>13</td>\n",
       "      <td>6</td>\n",
       "      <td>4</td>\n",
       "      <td>5</td>\n",
       "      <td>1</td>\n",
       "      <td>14</td>\n",
       "      <td>1</td>\n",
       "      <td>4</td>\n",
       "      <td>0</td>\n",
       "      <td>0</td>\n",
       "    </tr>\n",
       "  </tbody>\n",
       "</table>\n",
       "</div>"
      ],
      "text/plain": [
       "           Place_Anonymous  Place_Bhopal  Place_Calcutta  Place_Chennai  \\\n",
       "Company                                                                   \n",
       "Anonymous                1             0               2              1   \n",
       "CTS                      3             0               7              3   \n",
       "Infosys                  3             1              11              4   \n",
       "TCS                      7             0              13              6   \n",
       "\n",
       "           Place_Cochin  Place_Delhi  Place_Hyderabad  Place_Mumbai  \\\n",
       "Company                                                               \n",
       "Anonymous             0            1                1             1   \n",
       "CTS                   4            2                3            10   \n",
       "Infosys               5            6                3            12   \n",
       "TCS                   4            5                1            14   \n",
       "\n",
       "           Place_Nagpur  Place_Noida  Place_Podicherry  Place_Pune  \n",
       "Company                                                             \n",
       "Anonymous             0            1                 0           0  \n",
       "CTS                   0            2                 2           2  \n",
       "Infosys               0            1                 1           0  \n",
       "TCS                   1            4                 0           0  "
      ]
     },
     "execution_count": 479,
     "metadata": {},
     "output_type": "execute_result"
    }
   ],
   "source": [
    "cmdf_place"
   ]
  },
  {
   "cell_type": "code",
   "execution_count": 210,
   "metadata": {},
   "outputs": [
    {
     "data": {
      "text/plain": [
       "array(['Chennai', 'Mumbai', 'Calcutta', 'Delhi', 'Podicherry', 'Cochin',\n",
       "       'Anonymous', 'Noida', 'Hyderabad', 'Bhopal', 'Nagpur', 'Pune'],\n",
       "      dtype=object)"
      ]
     },
     "execution_count": 210,
     "metadata": {},
     "output_type": "execute_result"
    }
   ],
   "source": [
    "cmdf['Place'].dropna().unique()"
   ]
  },
  {
   "cell_type": "code",
   "execution_count": 480,
   "metadata": {},
   "outputs": [
    {
     "data": {
      "text/html": [
       "<div>\n",
       "<style scoped>\n",
       "    .dataframe tbody tr th:only-of-type {\n",
       "        vertical-align: middle;\n",
       "    }\n",
       "\n",
       "    .dataframe tbody tr th {\n",
       "        vertical-align: top;\n",
       "    }\n",
       "\n",
       "    .dataframe thead th {\n",
       "        text-align: right;\n",
       "    }\n",
       "</style>\n",
       "<table border=\"1\" class=\"dataframe\">\n",
       "  <thead>\n",
       "    <tr style=\"text-align: right;\">\n",
       "      <th></th>\n",
       "      <th>Place_Anonymous</th>\n",
       "      <th>Place_Bhopal</th>\n",
       "      <th>Place_Calcutta</th>\n",
       "      <th>Place_Chennai</th>\n",
       "      <th>Place_Cochin</th>\n",
       "      <th>Place_Delhi</th>\n",
       "      <th>Place_Hyderabad</th>\n",
       "      <th>Place_Mumbai</th>\n",
       "      <th>Place_Nagpur</th>\n",
       "      <th>Place_Noida</th>\n",
       "      <th>Place_Podicherry</th>\n",
       "      <th>Place_Pune</th>\n",
       "    </tr>\n",
       "    <tr>\n",
       "      <th>Company</th>\n",
       "      <th></th>\n",
       "      <th></th>\n",
       "      <th></th>\n",
       "      <th></th>\n",
       "      <th></th>\n",
       "      <th></th>\n",
       "      <th></th>\n",
       "      <th></th>\n",
       "      <th></th>\n",
       "      <th></th>\n",
       "      <th></th>\n",
       "      <th></th>\n",
       "    </tr>\n",
       "  </thead>\n",
       "  <tbody>\n",
       "    <tr>\n",
       "      <th>Anonymous</th>\n",
       "      <td>1</td>\n",
       "      <td>0</td>\n",
       "      <td>2</td>\n",
       "      <td>1</td>\n",
       "      <td>0</td>\n",
       "      <td>1</td>\n",
       "      <td>1</td>\n",
       "      <td>1</td>\n",
       "      <td>0</td>\n",
       "      <td>1</td>\n",
       "      <td>0</td>\n",
       "      <td>0</td>\n",
       "    </tr>\n",
       "    <tr>\n",
       "      <th>CTS</th>\n",
       "      <td>3</td>\n",
       "      <td>0</td>\n",
       "      <td>7</td>\n",
       "      <td>3</td>\n",
       "      <td>4</td>\n",
       "      <td>2</td>\n",
       "      <td>3</td>\n",
       "      <td>10</td>\n",
       "      <td>0</td>\n",
       "      <td>2</td>\n",
       "      <td>2</td>\n",
       "      <td>2</td>\n",
       "    </tr>\n",
       "    <tr>\n",
       "      <th>Infosys</th>\n",
       "      <td>3</td>\n",
       "      <td>1</td>\n",
       "      <td>11</td>\n",
       "      <td>4</td>\n",
       "      <td>5</td>\n",
       "      <td>6</td>\n",
       "      <td>3</td>\n",
       "      <td>12</td>\n",
       "      <td>0</td>\n",
       "      <td>1</td>\n",
       "      <td>1</td>\n",
       "      <td>0</td>\n",
       "    </tr>\n",
       "    <tr>\n",
       "      <th>TCS</th>\n",
       "      <td>7</td>\n",
       "      <td>0</td>\n",
       "      <td>13</td>\n",
       "      <td>6</td>\n",
       "      <td>4</td>\n",
       "      <td>5</td>\n",
       "      <td>1</td>\n",
       "      <td>14</td>\n",
       "      <td>1</td>\n",
       "      <td>4</td>\n",
       "      <td>0</td>\n",
       "      <td>0</td>\n",
       "    </tr>\n",
       "  </tbody>\n",
       "</table>\n",
       "</div>"
      ],
      "text/plain": [
       "           Place_Anonymous  Place_Bhopal  Place_Calcutta  Place_Chennai  \\\n",
       "Company                                                                   \n",
       "Anonymous                1             0               2              1   \n",
       "CTS                      3             0               7              3   \n",
       "Infosys                  3             1              11              4   \n",
       "TCS                      7             0              13              6   \n",
       "\n",
       "           Place_Cochin  Place_Delhi  Place_Hyderabad  Place_Mumbai  \\\n",
       "Company                                                               \n",
       "Anonymous             0            1                1             1   \n",
       "CTS                   4            2                3            10   \n",
       "Infosys               5            6                3            12   \n",
       "TCS                   4            5                1            14   \n",
       "\n",
       "           Place_Nagpur  Place_Noida  Place_Podicherry  Place_Pune  \n",
       "Company                                                             \n",
       "Anonymous             0            1                 0           0  \n",
       "CTS                   0            2                 2           2  \n",
       "Infosys               0            1                 1           0  \n",
       "TCS                   1            4                 0           0  "
      ]
     },
     "execution_count": 480,
     "metadata": {},
     "output_type": "execute_result"
    }
   ],
   "source": [
    "cmdf_place"
   ]
  },
  {
   "cell_type": "code",
   "execution_count": 481,
   "metadata": {},
   "outputs": [
    {
     "name": "stdout",
     "output_type": "stream",
     "text": [
      "Maximum Employess :\n",
      " Company\n",
      "Anonymous    Place_Calcutta\n",
      "CTS            Place_Mumbai\n",
      "Infosys        Place_Mumbai\n",
      "TCS            Place_Mumbai\n",
      "dtype: object\n",
      "Minimum Employess :\n",
      " Company\n",
      "Anonymous    Place_Bhopal\n",
      "CTS          Place_Bhopal\n",
      "Infosys      Place_Nagpur\n",
      "TCS          Place_Bhopal\n",
      "dtype: object\n"
     ]
    }
   ],
   "source": [
    "# Places of maximum & minumum employees in each company\n",
    "print('Maximum Employess :\\n',cmdf_place.idxmax(axis=1))\n",
    "print('Minimum Employess :\\n',cmdf_place.idxmin(axis=1))"
   ]
  },
  {
   "cell_type": "code",
   "execution_count": 482,
   "metadata": {},
   "outputs": [],
   "source": [
    "#Mean salary of each company\n",
    "\n",
    "cmdf_copy = cmdf.set_index('Company')"
   ]
  },
  {
   "cell_type": "code",
   "execution_count": 483,
   "metadata": {},
   "outputs": [
    {
     "data": {
      "text/html": [
       "<div>\n",
       "<style scoped>\n",
       "    .dataframe tbody tr th:only-of-type {\n",
       "        vertical-align: middle;\n",
       "    }\n",
       "\n",
       "    .dataframe tbody tr th {\n",
       "        vertical-align: top;\n",
       "    }\n",
       "\n",
       "    .dataframe thead th {\n",
       "        text-align: right;\n",
       "    }\n",
       "</style>\n",
       "<table border=\"1\" class=\"dataframe\">\n",
       "  <thead>\n",
       "    <tr style=\"text-align: right;\">\n",
       "      <th></th>\n",
       "      <th>Age</th>\n",
       "      <th>Salary</th>\n",
       "    </tr>\n",
       "    <tr>\n",
       "      <th>Company</th>\n",
       "      <th></th>\n",
       "      <th></th>\n",
       "    </tr>\n",
       "  </thead>\n",
       "  <tbody>\n",
       "    <tr>\n",
       "      <th>Anonymous</th>\n",
       "      <td>27.250000</td>\n",
       "      <td>6176.600000</td>\n",
       "    </tr>\n",
       "    <tr>\n",
       "      <th>CTS</th>\n",
       "      <td>31.631579</td>\n",
       "      <td>4582.927105</td>\n",
       "    </tr>\n",
       "    <tr>\n",
       "      <th>Infosys</th>\n",
       "      <td>32.042553</td>\n",
       "      <td>5331.348936</td>\n",
       "    </tr>\n",
       "    <tr>\n",
       "      <th>TCS</th>\n",
       "      <td>28.709091</td>\n",
       "      <td>5609.713818</td>\n",
       "    </tr>\n",
       "  </tbody>\n",
       "</table>\n",
       "</div>"
      ],
      "text/plain": [
       "                 Age       Salary\n",
       "Company                          \n",
       "Anonymous  27.250000  6176.600000\n",
       "CTS        31.631579  4582.927105\n",
       "Infosys    32.042553  5331.348936\n",
       "TCS        28.709091  5609.713818"
      ]
     },
     "execution_count": 483,
     "metadata": {},
     "output_type": "execute_result"
    }
   ],
   "source": [
    "cmdf_copy.groupby(level=0).mean()"
   ]
  },
  {
   "cell_type": "code",
   "execution_count": 484,
   "metadata": {},
   "outputs": [
    {
     "data": {
      "text/html": [
       "<div>\n",
       "<style scoped>\n",
       "    .dataframe tbody tr th:only-of-type {\n",
       "        vertical-align: middle;\n",
       "    }\n",
       "\n",
       "    .dataframe tbody tr th {\n",
       "        vertical-align: top;\n",
       "    }\n",
       "\n",
       "    .dataframe thead tr th {\n",
       "        text-align: left;\n",
       "    }\n",
       "\n",
       "    .dataframe thead tr:last-of-type th {\n",
       "        text-align: right;\n",
       "    }\n",
       "</style>\n",
       "<table border=\"1\" class=\"dataframe\">\n",
       "  <thead>\n",
       "    <tr>\n",
       "      <th></th>\n",
       "      <th colspan=\"8\" halign=\"left\">Age</th>\n",
       "      <th colspan=\"8\" halign=\"left\">Salary</th>\n",
       "    </tr>\n",
       "    <tr>\n",
       "      <th></th>\n",
       "      <th>count</th>\n",
       "      <th>mean</th>\n",
       "      <th>std</th>\n",
       "      <th>min</th>\n",
       "      <th>25%</th>\n",
       "      <th>50%</th>\n",
       "      <th>75%</th>\n",
       "      <th>max</th>\n",
       "      <th>count</th>\n",
       "      <th>mean</th>\n",
       "      <th>std</th>\n",
       "      <th>min</th>\n",
       "      <th>25%</th>\n",
       "      <th>50%</th>\n",
       "      <th>75%</th>\n",
       "      <th>max</th>\n",
       "    </tr>\n",
       "    <tr>\n",
       "      <th>Company</th>\n",
       "      <th></th>\n",
       "      <th></th>\n",
       "      <th></th>\n",
       "      <th></th>\n",
       "      <th></th>\n",
       "      <th></th>\n",
       "      <th></th>\n",
       "      <th></th>\n",
       "      <th></th>\n",
       "      <th></th>\n",
       "      <th></th>\n",
       "      <th></th>\n",
       "      <th></th>\n",
       "      <th></th>\n",
       "      <th></th>\n",
       "      <th></th>\n",
       "    </tr>\n",
       "  </thead>\n",
       "  <tbody>\n",
       "    <tr>\n",
       "      <th>Anonymous</th>\n",
       "      <td>8.0</td>\n",
       "      <td>27.250000</td>\n",
       "      <td>4.496030</td>\n",
       "      <td>22.0</td>\n",
       "      <td>24.75</td>\n",
       "      <td>26.0</td>\n",
       "      <td>28.50</td>\n",
       "      <td>35.0</td>\n",
       "      <td>8.0</td>\n",
       "      <td>6176.600000</td>\n",
       "      <td>2169.381913</td>\n",
       "      <td>3000.0</td>\n",
       "      <td>5495.95</td>\n",
       "      <td>6176.60</td>\n",
       "      <td>7143.0000</td>\n",
       "      <td>8943.0</td>\n",
       "    </tr>\n",
       "    <tr>\n",
       "      <th>CTS</th>\n",
       "      <td>38.0</td>\n",
       "      <td>31.631579</td>\n",
       "      <td>12.572860</td>\n",
       "      <td>0.0</td>\n",
       "      <td>22.00</td>\n",
       "      <td>33.0</td>\n",
       "      <td>43.75</td>\n",
       "      <td>46.0</td>\n",
       "      <td>38.0</td>\n",
       "      <td>4582.927105</td>\n",
       "      <td>3055.143053</td>\n",
       "      <td>1089.0</td>\n",
       "      <td>2034.00</td>\n",
       "      <td>4582.93</td>\n",
       "      <td>6886.2325</td>\n",
       "      <td>9876.0</td>\n",
       "    </tr>\n",
       "    <tr>\n",
       "      <th>Infosys</th>\n",
       "      <td>47.0</td>\n",
       "      <td>32.042553</td>\n",
       "      <td>11.650634</td>\n",
       "      <td>0.0</td>\n",
       "      <td>23.00</td>\n",
       "      <td>32.0</td>\n",
       "      <td>41.00</td>\n",
       "      <td>54.0</td>\n",
       "      <td>47.0</td>\n",
       "      <td>5331.348936</td>\n",
       "      <td>2097.775363</td>\n",
       "      <td>3000.0</td>\n",
       "      <td>3184.00</td>\n",
       "      <td>5098.00</td>\n",
       "      <td>7000.0000</td>\n",
       "      <td>8943.0</td>\n",
       "    </tr>\n",
       "    <tr>\n",
       "      <th>TCS</th>\n",
       "      <td>55.0</td>\n",
       "      <td>28.709091</td>\n",
       "      <td>7.804730</td>\n",
       "      <td>0.0</td>\n",
       "      <td>23.00</td>\n",
       "      <td>32.0</td>\n",
       "      <td>34.00</td>\n",
       "      <td>38.0</td>\n",
       "      <td>55.0</td>\n",
       "      <td>5609.713818</td>\n",
       "      <td>1979.560913</td>\n",
       "      <td>2300.0</td>\n",
       "      <td>4584.50</td>\n",
       "      <td>5555.00</td>\n",
       "      <td>7084.0000</td>\n",
       "      <td>9024.0</td>\n",
       "    </tr>\n",
       "  </tbody>\n",
       "</table>\n",
       "</div>"
      ],
      "text/plain": [
       "            Age                                                       Salary  \\\n",
       "          count       mean        std   min    25%   50%    75%   max  count   \n",
       "Company                                                                        \n",
       "Anonymous   8.0  27.250000   4.496030  22.0  24.75  26.0  28.50  35.0    8.0   \n",
       "CTS        38.0  31.631579  12.572860   0.0  22.00  33.0  43.75  46.0   38.0   \n",
       "Infosys    47.0  32.042553  11.650634   0.0  23.00  32.0  41.00  54.0   47.0   \n",
       "TCS        55.0  28.709091   7.804730   0.0  23.00  32.0  34.00  38.0   55.0   \n",
       "\n",
       "                                                                          \\\n",
       "                  mean          std     min      25%      50%        75%   \n",
       "Company                                                                    \n",
       "Anonymous  6176.600000  2169.381913  3000.0  5495.95  6176.60  7143.0000   \n",
       "CTS        4582.927105  3055.143053  1089.0  2034.00  4582.93  6886.2325   \n",
       "Infosys    5331.348936  2097.775363  3000.0  3184.00  5098.00  7000.0000   \n",
       "TCS        5609.713818  1979.560913  2300.0  4584.50  5555.00  7084.0000   \n",
       "\n",
       "                   \n",
       "              max  \n",
       "Company            \n",
       "Anonymous  8943.0  \n",
       "CTS        9876.0  \n",
       "Infosys    8943.0  \n",
       "TCS        9024.0  "
      ]
     },
     "execution_count": 484,
     "metadata": {},
     "output_type": "execute_result"
    }
   ],
   "source": [
    "cmdf_copy[['Age','Salary']].groupby(level=0).describe()"
   ]
  },
  {
   "cell_type": "code",
   "execution_count": 485,
   "metadata": {},
   "outputs": [
    {
     "data": {
      "text/plain": [
       "Company\n",
       "Anonymous     8.0\n",
       "CTS          38.0\n",
       "Infosys      47.0\n",
       "TCS          55.0\n",
       "Name: count, dtype: float64"
      ]
     },
     "execution_count": 485,
     "metadata": {},
     "output_type": "execute_result"
    }
   ],
   "source": [
    "cmdf_copy[['Age','Salary']].groupby(level=0).describe()['Salary']['count']"
   ]
  },
  {
   "cell_type": "code",
   "execution_count": 486,
   "metadata": {},
   "outputs": [
    {
     "data": {
      "text/plain": [
       "Female    115\n",
       "Male       33\n",
       "Name: Gender, dtype: int64"
      ]
     },
     "execution_count": 486,
     "metadata": {},
     "output_type": "execute_result"
    }
   ],
   "source": [
    "cmdf['Gender'].value_counts()"
   ]
  },
  {
   "cell_type": "code",
   "execution_count": null,
   "metadata": {},
   "outputs": [],
   "source": []
  }
 ],
 "metadata": {
  "kernelspec": {
   "display_name": "Python 3",
   "language": "python",
   "name": "python3"
  },
  "language_info": {
   "codemirror_mode": {
    "name": "ipython",
    "version": 3
   },
   "file_extension": ".py",
   "mimetype": "text/x-python",
   "name": "python",
   "nbconvert_exporter": "python",
   "pygments_lexer": "ipython3",
   "version": "3.6.4"
  }
 },
 "nbformat": 4,
 "nbformat_minor": 2
}
