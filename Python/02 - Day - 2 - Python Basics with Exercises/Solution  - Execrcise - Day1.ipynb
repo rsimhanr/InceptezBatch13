{
 "cells": [
  {
   "cell_type": "markdown",
   "metadata": {},
   "source": [
    "### The questions for the exercises are given above the cells and the expected output is given below the cell. Please type the code inserting a new cell below the question because if you run the expected output cell the output would vanish! Happy learning! "
   ]
  },
  {
   "cell_type": "markdown",
   "metadata": {},
   "source": [
    "## Exercise Question 1: Given an input list removes the element at index 4 and add it to the 2nd position and also, at the end of the list\n",
    "\n",
    "For example: List = [54, 44, 27, 79, 91, 41]"
   ]
  },
  {
   "cell_type": "code",
   "execution_count": 15,
   "metadata": {},
   "outputs": [
    {
     "name": "stdout",
     "output_type": "stream",
     "text": [
      "List after removing element 4 :  [34, 54, 67, 89, 43, 94]\n",
      "List after adding the element to 2nd position :  [34, 54, 11, 67, 89, 43, 94]\n",
      "List after adding the element at the end of the list : [34, 54, 11, 67, 89, 43, 94, 11]\n"
     ]
    }
   ],
   "source": []
  },
  {
   "cell_type": "code",
   "execution_count": 1,
   "metadata": {},
   "outputs": [
    {
     "name": "stdout",
     "output_type": "stream",
     "text": [
      "List after removing element 4 :  [34, 54, 67, 89, 43, 94]\n",
      "List after adding the element to 2nd position :  [34, 54, 11, 67, 89, 43, 94]\n",
      "List after adding the element at the end of the list : [34, 54, 11, 67, 89, 43, 94, 11]\n"
     ]
    }
   ],
   "source": [
    "original_list = [34, 54, 67, 89, 11, 43, 94]\n",
    "# Remove the element in index 4 and store it in a variable\n",
    "element_4 = original_list.pop(4)\n",
    "print(\"List after removing element 4 : \", original_list )\n",
    "# Add the element in index 2\n",
    "original_list.insert(2,element_4)\n",
    "print(\"List after adding the element to 2nd position : \", original_list)\n",
    "\n",
    "# Add as the last element\n",
    "original_list.append(element_4)\n",
    "print(\"List after adding the element at the end of the list :\", original_list)"
   ]
  },
  {
   "cell_type": "markdown",
   "metadata": {},
   "source": [
    "## Exercise Question 2: Given a two list of equal size create a list of unique elements from both the lists into a seperate list"
   ]
  },
  {
   "cell_type": "code",
   "execution_count": 35,
   "metadata": {
    "scrolled": true
   },
   "outputs": [
    {
     "name": "stdout",
     "output_type": "stream",
     "text": [
      "First list :[2, 3, 4, 5, 6, 7, 8]\n",
      "Second List :[4, 9, 16, 25, 36, 49, 64]\n",
      "Third List :[64, 2, 3, 4, 5, 6, 7, 8, 9, 36, 16, 49, 25]\n"
     ]
    }
   ],
   "source": []
  },
  {
   "cell_type": "code",
   "execution_count": 2,
   "metadata": {},
   "outputs": [
    {
     "name": "stdout",
     "output_type": "stream",
     "text": [
      "First list :[2, 3, 4, 5, 6, 7, 8]\n",
      "Second List :[4, 9, 16, 25, 36, 49, 64]\n",
      "Third List :[64, 2, 3, 4, 5, 6, 7, 8, 9, 36, 16, 49, 25]\n"
     ]
    }
   ],
   "source": [
    "list1 = [2, 3, 4, 5, 6, 7, 8]\n",
    "list2 = [4, 9, 16, 25, 36, 49, 64]\n",
    "list3 = list(set(list1 + list2))\n",
    "print(\"First list :{0}\\nSecond List :{1}\\nThird List :{2}\".format( list1,list2,list3))"
   ]
  },
  {
   "cell_type": "markdown",
   "metadata": {},
   "source": [
    "## Exercise Question 3: Remove duplicate from a list and create a tuple and find the minimum and maximum number (Hint: Try Functions Min() and Max() ) "
   ]
  },
  {
   "cell_type": "code",
   "execution_count": 41,
   "metadata": {},
   "outputs": [
    {
     "name": "stdout",
     "output_type": "stream",
     "text": [
      "unique list  [44, 52, 53, 54, 87]\n",
      "Tuple (44, 52, 53, 54, 87)\n",
      "Maximum number 87\n",
      "Minimum number 44\n"
     ]
    }
   ],
   "source": []
  },
  {
   "cell_type": "code",
   "execution_count": 3,
   "metadata": {},
   "outputs": [
    {
     "name": "stdout",
     "output_type": "stream",
     "text": [
      "unique list  [44, 52, 53, 54, 87]\n",
      "Tuple (44, 52, 53, 54, 87)\n",
      "Maximum number 87\n",
      "Minimum number 44\n"
     ]
    }
   ],
   "source": [
    "o_list = [87, 52, 44, 53, 54, 87, 52, 53]\n",
    "\n",
    "#Remove duplicate\n",
    "o_list = list(set(o_list))\n",
    "print(\"unique list \", o_list)\n",
    "\n",
    "# Create tuple\n",
    "o_tuple = tuple(o_list)\n",
    "max_no = max(o_tuple)\n",
    "min_no = min(o_tuple)\n",
    "\n",
    "print(\"Tuple {0}\\nMaximum number {1}\\nMinimum number {2}\".format(o_tuple,max_no,min_no))"
   ]
  },
  {
   "cell_type": "markdown",
   "metadata": {},
   "source": [
    "## Exercise Question 4: Display the each word in the string Count the number of words in a string and display it (Including the white spaces) "
   ]
  },
  {
   "cell_type": "code",
   "execution_count": 19,
   "metadata": {},
   "outputs": [
    {
     "name": "stdout",
     "output_type": "stream",
     "text": [
      "w h a t ' s   u p ?\n"
     ]
    }
   ],
   "source": [
    "#Printing each words seperately \n",
    "a = \"what's up?\"\n",
    "print(*a)"
   ]
  },
  {
   "cell_type": "code",
   "execution_count": 42,
   "metadata": {},
   "outputs": [
    {
     "name": "stdout",
     "output_type": "stream",
     "text": [
      "Printing each words separately: W e l c o m e   t o   P y t h o n\n",
      "The length of the string 17\n"
     ]
    }
   ],
   "source": []
  },
  {
   "cell_type": "code",
   "execution_count": 4,
   "metadata": {},
   "outputs": [
    {
     "name": "stdout",
     "output_type": "stream",
     "text": [
      "Printing each words separately: W e l c o m e   t o   P y t h o n\n",
      "The length of the string 17\n"
     ]
    }
   ],
   "source": [
    "word = \"Welcome to Python\"\n",
    "print(\"Printing each words separately:\", *word)\n",
    "print(\"The length of the string\", len(word))"
   ]
  },
  {
   "cell_type": "markdown",
   "metadata": {},
   "source": [
    "##  Exercise Question 5: Write a Python program to access dictionary keys element by index. i.e. Use indexing methods to print the first key"
   ]
  },
  {
   "cell_type": "code",
   "execution_count": 58,
   "metadata": {},
   "outputs": [
    {
     "name": "stdout",
     "output_type": "stream",
     "text": [
      "Disctionary  {'physics': 80, 'math': 90, 'chemistry': 86}\n",
      "The key element accesed by index: physics\n"
     ]
    }
   ],
   "source": []
  },
  {
   "cell_type": "code",
   "execution_count": 5,
   "metadata": {},
   "outputs": [
    {
     "name": "stdout",
     "output_type": "stream",
     "text": [
      "Disctionary  {'physics': 80, 'math': 90, 'chemistry': 86}\n",
      "The key element accesed by index: physics\n"
     ]
    }
   ],
   "source": [
    "def print_first_key(klist):\n",
    "    print(\"The key element accesed by index:\", list(klist.keys())[0])\n",
    "\n",
    "klist = {'physics': 80, 'math': 90, 'chemistry': 86}\n",
    "print(\"Disctionary \" ,klist)\n",
    "print_first_key(klist)"
   ]
  },
  {
   "cell_type": "code",
   "execution_count": null,
   "metadata": {},
   "outputs": [],
   "source": []
  }
 ],
 "metadata": {
  "kernelspec": {
   "display_name": "Python 3",
   "language": "python",
   "name": "python3"
  },
  "language_info": {
   "codemirror_mode": {
    "name": "ipython",
    "version": 3
   },
   "file_extension": ".py",
   "mimetype": "text/x-python",
   "name": "python",
   "nbconvert_exporter": "python",
   "pygments_lexer": "ipython3",
   "version": "3.6.4"
  }
 },
 "nbformat": 4,
 "nbformat_minor": 4
}
