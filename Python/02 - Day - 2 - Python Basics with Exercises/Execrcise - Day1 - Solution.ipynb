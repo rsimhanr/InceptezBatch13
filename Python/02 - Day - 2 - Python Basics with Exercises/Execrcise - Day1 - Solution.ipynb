{
 "cells": [
  {
   "cell_type": "markdown",
   "metadata": {},
   "source": [
    "## Exercise Question 1: Given an input list removes the element at index 4 and add it to the 2nd position and also, at the end of the list\n",
    "\n",
    "For example: List = [54, 44, 27, 79, 91, 41]"
   ]
  },
  {
   "cell_type": "code",
   "execution_count": 1,
   "metadata": {},
   "outputs": [
    {
     "name": "stdout",
     "output_type": "stream",
     "text": [
      "Original list  [34, 54, 67, 89, 11, 43, 94]\n",
      "List After removing element at index 4  [34, 54, 67, 89, 43, 94]\n",
      "List after Adding element at index 2  [34, 54, 11, 67, 89, 43, 94]\n",
      "List after Adding element at last  [34, 54, 11, 67, 89, 43, 94, 11]\n"
     ]
    }
   ],
   "source": [
    "sampleList = [34, 54, 67, 89, 11, 43, 94]\n",
    "\n",
    "print(\"Original list \", sampleList)\n",
    "element = sampleList.pop(4)\n",
    "print(\"List After removing element at index 4 \", sampleList)\n",
    "\n",
    "sampleList.insert(2, element)\n",
    "print(\"List after Adding element at index 2 \", sampleList)\n",
    "\n",
    "sampleList.append(element)\n",
    "print(\"List after Adding element at last \", sampleList)"
   ]
  },
  {
   "cell_type": "markdown",
   "metadata": {},
   "source": [
    "## Exercise Question 2: Given a two list of equal size create a list of unique elements from both the lists into a seperate list"
   ]
  },
  {
   "cell_type": "code",
   "execution_count": 10,
   "metadata": {
    "scrolled": true
   },
   "outputs": [
    {
     "name": "stdout",
     "output_type": "stream",
     "text": [
      "First List  [2, 3, 4, 5, 6, 7, 8]\n",
      "Second List  [4, 9, 16, 25, 36, 49, 64]\n",
      "[64, 2, 3, 4, 5, 6, 7, 8, 9, 36, 16, 49, 25]\n"
     ]
    }
   ],
   "source": [
    "firstList = [2, 3, 4, 5, 6, 7, 8]\n",
    "print(\"First List \", firstList)\n",
    "\n",
    "secondList = [4, 9, 16, 25, 36, 49, 64]\n",
    "print(\"Second List \", secondList)\n",
    "\n",
    "firstList.extend(secondList)\n",
    "resultSet = set(firstList)\n",
    "resultSet = list(resultSet)\n",
    "print(resultSet)"
   ]
  },
  {
   "cell_type": "markdown",
   "metadata": {},
   "source": [
    "## Exercise Question 3: Remove duplicate from a list and create a tuple and find the minimum and maximum number (Hint: Try Functions Min() and Max() ) "
   ]
  },
  {
   "cell_type": "code",
   "execution_count": 11,
   "metadata": {},
   "outputs": [
    {
     "name": "stdout",
     "output_type": "stream",
     "text": [
      "Original list [87, 52, 44, 53, 54, 87, 52, 53]\n",
      "unique list [44, 52, 53, 54, 87]\n",
      "tuple  (44, 52, 53, 54, 87)\n",
      "Minimum number is:  44\n",
      "Maximum number is:  87\n"
     ]
    }
   ],
   "source": [
    "sampleList = [87, 52, 44, 53, 54, 87, 52, 53]\n",
    "\n",
    "print(\"Original list\", sampleList)\n",
    "\n",
    "sampleList = list(set(sampleList))\n",
    "print(\"unique list\", sampleList)\n",
    "\n",
    "tuple = tuple(sampleList)\n",
    "print(\"tuple \", tuple)\n",
    "\n",
    "print(\"Minimum number is: \", min(tuple))\n",
    "print(\"Maximum number is: \", max(tuple))"
   ]
  },
  {
   "cell_type": "markdown",
   "metadata": {},
   "source": [
    "## Exercise Question 4: Display the each word in the string Count the number of words in a string and display it (Including the white spaces) "
   ]
  },
  {
   "cell_type": "code",
   "execution_count": 19,
   "metadata": {},
   "outputs": [
    {
     "name": "stdout",
     "output_type": "stream",
     "text": [
      "w h a t ' s   u p ?\n"
     ]
    }
   ],
   "source": [
    "#Printing each words seperately \n",
    "a = \"what's up?\"\n",
    "print(*a)"
   ]
  },
  {
   "cell_type": "code",
   "execution_count": 18,
   "metadata": {},
   "outputs": [
    {
     "name": "stdout",
     "output_type": "stream",
     "text": [
      "The sample string: Welcome to Python\n",
      "Printing each words seperately:  W e l c o m e   t o   P y t h o n\n",
      "The Length of the string 17\n"
     ]
    }
   ],
   "source": [
    "input_val = \"Welcome to Python\"\n",
    "print(\"The sample string:\",input_val)\n",
    "\n",
    "words = list(input_val)\n",
    "print(\"Printing each words seperately: \", *words)\n",
    "print(\"The Length of the string\",len(input_val))"
   ]
  },
  {
   "cell_type": "markdown",
   "metadata": {},
   "source": [
    "##  Exercise Question 5: Write a Python program to access dictionary keys element by index. i.e. Use indexing methods to print the first key"
   ]
  },
  {
   "cell_type": "code",
   "execution_count": 27,
   "metadata": {},
   "outputs": [
    {
     "name": "stdout",
     "output_type": "stream",
     "text": [
      "The dictionary is:  {'physics': 80, 'math': 90, 'chemistry': 86}\n",
      "The key element accesed by index:  physics\n"
     ]
    }
   ],
   "source": [
    "num = {'physics': 80, 'math': 90, 'chemistry': 86}\n",
    "print(\"The dictionary is: \", num)\n",
    "\n",
    "print(\"The key element accesed by index: \",list(num)[0])"
   ]
  },
  {
   "cell_type": "code",
   "execution_count": null,
   "metadata": {},
   "outputs": [],
   "source": []
  }
 ],
 "metadata": {
  "kernelspec": {
   "display_name": "Python 3",
   "language": "python",
   "name": "python3"
  },
  "language_info": {
   "codemirror_mode": {
    "name": "ipython",
    "version": 3
   },
   "file_extension": ".py",
   "mimetype": "text/x-python",
   "name": "python",
   "nbconvert_exporter": "python",
   "pygments_lexer": "ipython3",
   "version": "3.7.0"
  }
 },
 "nbformat": 4,
 "nbformat_minor": 4
}
