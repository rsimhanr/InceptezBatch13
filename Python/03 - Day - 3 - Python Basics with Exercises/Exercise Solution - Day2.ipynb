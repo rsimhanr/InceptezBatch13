{
 "cells": [
  {
   "cell_type": "markdown",
   "metadata": {},
   "source": [
    "### The questions for the exercises are given above the cells and the expected output is given below the cell. Please type the code inserting a new cell below the question because if you run the expected output cell the output would vanish! Happy learning! "
   ]
  },
  {
   "cell_type": "markdown",
   "metadata": {},
   "source": [
    "## 1. Write a Python program to find those numbers which are divisible by 7 and multiple of 5, between 1500 and 2700 (both included). "
   ]
  },
  {
   "cell_type": "code",
   "execution_count": 1,
   "metadata": {},
   "outputs": [
    {
     "name": "stdout",
     "output_type": "stream",
     "text": [
      "1505,1540,1575,1610,1645,1680,1715,1750,1785,1820,1855,1890,1925,1960,1995,2030,2065,2100,2135,2170,2205,2240,2275,2310,2345,2380,2415,2450,2485,2520,2555,2590,2625,2660,2695\n"
     ]
    }
   ],
   "source": []
  },
  {
   "cell_type": "code",
   "execution_count": 11,
   "metadata": {},
   "outputs": [
    {
     "name": "stdout",
     "output_type": "stream",
     "text": [
      "1505,1540,1575,1610,1645,1680,1715,1750,1785,1820,1855,1890,1925,1960,1995,2030,2065,2100,2135,2170,2205,2240,2275,2310,2345,2380,2415,2450,2485,2520,2555,2590,2625,2660,2695,1505,1540,1575,1610,1645,1680,1715,1750,1785,1820,1855,1890,1925,1960,1995,2030,2065,2100,2135,2170,2205,2240,2275,2310,2345,2380,2415,2450,2485,2520,2555,2590,2625,2660,2695,"
     ]
    }
   ],
   "source": [
    "#Python program to find those numbers which are divisible by 7 and multiple of 5, \n",
    "#between 1500 and 2700 (both included)def number_by7_into5():\n",
    "def number_by7_into5():\n",
    "    for i in range(1500,2701):\n",
    "        if not i%7 and not i%5:\n",
    "            print(i, end=\",\" )\n",
    "\n",
    "number_by7_into5()"
   ]
  },
  {
   "cell_type": "markdown",
   "metadata": {},
   "source": [
    "##### 2. Write a Python program to construct the following pattern, using a nested for loop.\n"
   ]
  },
  {
   "cell_type": "code",
   "execution_count": 3,
   "metadata": {},
   "outputs": [
    {
     "name": "stdout",
     "output_type": "stream",
     "text": [
      "\n",
      "* \n",
      "* * \n",
      "* * * \n",
      "* * * * \n",
      "* * * * * \n",
      "* * * * \n",
      "* * * \n",
      "* * \n",
      "* \n"
     ]
    }
   ],
   "source": []
  },
  {
   "cell_type": "code",
   "execution_count": 1,
   "metadata": {},
   "outputs": [
    {
     "name": "stdout",
     "output_type": "stream",
     "text": [
      "* \n",
      "* * \n",
      "* * * \n",
      "* * * * \n",
      "* * * * * \n",
      "* * * * \n",
      "* * * \n",
      "* * \n",
      "* \n"
     ]
    }
   ],
   "source": [
    "#Python program to construct the following pattern, using a nested for loop.\n",
    "def print_triangle(n,invert=0):\n",
    "    n1,n2,n3 = 0,n,1\n",
    "   \n",
    "    if invert:\n",
    "        n1,n2,n3 = n-1,-1,-1\n",
    "     \n",
    "    for i in range(n1,n2,n3):\n",
    "        star = \"\"\n",
    "        for i in range(0,i+1):\n",
    "            star+=\"* \"\n",
    "        print(star)\n",
    "def print_pattern(n):\n",
    "    \n",
    "    print_triangle(n)\n",
    "    print_triangle(n-1,1)\n",
    "    \n",
    "\n",
    "print_pattern(5)"
   ]
  },
  {
   "cell_type": "markdown",
   "metadata": {},
   "source": [
    "### 3. Write a Python program to count the number of even and odd numbers from a series of numbers."
   ]
  },
  {
   "cell_type": "code",
   "execution_count": 59,
   "metadata": {},
   "outputs": [
    {
     "name": "stdout",
     "output_type": "stream",
     "text": [
      "Even number count : 5\n",
      "Odd number count : 4\n"
     ]
    }
   ],
   "source": [
    "\n",
    "        "
   ]
  },
  {
   "cell_type": "code",
   "execution_count": 67,
   "metadata": {},
   "outputs": [
    {
     "name": "stdout",
     "output_type": "stream",
     "text": [
      "Even number count : 5\n",
      "Odd number count : 4\n"
     ]
    }
   ],
   "source": [
    "#Python program to count the number of even and odd numbers from a series of numbers.\n",
    "def count_odd_even(series):\n",
    "    even = 0\n",
    "    odd = 0\n",
    "    for i in series:\n",
    "        if not i%2:\n",
    "            even+=1\n",
    "        else:\n",
    "            odd+=1\n",
    "    \n",
    "    print(\"Even number count :\", even)\n",
    "    print(\"Odd number count :\", odd)\n",
    "\n",
    "count_odd_even(range(0,9))"
   ]
  },
  {
   "cell_type": "markdown",
   "metadata": {},
   "source": [
    "## 4. Write a Python program to find numbers between 100 and 400 (both included) where each digit of a number is an even number. The numbers obtained should be printed in a comma-separated sequence."
   ]
  },
  {
   "cell_type": "code",
   "execution_count": 65,
   "metadata": {},
   "outputs": [
    {
     "name": "stdout",
     "output_type": "stream",
     "text": [
      "200,202,204,206,208,220,222,224,226,228,240,242,244,246,248,260,262,264,266,268,280,282,284,286,288,400,"
     ]
    }
   ],
   "source": [
    "\n"
   ]
  },
  {
   "cell_type": "code",
   "execution_count": 66,
   "metadata": {},
   "outputs": [
    {
     "name": "stdout",
     "output_type": "stream",
     "text": [
      "200,202,204,206,208,220,222,224,226,228,240,242,244,246,248,260,262,264,266,268,280,282,284,286,288,400,"
     ]
    }
   ],
   "source": [
    "#Python program to find numbers between 100 and 400 (both included) where each digit of a number is an even number. \n",
    "#The numbers obtained should be printed in a comma-separated sequence.\n",
    "def find_even_no(series):\n",
    "    \n",
    "    for i in series:\n",
    "        even = False\n",
    "        if not i%2:\n",
    "            for j in str(i):\n",
    "                if not int(j)%2:\n",
    "                    even = True\n",
    "                else:\n",
    "                    even = False\n",
    "                    break\n",
    "        if even:\n",
    "            print(i, end=\",\")\n",
    "\n",
    "find_even_no(range(100,401))"
   ]
  },
  {
   "cell_type": "markdown",
   "metadata": {},
   "source": [
    "## 5. Write a Python program to calculate a dog's age in dog's years. Go to the editor\n",
    "Note: For the first two years, a dog year is equal to 10.5 human years. After that, each dog year equals 4 human years."
   ]
  },
  {
   "cell_type": "code",
   "execution_count": 7,
   "metadata": {},
   "outputs": [
    {
     "name": "stdout",
     "output_type": "stream",
     "text": [
      "Input a dog's age in human years: 20\n",
      "The dog's age in dog's years is 93\n"
     ]
    }
   ],
   "source": []
  },
  {
   "cell_type": "code",
   "execution_count": 73,
   "metadata": {},
   "outputs": [
    {
     "name": "stdout",
     "output_type": "stream",
     "text": [
      "Input a dog's age in human years: 20\n",
      "The dog's age in dog's years is  93\n"
     ]
    }
   ],
   "source": [
    "#Python program to calculate a dog's age in dog's years\n",
    "def dog_age_dog_in_year():\n",
    "    n = int(input(\"Input a dog's age in human years: \"))\n",
    "    if n<=2:\n",
    "        dog_year = n*10.5\n",
    "    else:\n",
    "        dog_year = ((n-2)*4)+21\n",
    "    print(\"The dog's age in dog's years is \", dog_year)\n",
    "\n",
    "dog_age_dog_in_year()"
   ]
  },
  {
   "cell_type": "markdown",
   "metadata": {},
   "source": [
    "## 6. Write a Python function to find the Max of three numbers."
   ]
  },
  {
   "cell_type": "code",
   "execution_count": 5,
   "metadata": {},
   "outputs": [
    {
     "name": "stdout",
     "output_type": "stream",
     "text": [
      "The Three numbers are: (3, 6, -5)\n"
     ]
    },
    {
     "data": {
      "text/plain": [
       "6"
      ]
     },
     "execution_count": 5,
     "metadata": {},
     "output_type": "execute_result"
    }
   ],
   "source": []
  },
  {
   "cell_type": "code",
   "execution_count": 6,
   "metadata": {},
   "outputs": [
    {
     "name": "stdout",
     "output_type": "stream",
     "text": [
      "The Three numbers are: (3, 6, -5)\n"
     ]
    },
    {
     "data": {
      "text/plain": [
       "6"
      ]
     },
     "execution_count": 6,
     "metadata": {},
     "output_type": "execute_result"
    }
   ],
   "source": [
    "def maxof(n):\n",
    "    max = \"\"\n",
    "    if n[0] > n[1]:\n",
    "        max = n[0]\n",
    "    elif n[1] > n[2]:\n",
    "        max = n[1]\n",
    "    else:\n",
    "        max = n[2]\n",
    "    \n",
    "    print(\"The Three numbers are:\", tuple(n))\n",
    "    return(max)\n",
    "\n",
    "maxof([3,6,-5])"
   ]
  },
  {
   "cell_type": "markdown",
   "metadata": {},
   "source": [
    "## 7. Write a Python function that takes a number as a parameter and check the number is prime or not."
   ]
  },
  {
   "cell_type": "code",
   "execution_count": 11,
   "metadata": {},
   "outputs": [
    {
     "name": "stdout",
     "output_type": "stream",
     "text": [
      "The number is: 9\n",
      "False\n"
     ]
    }
   ],
   "source": []
  },
  {
   "cell_type": "code",
   "execution_count": 9,
   "metadata": {},
   "outputs": [
    {
     "name": "stdout",
     "output_type": "stream",
     "text": [
      "The number is:  9\n"
     ]
    },
    {
     "data": {
      "text/plain": [
       "False"
      ]
     },
     "execution_count": 9,
     "metadata": {},
     "output_type": "execute_result"
    }
   ],
   "source": [
    "#Python function that takes a number as a parameter and check the number is prime or not.\n",
    "def isprime(n):\n",
    "    print(\"The number is: \",n)\n",
    "    \n",
    "    if n>1:\n",
    "        for i in range(2,n):\n",
    "            if not n%1:\n",
    "                return(False)\n",
    "        return(True)\n",
    "    else:\n",
    "        print(\"The number must be >1\")\n",
    "        return(False)\n",
    "\n",
    "isprime(9)"
   ]
  },
  {
   "cell_type": "markdown",
   "metadata": {},
   "source": [
    "## 8. Write a Python function that accepts a string and calculate the number of upper case letters and lower case letters. Go to the editor\n"
   ]
  },
  {
   "cell_type": "code",
   "execution_count": 13,
   "metadata": {},
   "outputs": [
    {
     "name": "stdout",
     "output_type": "stream",
     "text": [
      "Original String :  Inceptz is One of The BeSt Places TO LEarn DataSciEnce\n",
      "No. of Upper case characters :  13\n",
      "No. of Lower case Characters :  32\n"
     ]
    }
   ],
   "source": []
  },
  {
   "cell_type": "code",
   "execution_count": 10,
   "metadata": {},
   "outputs": [
    {
     "name": "stdout",
     "output_type": "stream",
     "text": [
      "Original String :  Inceptz is One of The BeSt Places TO LEarn DataSciEnce\n",
      "No. of Upper case characters : 13\n",
      "No. of Lower case Characters : 32\n"
     ]
    }
   ],
   "source": [
    "#Python function that accepts a string and calculate the number of upper case letters and lower case letters.\n",
    "def count_uplow(s):\n",
    "    print(\"Original String : \",s)\n",
    "    up = 0\n",
    "    low = 0\n",
    "    for c in s:\n",
    "        if c.isupper():\n",
    "            up+=1\n",
    "        elif c.islower():\n",
    "            low+=1\n",
    "    print(\"No. of Upper case characters :\", up)\n",
    "    print(\"No. of Lower case Characters :\", low)\n",
    "\n",
    "s = \"Inceptz is One of The BeSt Places TO LEarn DataSciEnce\"\n",
    "count_uplow(s)"
   ]
  },
  {
   "cell_type": "markdown",
   "metadata": {},
   "source": [
    "## 9. Write a Python program to reverse a string. "
   ]
  },
  {
   "cell_type": "code",
   "execution_count": 19,
   "metadata": {},
   "outputs": [
    {
     "name": "stdout",
     "output_type": "stream",
     "text": [
      "The original string is: 1234abcd\n",
      "The reversed string: dcba4321\n"
     ]
    }
   ],
   "source": []
  },
  {
   "cell_type": "code",
   "execution_count": 12,
   "metadata": {},
   "outputs": [
    {
     "name": "stdout",
     "output_type": "stream",
     "text": [
      "The original string is: 1234abcd\n",
      "The reversed string:  dcba4321\n"
     ]
    }
   ],
   "source": [
    "#Python program to reverse a string\n",
    "def reverse(s):\n",
    "    rs = \"\"\n",
    "    for i in range(len(s)-1,-1,-1):\n",
    "        rs+=s[i]\n",
    "    print(\"The original string is:\", s)\n",
    "    print(\"The reversed string: \", rs)\n",
    "\n",
    "s = \"1234abcd\"\n",
    "reverse(s)"
   ]
  },
  {
   "cell_type": "markdown",
   "metadata": {},
   "source": [
    "## 10. Write a Python program to find  the greatest common divisor (gcd) of two integers."
   ]
  },
  {
   "cell_type": "code",
   "execution_count": 18,
   "metadata": {},
   "outputs": [
    {
     "name": "stdout",
     "output_type": "stream",
     "text": [
      "The two numbers are: (12, 14)\n",
      "The GCD of the numbers are: 2\n"
     ]
    }
   ],
   "source": []
  },
  {
   "cell_type": "code",
   "execution_count": 46,
   "metadata": {},
   "outputs": [
    {
     "name": "stdout",
     "output_type": "stream",
     "text": [
      "The two numbers are: (12, 14)\n",
      "The GCD of the numbers are:  2\n"
     ]
    }
   ],
   "source": [
    "#Python program to find the greatest common divisor (gcd) of two integers\n",
    "def gcd(n,m):\n",
    "    \n",
    "    if n>m:\n",
    "        r = n%m\n",
    "        s=m\n",
    "    elif m>n:\n",
    "        r = m%n\n",
    "        s=n\n",
    "    else:\n",
    "        r = 0\n",
    "        s=m\n",
    "       \n",
    "    if r == 0:\n",
    "        print(\"The GCD of the numbers are: \",s)\n",
    "        return(s)\n",
    "    gcd(r,s)\n",
    "\n",
    "n = 12\n",
    "m = 14\n",
    "print(\"The two numbers are:\", (n,m))\n",
    "gcd(n,m)"
   ]
  },
  {
   "cell_type": "code",
   "execution_count": null,
   "metadata": {},
   "outputs": [],
   "source": []
  }
 ],
 "metadata": {
  "kernelspec": {
   "display_name": "Python 3",
   "language": "python",
   "name": "python3"
  },
  "language_info": {
   "codemirror_mode": {
    "name": "ipython",
    "version": 3
   },
   "file_extension": ".py",
   "mimetype": "text/x-python",
   "name": "python",
   "nbconvert_exporter": "python",
   "pygments_lexer": "ipython3",
   "version": "3.6.4"
  }
 },
 "nbformat": 4,
 "nbformat_minor": 4
}
